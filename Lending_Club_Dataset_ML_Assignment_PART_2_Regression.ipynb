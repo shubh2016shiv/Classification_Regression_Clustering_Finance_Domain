{
  "cells": [
    {
      "cell_type": "markdown",
      "metadata": {
        "id": "view-in-github",
        "colab_type": "text"
      },
      "source": [
        "<a href=\"https://colab.research.google.com/github/shubh2016shiv/Machine-Learning-Project-in-Finance-Domain/blob/main/Lending_Club_Dataset_ML_Assignment_PART_2_Regression.ipynb\" target=\"_parent\"><img src=\"https://colab.research.google.com/assets/colab-badge.svg\" alt=\"Open In Colab\"/></a>"
      ]
    },
    {
      "cell_type": "markdown",
      "source": [
        "## Installation of some important python libraries"
      ],
      "metadata": {
        "id": "A2rcj0VN7myX"
      }
    },
    {
      "cell_type": "code",
      "source": [
        "!pip install --upgrade --q --no-cache-dir gdown\n",
        "!gdown 1KSyN27_9wC69tdUdPNRzvzxwI_32PnKb"
      ],
      "metadata": {
        "colab": {
          "base_uri": "https://localhost:8080/"
        },
        "id": "unQ5stnp7jwg",
        "outputId": "f4978b27-0299-41f9-ba04-4414f8eb793b"
      },
      "execution_count": null,
      "outputs": [
        {
          "output_type": "stream",
          "name": "stdout",
          "text": [
            "Downloading...\n",
            "From: https://drive.google.com/uc?id=1KSyN27_9wC69tdUdPNRzvzxwI_32PnKb\n",
            "To: /content/requirements.txt\n",
            "\r  0% 0.00/333 [00:00<?, ?B/s]\r100% 333/333 [00:00<00:00, 339kB/s]\n"
          ]
        }
      ]
    },
    {
      "cell_type": "code",
      "execution_count": null,
      "metadata": {
        "colab": {
          "base_uri": "https://localhost:8080/"
        },
        "id": "6w42sZfYde78",
        "outputId": "4cff4379-bdec-4c7b-dcf7-f7de346e2c55"
      },
      "outputs": [
        {
          "output_type": "stream",
          "name": "stdout",
          "text": [
            "\u001b[2K     \u001b[90m━━━━━━━━━━━━━━━━━━━━━━━━━━━━━━━━━━━━━━━\u001b[0m \u001b[32m288.6/288.6 KB\u001b[0m \u001b[31m5.0 MB/s\u001b[0m eta \u001b[36m0:00:00\u001b[0m\n",
            "\u001b[2K     \u001b[90m━━━━━━━━━━━━━━━━━━━━━━━━━━━━━━━━━━━━━━━━\u001b[0m \u001b[32m15.5/15.5 MB\u001b[0m \u001b[31m29.3 MB/s\u001b[0m eta \u001b[36m0:00:00\u001b[0m\n",
            "\u001b[2K     \u001b[90m━━━━━━━━━━━━━━━━━━━━━━━━━━━━━━━━━━━━━━━━\u001b[0m \u001b[32m1.3/1.3 MB\u001b[0m \u001b[31m41.1 MB/s\u001b[0m eta \u001b[36m0:00:00\u001b[0m\n",
            "\u001b[2K     \u001b[90m━━━━━━━━━━━━━━━━━━━━━━━━━━━━━━━━━━━━━━━━\u001b[0m \u001b[32m3.4/3.4 MB\u001b[0m \u001b[31m43.8 MB/s\u001b[0m eta \u001b[36m0:00:00\u001b[0m\n",
            "\u001b[2K     \u001b[90m━━━━━━━━━━━━━━━━━━━━━━━━━━━━━━━━━━━━━━━\u001b[0m \u001b[32m381.5/381.5 KB\u001b[0m \u001b[31m5.2 MB/s\u001b[0m eta \u001b[36m0:00:00\u001b[0m\n",
            "\u001b[2K     \u001b[90m━━━━━━━━━━━━━━━━━━━━━━━━━━━━━━━━━━━━━━━━\u001b[0m \u001b[32m76.3/76.3 MB\u001b[0m \u001b[31m5.2 MB/s\u001b[0m eta \u001b[36m0:00:00\u001b[0m\n",
            "\u001b[2K     \u001b[90m━━━━━━━━━━━━━━━━━━━━━━━━━━━━━━━━━━━━━━━\u001b[0m \u001b[32m180.2/180.2 KB\u001b[0m \u001b[31m6.5 MB/s\u001b[0m eta \u001b[36m0:00:00\u001b[0m\n",
            "\u001b[2K     \u001b[90m━━━━━━━━━━━━━━━━━━━━━━━━━━━━━━━━━━━━━━━━\u001b[0m \u001b[32m2.0/2.0 MB\u001b[0m \u001b[31m9.6 MB/s\u001b[0m eta \u001b[36m0:00:00\u001b[0m\n",
            "\u001b[2K     \u001b[90m━━━━━━━━━━━━━━━━━━━━━━━━━━━━━━━━━━━━━━━━\u001b[0m \u001b[32m11.3/11.3 MB\u001b[0m \u001b[31m41.7 MB/s\u001b[0m eta \u001b[36m0:00:00\u001b[0m\n",
            "\u001b[2K     \u001b[90m━━━━━━━━━━━━━━━━━━━━━━━━━━━━━━━━━━━━━━━\u001b[0m \u001b[32m261.2/261.2 KB\u001b[0m \u001b[31m6.9 MB/s\u001b[0m eta \u001b[36m0:00:00\u001b[0m\n",
            "\u001b[2K     \u001b[90m━━━━━━━━━━━━━━━━━━━━━━━━━━━━━━━━━━━━━━━━\u001b[0m \u001b[32m6.8/6.8 MB\u001b[0m \u001b[31m21.6 MB/s\u001b[0m eta \u001b[36m0:00:00\u001b[0m\n",
            "\u001b[2K     \u001b[90m━━━━━━━━━━━━━━━━━━━━━━━━━━━━━━━━━━━━━━━━\u001b[0m \u001b[32m25.8/25.8 MB\u001b[0m \u001b[31m11.7 MB/s\u001b[0m eta \u001b[36m0:00:00\u001b[0m\n",
            "\u001b[2K     \u001b[90m━━━━━━━━━━━━━━━━━━━━━━━━━━━━━━━━━━━━━━━\u001b[0m \u001b[32m571.1/571.1 KB\u001b[0m \u001b[31m8.0 MB/s\u001b[0m eta \u001b[36m0:00:00\u001b[0m\n",
            "\u001b[2K     \u001b[90m━━━━━━━━━━━━━━━━━━━━━━━━━━━━━━━━━━━━━━━━\u001b[0m \u001b[32m14.9/14.9 MB\u001b[0m \u001b[31m22.4 MB/s\u001b[0m eta \u001b[36m0:00:00\u001b[0m\n",
            "\u001b[2K     \u001b[90m━━━━━━━━━━━━━━━━━━━━━━━━━━━━━━━━━━━━━━━\u001b[0m \u001b[32m147.7/147.7 KB\u001b[0m \u001b[31m5.6 MB/s\u001b[0m eta \u001b[36m0:00:00\u001b[0m\n",
            "\u001b[?25h  Preparing metadata (setup.py) ... \u001b[?25l\u001b[?25hdone\n",
            "\u001b[2K     \u001b[90m━━━━━━━━━━━━━━━━━━━━━━━━━━━━━━━━━━━━━━━━\u001b[0m \u001b[32m56.6/56.6 KB\u001b[0m \u001b[31m4.4 MB/s\u001b[0m eta \u001b[36m0:00:00\u001b[0m\n",
            "\u001b[2K     \u001b[90m━━━━━━━━━━━━━━━━━━━━━━━━━━━━━━━━━━━━━━\u001b[0m \u001b[32m167.1/167.1 KB\u001b[0m \u001b[31m15.3 MB/s\u001b[0m eta \u001b[36m0:00:00\u001b[0m\n",
            "\u001b[2K     \u001b[90m━━━━━━━━━━━━━━━━━━━━━━━━━━━━━━━━━━━━━━━━\u001b[0m \u001b[32m5.0/5.0 MB\u001b[0m \u001b[31m41.7 MB/s\u001b[0m eta \u001b[36m0:00:00\u001b[0m\n",
            "\u001b[2K     \u001b[90m━━━━━━━━━━━━━━━━━━━━━━━━━━━━━━━━━━━━━━━━\u001b[0m \u001b[32m1.7/1.7 MB\u001b[0m \u001b[31m42.9 MB/s\u001b[0m eta \u001b[36m0:00:00\u001b[0m\n",
            "\u001b[?25h  Installing build dependencies ... \u001b[?25l\u001b[?25hdone\n",
            "  Getting requirements to build wheel ... \u001b[?25l\u001b[?25hdone\n",
            "  Installing backend dependencies ... \u001b[?25l\u001b[?25hdone\n",
            "  Preparing metadata (pyproject.toml) ... \u001b[?25l\u001b[?25hdone\n",
            "\u001b[2K     \u001b[90m━━━━━━━━━━━━━━━━━━━━━━━━━━━━━━━━━━━━━━━━\u001b[0m \u001b[32m88.2/88.2 KB\u001b[0m \u001b[31m9.1 MB/s\u001b[0m eta \u001b[36m0:00:00\u001b[0m\n",
            "\u001b[?25h  Preparing metadata (setup.py) ... \u001b[?25l\u001b[?25hdone\n",
            "\u001b[2K     \u001b[90m━━━━━━━━━━━━━━━━━━━━━━━━━━━━━━━━━━━━━━━━\u001b[0m \u001b[32m82.3/82.3 KB\u001b[0m \u001b[31m7.8 MB/s\u001b[0m eta \u001b[36m0:00:00\u001b[0m\n",
            "\u001b[?25h  Preparing metadata (setup.py) ... \u001b[?25l\u001b[?25hdone\n",
            "\u001b[2K     \u001b[90m━━━━━━━━━━━━━━━━━━━━━━━━━━━━━━━━━━━━━━━━\u001b[0m \u001b[32m1.1/1.1 MB\u001b[0m \u001b[31m48.6 MB/s\u001b[0m eta \u001b[36m0:00:00\u001b[0m\n",
            "\u001b[?25h  Preparing metadata (setup.py) ... \u001b[?25l\u001b[?25hdone\n",
            "\u001b[2K     \u001b[90m━━━━━━━━━━━━━━━━━━━━━━━━━━━━━━━━━━━━━━━━\u001b[0m \u001b[32m79.5/79.5 KB\u001b[0m \u001b[31m8.3 MB/s\u001b[0m eta \u001b[36m0:00:00\u001b[0m\n",
            "\u001b[2K     \u001b[90m━━━━━━━━━━━━━━━━━━━━━━━━━━━━━━━━━━━━━━\u001b[0m \u001b[32m184.0/184.0 KB\u001b[0m \u001b[31m16.6 MB/s\u001b[0m eta \u001b[36m0:00:00\u001b[0m\n",
            "\u001b[2K     \u001b[90m━━━━━━━━━━━━━━━━━━━━━━━━━━━━━━━━━━━━━━\u001b[0m \u001b[32m147.5/147.5 KB\u001b[0m \u001b[31m13.0 MB/s\u001b[0m eta \u001b[36m0:00:00\u001b[0m\n",
            "\u001b[2K     \u001b[90m━━━━━━━━━━━━━━━━━━━━━━━━━━━━━━━━━━━━━━━━\u001b[0m \u001b[32m25.3/25.3 MB\u001b[0m \u001b[31m57.0 MB/s\u001b[0m eta \u001b[36m0:00:00\u001b[0m\n",
            "\u001b[2K     \u001b[90m━━━━━━━━━━━━━━━━━━━━━━━━━━━━━━━━━━━━━━\u001b[0m \u001b[32m965.4/965.4 KB\u001b[0m \u001b[31m49.2 MB/s\u001b[0m eta \u001b[36m0:00:00\u001b[0m\n",
            "\u001b[2K     \u001b[90m━━━━━━━━━━━━━━━━━━━━━━━━━━━━━━━━━━━━━━\u001b[0m \u001b[32m303.1/303.1 KB\u001b[0m \u001b[31m18.7 MB/s\u001b[0m eta \u001b[36m0:00:00\u001b[0m\n",
            "\u001b[?25h  Preparing metadata (setup.py) ... \u001b[?25l\u001b[?25hdone\n",
            "\u001b[2K     \u001b[90m━━━━━━━━━━━━━━━━━━━━━━━━━━━━━━━━━━━━━━━\u001b[0m \u001b[32m102.4/102.4 KB\u001b[0m \u001b[31m9.9 MB/s\u001b[0m eta \u001b[36m0:00:00\u001b[0m\n",
            "\u001b[2K     \u001b[90m━━━━━━━━━━━━━━━━━━━━━━━━━━━━━━━━━━━━━━\u001b[0m \u001b[32m679.5/679.5 KB\u001b[0m \u001b[31m41.0 MB/s\u001b[0m eta \u001b[36m0:00:00\u001b[0m\n",
            "\u001b[2K     \u001b[90m━━━━━━━━━━━━━━━━━━━━━━━━━━━━━━━━━━━━━━━━\u001b[0m \u001b[32m3.1/3.1 MB\u001b[0m \u001b[31m75.3 MB/s\u001b[0m eta \u001b[36m0:00:00\u001b[0m\n",
            "\u001b[2K     \u001b[90m━━━━━━━━━━━━━━━━━━━━━━━━━━━━━━━━━━━━━━\u001b[0m \u001b[32m296.5/296.5 KB\u001b[0m \u001b[31m24.4 MB/s\u001b[0m eta \u001b[36m0:00:00\u001b[0m\n",
            "\u001b[2K     \u001b[90m━━━━━━━━━━━━━━━━━━━━━━━━━━━━━━━━━━━━━━━━\u001b[0m \u001b[32m78.7/78.7 KB\u001b[0m \u001b[31m6.7 MB/s\u001b[0m eta \u001b[36m0:00:00\u001b[0m\n",
            "\u001b[2K     \u001b[90m━━━━━━━━━━━━━━━━━━━━━━━━━━━━━━━━━━━━━━━━\u001b[0m \u001b[32m62.8/62.8 KB\u001b[0m \u001b[31m6.0 MB/s\u001b[0m eta \u001b[36m0:00:00\u001b[0m\n",
            "\u001b[2K     \u001b[90m━━━━━━━━━━━━━━━━━━━━━━━━━━━━━━━━━━━━━━\u001b[0m \u001b[32m140.6/140.6 KB\u001b[0m \u001b[31m12.5 MB/s\u001b[0m eta \u001b[36m0:00:00\u001b[0m\n",
            "\u001b[2K     \u001b[90m━━━━━━━━━━━━━━━━━━━━━━━━━━━━━━━━━━━━━━━━\u001b[0m \u001b[32m55.3/55.3 KB\u001b[0m \u001b[31m5.1 MB/s\u001b[0m eta \u001b[36m0:00:00\u001b[0m\n",
            "\u001b[2K     \u001b[90m━━━━━━━━━━━━━━━━━━━━━━━━━━━━━━━━━━━━━━━━\u001b[0m \u001b[32m62.7/62.7 KB\u001b[0m \u001b[31m4.7 MB/s\u001b[0m eta \u001b[36m0:00:00\u001b[0m\n",
            "\u001b[2K     \u001b[90m━━━━━━━━━━━━━━━━━━━━━━━━━━━━━━━━━━━━━━━━\u001b[0m \u001b[32m1.6/1.6 MB\u001b[0m \u001b[31m47.0 MB/s\u001b[0m eta \u001b[36m0:00:00\u001b[0m\n",
            "\u001b[2K     \u001b[90m━━━━━━━━━━━━━━━━━━━━━━━━━━━━━━━━━━━━━━\u001b[0m \u001b[32m211.1/211.1 KB\u001b[0m \u001b[31m15.3 MB/s\u001b[0m eta \u001b[36m0:00:00\u001b[0m\n",
            "\u001b[2K     \u001b[90m━━━━━━━━━━━━━━━━━━━━━━━━━━━━━━━━━━━━━━━━\u001b[0m \u001b[32m1.1/1.1 MB\u001b[0m \u001b[31m51.6 MB/s\u001b[0m eta \u001b[36m0:00:00\u001b[0m\n",
            "\u001b[2K     \u001b[90m━━━━━━━━━━━━━━━━━━━━━━━━━━━━━━━━━━━━━━\u001b[0m \u001b[32m274.2/274.2 KB\u001b[0m \u001b[31m21.0 MB/s\u001b[0m eta \u001b[36m0:00:00\u001b[0m\n",
            "\u001b[2K     \u001b[90m━━━━━━━━━━━━━━━━━━━━━━━━━━━━━━━━━━━━━━\u001b[0m \u001b[32m271.4/271.4 KB\u001b[0m \u001b[31m20.4 MB/s\u001b[0m eta \u001b[36m0:00:00\u001b[0m\n",
            "\u001b[?25h  Preparing metadata (setup.py) ... \u001b[?25l\u001b[?25hdone\n",
            "\u001b[2K     \u001b[90m━━━━━━━━━━━━━━━━━━━━━━━━━━━━━━━━━━━━━━━━\u001b[0m \u001b[32m1.7/1.7 MB\u001b[0m \u001b[31m58.0 MB/s\u001b[0m eta \u001b[36m0:00:00\u001b[0m\n",
            "\u001b[?25h  Installing build dependencies ... \u001b[?25l\u001b[?25hdone\n",
            "  Getting requirements to build wheel ... \u001b[?25l\u001b[?25hdone\n",
            "  Installing backend dependencies ... \u001b[?25l\u001b[?25hdone\n",
            "  Preparing metadata (pyproject.toml) ... \u001b[?25l\u001b[?25hdone\n",
            "\u001b[2K     \u001b[90m━━━━━━━━━━━━━━━━━━━━━━━━━━━━━━━━━━━━━━━━\u001b[0m \u001b[32m1.7/1.7 MB\u001b[0m \u001b[31m61.2 MB/s\u001b[0m eta \u001b[36m0:00:00\u001b[0m\n",
            "\u001b[?25h  Preparing metadata (setup.py) ... \u001b[?25l\u001b[?25hdone\n",
            "\u001b[2K     \u001b[90m━━━━━━━━━━━━━━━━━━━━━━━━━━━━━━━━━━━━━━━━\u001b[0m \u001b[32m1.1/1.1 MB\u001b[0m \u001b[31m55.2 MB/s\u001b[0m eta \u001b[36m0:00:00\u001b[0m\n",
            "\u001b[?25h  Preparing metadata (setup.py) ... \u001b[?25l\u001b[?25hdone\n",
            "  Building wheel for alembic (setup.py) ... \u001b[?25l\u001b[?25hdone\n",
            "  Building wheel for databricks-cli (setup.py) ... \u001b[?25l\u001b[?25hdone\n",
            "  Building wheel for htmlmin (setup.py) ... \u001b[?25l\u001b[?25hdone\n",
            "  Building wheel for pyLDAvis (setup.py) ... \u001b[?25l\u001b[?25hdone\n",
            "  Building wheel for pyod (setup.py) ... \u001b[?25l\u001b[?25hdone\n",
            "  Building wheel for umap-learn (setup.py) ... \u001b[?25l\u001b[?25hdone\n",
            "  Building wheel for pynndescent (setup.py) ... \u001b[?25l\u001b[?25hdone\n",
            "\u001b[31mERROR: pip's dependency resolver does not currently take into account all the packages that are installed. This behaviour is the source of the following dependency conflicts.\n",
            "xarray 2022.12.0 requires numpy>=1.20, but you have numpy 1.19.5 which is incompatible.\n",
            "xarray-einstats 0.4.0 requires numpy>=1.20, but you have numpy 1.19.5 which is incompatible.\n",
            "xarray-einstats 0.4.0 requires scipy>=1.6, but you have scipy 1.5.4 which is incompatible.\n",
            "tensorflow 2.9.2 requires numpy>=1.20, but you have numpy 1.19.5 which is incompatible.\n",
            "jaxlib 0.3.25+cuda11.cudnn805 requires numpy>=1.20, but you have numpy 1.19.5 which is incompatible.\n",
            "jax 0.3.25 requires numpy>=1.20, but you have numpy 1.19.5 which is incompatible.\n",
            "en-core-web-sm 3.4.1 requires spacy<3.5.0,>=3.4.0, but you have spacy 2.3.9 which is incompatible.\n",
            "confection 0.0.3 requires srsly<3.0.0,>=2.4.0, but you have srsly 1.0.6 which is incompatible.\n",
            "cmdstanpy 1.0.8 requires numpy>=1.21, but you have numpy 1.19.5 which is incompatible.\u001b[0m\u001b[31m\n",
            "\u001b[0m"
          ]
        }
      ],
      "source": [
        "!pip install --q -r requirements.txt"
      ]
    },
    {
      "cell_type": "code",
      "execution_count": null,
      "metadata": {
        "colab": {
          "base_uri": "https://localhost:8080/"
        },
        "id": "-hKTIla4lVKH",
        "outputId": "2226ef67-1f88-4a0f-fd41-33a75db4789b"
      },
      "outputs": [
        {
          "output_type": "stream",
          "name": "stdout",
          "text": [
            "\u001b[2K     \u001b[90m━━━━━━━━━━━━━━━━━━━━━━━━━━━━━━━━━━━━━━━\u001b[0m \u001b[32m348.5/348.5 KB\u001b[0m \u001b[31m7.2 MB/s\u001b[0m eta \u001b[36m0:00:00\u001b[0m\n",
            "\u001b[2K     \u001b[90m━━━━━━━━━━━━━━━━━━━━━━━━━━━━━━━━━━━━━━━━\u001b[0m \u001b[32m81.0/81.0 KB\u001b[0m \u001b[31m8.5 MB/s\u001b[0m eta \u001b[36m0:00:00\u001b[0m\n",
            "\u001b[2K     \u001b[90m━━━━━━━━━━━━━━━━━━━━━━━━━━━━━━━━━━━━━━\u001b[0m \u001b[32m210.4/210.4 KB\u001b[0m \u001b[31m17.4 MB/s\u001b[0m eta \u001b[36m0:00:00\u001b[0m\n",
            "\u001b[2K     \u001b[90m━━━━━━━━━━━━━━━━━━━━━━━━━━━━━━━━━━━━━━━━\u001b[0m \u001b[32m41.6/41.6 MB\u001b[0m \u001b[31m31.1 MB/s\u001b[0m eta \u001b[36m0:00:00\u001b[0m\n",
            "\u001b[2K     \u001b[90m━━━━━━━━━━━━━━━━━━━━━━━━━━━━━━━━━━━━━━\u001b[0m \u001b[32m147.1/147.1 KB\u001b[0m \u001b[31m13.4 MB/s\u001b[0m eta \u001b[36m0:00:00\u001b[0m\n",
            "\u001b[2K     \u001b[90m━━━━━━━━━━━━━━━━━━━━━━━━━━━━━━━━━━━━━━━━\u001b[0m \u001b[32m50.0/50.0 KB\u001b[0m \u001b[31m4.0 MB/s\u001b[0m eta \u001b[36m0:00:00\u001b[0m\n",
            "\u001b[?25h  Preparing metadata (setup.py) ... \u001b[?25l\u001b[?25hdone\n",
            "\u001b[2K     \u001b[90m━━━━━━━━━━━━━━━━━━━━━━━━━━━━━━━━━━━━━━━\u001b[0m \u001b[32m112.7/112.7 KB\u001b[0m \u001b[31m8.5 MB/s\u001b[0m eta \u001b[36m0:00:00\u001b[0m\n",
            "\u001b[?25h  Building wheel for pyperclip (setup.py) ... \u001b[?25l\u001b[?25hdone\n",
            "\u001b[31mERROR: pip's dependency resolver does not currently take into account all the packages that are installed. This behaviour is the source of the following dependency conflicts.\n",
            "xarray-einstats 0.4.0 requires numpy>=1.20, but you have numpy 1.19.5 which is incompatible.\n",
            "pycaret 2.3.5 requires scipy<=1.5.4, but you have scipy 1.8.1 which is incompatible.\n",
            "mlflow 1.22.0 requires alembic<=1.4.1, but you have alembic 1.9.1 which is incompatible.\n",
            "jaxlib 0.3.25+cuda11.cudnn805 requires numpy>=1.20, but you have numpy 1.19.5 which is incompatible.\n",
            "jax 0.3.25 requires numpy>=1.20, but you have numpy 1.19.5 which is incompatible.\u001b[0m\u001b[31m\n",
            "\u001b[0m"
          ]
        }
      ],
      "source": [
        "!pip install --q optuna"
      ]
    },
    {
      "cell_type": "markdown",
      "source": [
        "**RESTART THE RUNTIME AFTER EXECUTING ABOVE CELLS**\n",
        "\n",
        "---\n",
        "\n"
      ],
      "metadata": {
        "id": "UNnniHr17z1D"
      }
    },
    {
      "cell_type": "markdown",
      "source": [
        "## Downloading Lending Club Dataset in Colab"
      ],
      "metadata": {
        "id": "gAguAJXe7vob"
      }
    },
    {
      "cell_type": "code",
      "execution_count": null,
      "metadata": {
        "colab": {
          "base_uri": "https://localhost:8080/"
        },
        "id": "4ljxKVPDJffW",
        "outputId": "d7065967-9fdf-4c95-be25-809c33c2f26f"
      },
      "outputs": [
        {
          "output_type": "stream",
          "name": "stdout",
          "text": [
            "Downloading...\n",
            "From: https://drive.google.com/uc?id=1PA2OMmdnptQ-mv81rCcKSirOJsBegH-8\n",
            "To: /content/Loan_status_2007-2020Q3.gzip\n",
            "100% 1.77G/1.77G [00:20<00:00, 84.5MB/s]\n"
          ]
        }
      ],
      "source": [
        "!gdown 1PA2OMmdnptQ-mv81rCcKSirOJsBegH-8"
      ]
    },
    {
      "cell_type": "markdown",
      "metadata": {
        "id": "JxSCPnY84Qur"
      },
      "source": [
        "## Credit Conversion Factor Prediction (Regression Problem) "
      ]
    },
    {
      "cell_type": "markdown",
      "metadata": {
        "id": "K7vJ8Hx45gb4"
      },
      "source": [
        "### Data Preparation"
      ]
    },
    {
      "cell_type": "markdown",
      "source": [
        "**OBJECTIVE:**\n",
        "\n",
        "\n",
        ">The objective of this section is to prepare the raw lending club loan data by selecting the relevant loan and borrower's financial attributes after loan is declared charged-off"
      ],
      "metadata": {
        "id": "burAH_zCZcZW"
      }
    },
    {
      "cell_type": "markdown",
      "metadata": {
        "id": "VGwMCSd95mSZ"
      },
      "source": [
        "#### Imports"
      ]
    },
    {
      "cell_type": "code",
      "execution_count": null,
      "metadata": {
        "id": "TsgZkZvB1J3Q"
      },
      "outputs": [],
      "source": [
        "import pandas as pd # Pandas library for maniputlating dataframe\n",
        "import numpy as np # Numpy library for manipulating array or matrix\n",
        "from sklearn.model_selection import train_test_split # Sklearn library for splitting dataset\n",
        "from sklearn.preprocessing import StandardScaler\n",
        "from feature_engine.imputation import RandomSampleImputer # Feature Engine library to replacing the missing values in dataset in numerical columns\n",
        "from feature_engine.imputation import CategoricalImputer # Feature Engine library to replacing the missing values in dataset in categorical columns \n",
        "from feature_engine.encoding import OneHotEncoder as fe_OneHotEncoder # Feature Engine library to perform one-hot encoding\n",
        "\n",
        "from matplotlib import pyplot as plt\n",
        "import seaborn as sns\n",
        "\n",
        "sns.set()"
      ]
    },
    {
      "cell_type": "code",
      "execution_count": null,
      "metadata": {
        "id": "HaohVVpXtw83"
      },
      "outputs": [],
      "source": [
        "import warnings # import warning to supress any warning in output logs \n",
        "warnings.filterwarnings(action='ignore')"
      ]
    },
    {
      "cell_type": "markdown",
      "metadata": {
        "id": "Hy5wFwCt5u48"
      },
      "source": [
        "#### Read the original Dataset in Pandas Dataframe"
      ]
    },
    {
      "cell_type": "code",
      "execution_count": null,
      "metadata": {
        "id": "4SKyMsnq5q_U"
      },
      "outputs": [],
      "source": [
        "# Read the original dataset\n",
        "loan_data_original_df = pd.read_csv(\"/content/Loan_status_2007-2020Q3.gzip\",low_memory=True,nrows=1000000)"
      ]
    },
    {
      "cell_type": "code",
      "execution_count": null,
      "metadata": {
        "id": "qdJqX00n5x9D"
      },
      "outputs": [],
      "source": [
        "# Filter the rows where loans are charged off\n",
        "loan_data_defaults = loan_data_original_df[loan_data_original_df['loan_status'].isin(['Charged Off','Does not meet the credit policy. Status:Charged Off'])]"
      ]
    },
    {
      "cell_type": "code",
      "execution_count": null,
      "metadata": {
        "id": "xQsQKCYc7ilV"
      },
      "outputs": [],
      "source": [
        "# Selecting the relevant columns for the regression problem\n",
        "loan_data_defaults = loan_data_defaults[\n",
        "['grade', # loan grade\n",
        "'total_rec_prncp', # Principal received to date\n",
        "'home_ownership', # home_ownership status of the borrower\n",
        "'verification_status', # Indicates if income was verified by LC\n",
        "'purpose', # Purpose of the loan request\n",
        "'initial_list_status', # The initial listing status of the loan\n",
        "'term', # The number of payments on the loan\n",
        "'emp_length', # Employment length in years.\n",
        "'issue_d', # The month which the loan was funded\n",
        "'earliest_cr_line', # The month the borrower's earliest reported credit line was opened\n",
        "'funded_amnt', # The total amount committed to that loan at that point in time.\n",
        "'int_rate', # Interest Rate on the loan\n",
        "'installment', # The monthly payment owed by the borrower if the loan originates.\n",
        "'annual_inc', # The self-reported annual income\n",
        "'dti', # debt to income ratio\n",
        "'delinq_2yrs', # The number of 30+ days past-due incidences of delinquency in the borrower's credit file for the past 2 years\n",
        "'mths_since_last_delinq', # The number of months since the borrower's last delinquency\n",
        "'mths_since_last_record', # The number of months since the last public record\n",
        "'open_acc', # The number of open credit lines\n",
        "'pub_rec', # Number of derogatory public records\n",
        "'total_acc', # The total number of credit lines currently\n",
        "'acc_now_delinq', # The number of accounts on which the borrower is now delinquent\n",
        "'total_rev_hi_lim', # Total revolving high credit/credit limit\n",
        "'revol_bal', # Total credit revolving balance\n",
        "'out_prncp', # \tRemaining outstanding principal for total amount funded\n",
        "'recoveries', # post charge off gross recovery\n",
        "]\n",
        "]"
      ]
    },
    {
      "cell_type": "markdown",
      "metadata": {
        "id": "9MbZl5LbEDlq"
      },
      "source": [
        "### Data Pre-Processing for regression"
      ]
    },
    {
      "cell_type": "markdown",
      "source": [
        "**OBJECTIVE:**\n",
        "\n",
        "\n",
        ">The objective of this section is to pre-process the data by converting the data types, filling missing values, encoding categorical columns and scaling \n"
      ],
      "metadata": {
        "id": "qmdKaBHMaTEa"
      }
    },
    {
      "cell_type": "code",
      "execution_count": null,
      "metadata": {
        "id": "JCAmyOqdQT60"
      },
      "outputs": [],
      "source": [
        "RANDOM_SEED = 42 # Setting the global random seed so that results are everywhere where randomness is involved "
      ]
    },
    {
      "cell_type": "markdown",
      "metadata": {
        "id": "h16e0uu4IHh-"
      },
      "source": [
        "#### Defining the Target Variable"
      ]
    },
    {
      "cell_type": "code",
      "execution_count": null,
      "metadata": {
        "id": "-dRH_iIw9VRs"
      },
      "outputs": [],
      "source": [
        "# Calculate the CCF (Credit Conversion Factor) using principal amount recovered, funded amount and store the result in CCF columns of the dataframe\n",
        "loan_data_defaults['CCF'] = (loan_data_defaults['funded_amnt'] - loan_data_defaults['total_rec_prncp']) / loan_data_defaults['funded_amnt']"
      ]
    },
    {
      "cell_type": "code",
      "execution_count": null,
      "metadata": {
        "colab": {
          "base_uri": "https://localhost:8080/"
        },
        "id": "_r7LrVvhIM1G",
        "outputId": "6b86983d-3d60-4e63-baa8-39f1ad0c5251"
      },
      "outputs": [
        {
          "output_type": "execute_result",
          "data": {
            "text/plain": [
              "count    118978.000000\n",
              "mean          0.731695\n",
              "std           0.202411\n",
              "min           0.000000\n",
              "25%           0.624429\n",
              "50%           0.783131\n",
              "75%           0.886442\n",
              "max           1.000000\n",
              "Name: CCF, dtype: float64"
            ]
          },
          "metadata": {},
          "execution_count": 9
        }
      ],
      "source": [
        "# Some Statistics related to Credit Conversion Factor\n",
        "loan_data_defaults['CCF'].describe()"
      ]
    },
    {
      "cell_type": "code",
      "execution_count": null,
      "metadata": {
        "colab": {
          "base_uri": "https://localhost:8080/",
          "height": 302
        },
        "id": "RtIuGipciHFB",
        "outputId": "412a0e22-4dbe-4bf2-8f39-ed8e3669f2e6"
      },
      "outputs": [
        {
          "output_type": "execute_result",
          "data": {
            "text/plain": [
              "<AxesSubplot:xlabel='CCF', ylabel='Count'>"
            ]
          },
          "metadata": {},
          "execution_count": 10
        },
        {
          "output_type": "display_data",
          "data": {
            "text/plain": [
              "<Figure size 432x288 with 1 Axes>"
            ],
            "image/png": "[encoded data removed]"
          },
          "metadata": {}
        }
      ],
      "source": [
        "# Check the distribution of CCF (Credit Conversion Factor)\n",
        "sns.histplot(data=loan_data_defaults,x='CCF',kde=True)"
      ]
    },
    {
      "cell_type": "markdown",
      "metadata": {
        "id": "oc8Jq21OQG6s"
      },
      "source": [
        "#### Splitting Dataset into almost 70% Training, 10% validation and 20% Testing dataset"
      ]
    },
    {
      "cell_type": "code",
      "execution_count": null,
      "metadata": {
        "id": "zP0vSOp3MbLq"
      },
      "outputs": [],
      "source": [
        "X = loan_data_defaults.drop(['CCF'],axis=1)\n",
        "y = loan_data_defaults['CCF']"
      ]
    },
    {
      "cell_type": "code",
      "execution_count": null,
      "metadata": {
        "id": "bSO6azjmklnc"
      },
      "outputs": [],
      "source": [
        "# split data into 70% training, 10% validation and 20% testing data\n",
        "X_train_original, X_test, y_train_original, y_test = train_test_split(X, y, test_size=0.20, random_state=RANDOM_SEED)\n",
        "X_train, X_val, y_train, y_val = train_test_split(X_train_original, y_train_original, test_size=0.125, random_state=RANDOM_SEED)"
      ]
    },
    {
      "cell_type": "code",
      "execution_count": null,
      "metadata": {
        "colab": {
          "base_uri": "https://localhost:8080/"
        },
        "id": "QT1d3ymAzIuC",
        "outputId": "0a114277-73d2-4351-f0f8-6d6097b5453e"
      },
      "outputs": [
        {
          "output_type": "execute_result",
          "data": {
            "text/plain": [
              "(95182, 26)"
            ]
          },
          "metadata": {},
          "execution_count": 13
        }
      ],
      "source": [
        "# Check the size of training dataset\n",
        "X_train_original.shape"
      ]
    },
    {
      "cell_type": "code",
      "execution_count": null,
      "metadata": {
        "colab": {
          "base_uri": "https://localhost:8080/"
        },
        "id": "lpxfCth7zKyt",
        "outputId": "86e587a3-3e6e-47bf-d5a9-afad52de3ccf"
      },
      "outputs": [
        {
          "output_type": "execute_result",
          "data": {
            "text/plain": [
              "(23796, 26)"
            ]
          },
          "metadata": {},
          "execution_count": 14
        }
      ],
      "source": [
        "# Check the size of test dataset \n",
        "X_test.shape"
      ]
    },
    {
      "cell_type": "code",
      "execution_count": null,
      "metadata": {
        "colab": {
          "base_uri": "https://localhost:8080/"
        },
        "id": "zxilclnozMup",
        "outputId": "abb85af1-3bbb-4c89-f28f-e5bd11dae588"
      },
      "outputs": [
        {
          "output_type": "execute_result",
          "data": {
            "text/plain": [
              "(11898, 26)"
            ]
          },
          "metadata": {},
          "execution_count": 15
        }
      ],
      "source": [
        "# Check the size of validation dataset\n",
        "X_val.shape"
      ]
    },
    {
      "cell_type": "code",
      "execution_count": null,
      "metadata": {
        "colab": {
          "base_uri": "https://localhost:8080/"
        },
        "id": "IaYDHCc0kwQW",
        "outputId": "b48ad968-5494-42dd-9142-441b3b1dc355"
      },
      "outputs": [
        {
          "output_type": "stream",
          "name": "stdout",
          "text": [
            "Proportion of Training dataset: 72.73 percent\n",
            "Proportion of Validation dataset: 9.09 percent\n",
            "Proportion of Testing dataset: 18.18 percent\n"
          ]
        }
      ],
      "source": [
        "print(\"Proportion of Training dataset: {:.2f} percent\".format((X_train_original.shape[0]/(X_train_original.shape[0] + X_test.shape[0] + X_val.shape[0]))*100))\n",
        "print(\"Proportion of Validation dataset: {:.2f} percent\".format((X_val.shape[0]/(X_train_original.shape[0] + X_test.shape[0] + X_val.shape[0]))*100))\n",
        "print(\"Proportion of Testing dataset: {:.2f} percent\".format((X_test.shape[0]/(X_train_original.shape[0] + X_test.shape[0] + X_val.shape[0]))*100))"
      ]
    },
    {
      "cell_type": "markdown",
      "metadata": {
        "id": "geXlF1ujQsz9"
      },
      "source": [
        "#### Convert data type into numerical for certain columns"
      ]
    },
    {
      "cell_type": "code",
      "execution_count": null,
      "metadata": {
        "id": "jRjmQl8wQdd9"
      },
      "outputs": [],
      "source": [
        "# create a helper function clean up the emp_length column, assign 0 to NANs, and convert to numeric\n",
        "def emp_length_converter(df, column):\n",
        "    df[column] = df[column].str.replace('\\+ years', '')\n",
        "    df[column] = df[column].str.replace('< 1 year', str(0))\n",
        "    df[column] = df[column].str.replace(' years', '')\n",
        "    df[column] = df[column].str.replace(' year', '')\n",
        "    df[column] = pd.to_numeric(df[column])\n",
        "    df[column].fillna(value = 0, inplace = True)\n",
        "\n",
        "\n",
        "# function to remove 'months' string from the 'term' column and convert it to numeric\n",
        "def loan_term_converter(df, column):\n",
        "    df[column] = pd.to_numeric(df[column].str.replace(' months', ''))\n",
        "\n",
        "# convert date columns to datetime format and create a new column as a difference between 1 January 2022 and the respective date\n",
        "def date_column_converter(df, column):\n",
        "    # store current month\n",
        "    today_date = pd.to_datetime('01-01-2022',format = \"%b-%y\",infer_datetime_format=True)\n",
        "    # convert to datetime format\n",
        "    df[column] = pd.to_datetime(df[column], format = \"%b-%y\", infer_datetime_format=True)\n",
        "    # calculate the difference in months and add to a new column\n",
        "    df['mths_since_' + column] = round(pd.to_numeric((today_date - df[column]) / np.timedelta64(1, 'M')))\n",
        "    # make any resulting -ve values to be equal to the max date\n",
        "    df['mths_since_' + column] = df['mths_since_' + column].apply(lambda x: df['mths_since_' + column].max() if x < 0 else x)\n",
        "    # drop the original date column\n",
        "    df.drop(columns = [column], inplace = True)\n",
        "\n",
        "\n",
        "\n",
        "def int_rate_converter(df, column):\n",
        "    df[column] = pd.to_numeric(df[column].str.replace('%', ''))\n",
        "\n",
        "def object_to_numeric_converter(df,columns):\n",
        "  for column in columns:\n",
        "    df[column] = pd.to_numeric(df[column])"
      ]
    },
    {
      "cell_type": "code",
      "execution_count": null,
      "metadata": {
        "id": "CzCajE9kQwSs"
      },
      "outputs": [],
      "source": [
        "# apply data conversions to training dataset\n",
        "emp_length_converter(X_train_original, 'emp_length')\n",
        "loan_term_converter(X_train_original, 'term')\n",
        "int_rate_converter(X_train_original, 'int_rate')\n",
        "date_column_converter(X_train_original, 'issue_d')\n",
        "date_column_converter(X_train_original, 'earliest_cr_line')"
      ]
    },
    {
      "cell_type": "code",
      "execution_count": null,
      "metadata": {
        "id": "0FcS8z6soX9v"
      },
      "outputs": [],
      "source": [
        "# Apply the data conversions to other object type columns, which does not requires string replacements\n",
        "object_to_numeric_converter(X_train_original,['dti',\n",
        "                                              'delinq_2yrs',\n",
        "                                              'mths_since_last_delinq',\n",
        "                                              'mths_since_last_record',\n",
        "                                              'open_acc',\n",
        "                                              'pub_rec',\n",
        "                                              'total_acc',\n",
        "                                              'acc_now_delinq',\n",
        "                                              'total_rev_hi_lim',\n",
        "                                              'mths_since_earliest_cr_line'])"
      ]
    },
    {
      "cell_type": "code",
      "execution_count": null,
      "metadata": {
        "id": "X6jAgkVmmhhn"
      },
      "outputs": [],
      "source": [
        "# Remove duplicate rows if there are any\n",
        "X_train_original = X_train_original.drop_duplicates()"
      ]
    },
    {
      "cell_type": "markdown",
      "metadata": {
        "id": "bxMhesE0ugwL"
      },
      "source": [
        "#### Missing value imputation"
      ]
    },
    {
      "cell_type": "code",
      "execution_count": null,
      "metadata": {
        "id": "K8E8U9okQ8_O"
      },
      "outputs": [],
      "source": [
        "# Imputing Missing Values using Random Imputation \n",
        "random_sample_imputer = RandomSampleImputer(random_state = RANDOM_SEED)\n",
        "categorical_imputer = CategoricalImputer()"
      ]
    },
    {
      "cell_type": "code",
      "execution_count": null,
      "metadata": {
        "id": "UErfhszfkFlD"
      },
      "outputs": [],
      "source": [
        "# Find the numerical and categorical columns\n",
        "numerical_columns = list(X_train_original.select_dtypes(include=['int','float']).columns)\n",
        "categorical_columns = list(X_train_original.select_dtypes(include=['object']).columns)"
      ]
    },
    {
      "cell_type": "code",
      "execution_count": null,
      "metadata": {
        "id": "xsg1yPXGRF7R"
      },
      "outputs": [],
      "source": [
        "# Find the numerical and categorical columns which has missing values\n",
        "null_numerical_columns = [col for col,null in dict(X_train_original[numerical_columns].isnull().sum()).items() if null>0]\n",
        "null_categorical_columns = [col for col,null in dict(X_train_original[categorical_columns].isnull().sum()).items() if null>0]"
      ]
    },
    {
      "cell_type": "code",
      "execution_count": null,
      "metadata": {
        "colab": {
          "base_uri": "https://localhost:8080/"
        },
        "id": "bITkaYR_lVYz",
        "outputId": "279f0ccb-4a38-400c-987e-1d645d56a31d"
      },
      "outputs": [
        {
          "output_type": "execute_result",
          "data": {
            "text/plain": [
              "['dti',\n",
              " 'delinq_2yrs',\n",
              " 'mths_since_last_delinq',\n",
              " 'mths_since_last_record',\n",
              " 'open_acc',\n",
              " 'pub_rec',\n",
              " 'total_acc',\n",
              " 'acc_now_delinq',\n",
              " 'total_rev_hi_lim',\n",
              " 'mths_since_earliest_cr_line']"
            ]
          },
          "metadata": {},
          "execution_count": 20
        }
      ],
      "source": [
        "# Names of the numerical columns where missing values are present\n",
        "null_numerical_columns"
      ]
    },
    {
      "cell_type": "code",
      "execution_count": null,
      "metadata": {
        "colab": {
          "base_uri": "https://localhost:8080/"
        },
        "id": "1NBEWvRnlb1z",
        "outputId": "91f42ef4-0c0b-41bf-e3c8-d8022cbb3176"
      },
      "outputs": [
        {
          "output_type": "execute_result",
          "data": {
            "text/plain": [
              "[]"
            ]
          },
          "metadata": {},
          "execution_count": 21
        }
      ],
      "source": [
        "\n",
        "# Names of the categorical columns where missing values are present\n",
        "null_categorical_columns"
      ]
    },
    {
      "cell_type": "code",
      "execution_count": null,
      "metadata": {
        "id": "k-gwfrD1SXws"
      },
      "outputs": [],
      "source": [
        "# Finally, impute the missing values in numerical columns\n",
        "random_sample_imputer = RandomSampleImputer(random_state = RANDOM_SEED)\n",
        "X_train_original[null_numerical_columns] = random_sample_imputer.fit_transform(X_train_original[null_numerical_columns])"
      ]
    },
    {
      "cell_type": "markdown",
      "metadata": {
        "id": "wlE5wg6pumBl"
      },
      "source": [
        "#### Encoding categorical columns using one-hot encoding"
      ]
    },
    {
      "cell_type": "code",
      "execution_count": null,
      "metadata": {
        "colab": {
          "base_uri": "https://localhost:8080/"
        },
        "id": "XAHUwcIGSZH3",
        "outputId": "d3da03c2-1b55-4354-9306-dbf7c4120dca"
      },
      "outputs": [
        {
          "output_type": "execute_result",
          "data": {
            "text/plain": [
              "OneHotEncoder(variables=['grade', 'home_ownership', 'verification_status',\n",
              "                         'purpose', 'initial_list_status'])"
            ]
          },
          "metadata": {},
          "execution_count": 23
        }
      ],
      "source": [
        "# Encoding the categorical columns using one-hot encoding\n",
        "ohe_enc = fe_OneHotEncoder(\n",
        "    top_categories=None,\n",
        "    variables=list(categorical_columns),  # select which variables to encode\n",
        "    drop_last=False)  \n",
        "\n",
        "\n",
        "ohe_enc.fit(X_train_original)"
      ]
    },
    {
      "cell_type": "code",
      "execution_count": null,
      "metadata": {
        "id": "sjN-J-98TEws"
      },
      "outputs": [],
      "source": [
        "# Apply one-hot encoding transformation to training dataset\n",
        "X_train_original = ohe_enc.transform(X_train_original)"
      ]
    },
    {
      "cell_type": "markdown",
      "metadata": {
        "id": "lLt15T_Lusl9"
      },
      "source": [
        "#### Scaling numerical columns"
      ]
    },
    {
      "cell_type": "code",
      "execution_count": null,
      "metadata": {
        "id": "XU7bdDVAuv18"
      },
      "outputs": [],
      "source": [
        "scaler = StandardScaler()"
      ]
    },
    {
      "cell_type": "code",
      "execution_count": null,
      "metadata": {
        "id": "mK4Lgy6nvX84"
      },
      "outputs": [],
      "source": [
        "X_train_original[numerical_columns] = scaler.fit_transform(X_train_original[numerical_columns])"
      ]
    },
    {
      "cell_type": "markdown",
      "metadata": {
        "id": "aZSUj1WPTR0g"
      },
      "source": [
        "#### Final Check with Training Data"
      ]
    },
    {
      "cell_type": "code",
      "execution_count": null,
      "metadata": {
        "colab": {
          "base_uri": "https://localhost:8080/",
          "height": 300
        },
        "id": "AXX7P7TJxEoD",
        "outputId": "4847485a-0846-48d3-87f0-e2580a03654b"
      },
      "outputs": [
        {
          "output_type": "execute_result",
          "data": {
            "text/plain": [
              "        total_rec_prncp      term  emp_length  funded_amnt  int_rate  \\\n",
              "113539        -0.333092 -0.786496    1.261438    -0.573261  0.315375   \n",
              "218306         0.602348  1.271462    1.261438     0.820601 -0.016694   \n",
              "326173        -0.699958  1.271462    1.261438    -0.513338  0.410252   \n",
              "383280         0.164241 -0.786496    1.261438    -0.680080  0.778373   \n",
              "770949        -0.925054 -0.786496   -0.533844    -0.096482 -1.103981   \n",
              "\n",
              "        installment  annual_inc       dti  delinq_2yrs  \\\n",
              "113539    -0.360977    0.036747 -0.916607    -0.332692   \n",
              "218306     0.347537    0.214183 -0.461222    -0.332692   \n",
              "326173    -0.705571   -0.015929 -0.415515    -0.332692   \n",
              "383280    -0.449789    0.277949 -0.197697    -0.332692   \n",
              "770949     0.027171   -0.004840 -0.944257     0.888248   \n",
              "\n",
              "        mths_since_last_delinq  ...  purpose_medical  purpose_major_purchase  \\\n",
              "113539                0.969509  ...                0                       0   \n",
              "218306                1.476510  ...                0                       0   \n",
              "326173               -0.182764  ...                0                       0   \n",
              "383280               -0.136673  ...                0                       0   \n",
              "770949               -0.735855  ...                0                       0   \n",
              "\n",
              "        purpose_wedding  purpose_vacation  purpose_house  purpose_car  \\\n",
              "113539                0                 0              0            0   \n",
              "218306                0                 0              0            0   \n",
              "326173                0                 0              0            0   \n",
              "383280                0                 0              0            0   \n",
              "770949                0                 0              0            0   \n",
              "\n",
              "        purpose_educational  purpose_renewable_energy  initial_list_status_w  \\\n",
              "113539                    0                         0                      1   \n",
              "218306                    0                         0                      0   \n",
              "326173                    0                         0                      1   \n",
              "383280                    0                         0                      0   \n",
              "770949                    0                         0                      1   \n",
              "\n",
              "        initial_list_status_f  \n",
              "113539                      0  \n",
              "218306                      1  \n",
              "326173                      0  \n",
              "383280                      1  \n",
              "770949                      0  \n",
              "\n",
              "[5 rows x 53 columns]"
            ],
            "text/html": [
              "\n",
              "  <div id=\"df-f6680c6e-6e08-4a45-ad1b-a7a09bea15f1\">\n",
              "    <div class=\"colab-df-container\">\n",
              "      <div>\n",
              "<style scoped>\n",
              "    .dataframe tbody tr th:only-of-type {\n",
              "        vertical-align: middle;\n",
              "    }\n",
              "\n",
              "    .dataframe tbody tr th {\n",
              "        vertical-align: top;\n",
              "    }\n",
              "\n",
              "    .dataframe thead th {\n",
              "        text-align: right;\n",
              "    }\n",
              "</style>\n",
              "<table border=\"1\" class=\"dataframe\">\n",
              "  <thead>\n",
              "    <tr style=\"text-align: right;\">\n",
              "      <th></th>\n",
              "      <th>total_rec_prncp</th>\n",
              "      <th>term</th>\n",
              "      <th>emp_length</th>\n",
              "      <th>funded_amnt</th>\n",
              "      <th>int_rate</th>\n",
              "      <th>installment</th>\n",
              "      <th>annual_inc</th>\n",
              "      <th>dti</th>\n",
              "      <th>delinq_2yrs</th>\n",
              "      <th>mths_since_last_delinq</th>\n",
              "      <th>...</th>\n",
              "      <th>purpose_medical</th>\n",
              "      <th>purpose_major_purchase</th>\n",
              "      <th>purpose_wedding</th>\n",
              "      <th>purpose_vacation</th>\n",
              "      <th>purpose_house</th>\n",
              "      <th>purpose_car</th>\n",
              "      <th>purpose_educational</th>\n",
              "      <th>purpose_renewable_energy</th>\n",
              "      <th>initial_list_status_w</th>\n",
              "      <th>initial_list_status_f</th>\n",
              "    </tr>\n",
              "  </thead>\n",
              "  <tbody>\n",
              "    <tr>\n",
              "      <th>113539</th>\n",
              "      <td>-0.333092</td>\n",
              "      <td>-0.786496</td>\n",
              "      <td>1.261438</td>\n",
              "      <td>-0.573261</td>\n",
              "      <td>0.315375</td>\n",
              "      <td>-0.360977</td>\n",
              "      <td>0.036747</td>\n",
              "      <td>-0.916607</td>\n",
              "      <td>-0.332692</td>\n",
              "      <td>0.969509</td>\n",
              "      <td>...</td>\n",
              "      <td>0</td>\n",
              "      <td>0</td>\n",
              "      <td>0</td>\n",
              "      <td>0</td>\n",
              "      <td>0</td>\n",
              "      <td>0</td>\n",
              "      <td>0</td>\n",
              "      <td>0</td>\n",
              "      <td>1</td>\n",
              "      <td>0</td>\n",
              "    </tr>\n",
              "    <tr>\n",
              "      <th>218306</th>\n",
              "      <td>0.602348</td>\n",
              "      <td>1.271462</td>\n",
              "      <td>1.261438</td>\n",
              "      <td>0.820601</td>\n",
              "      <td>-0.016694</td>\n",
              "      <td>0.347537</td>\n",
              "      <td>0.214183</td>\n",
              "      <td>-0.461222</td>\n",
              "      <td>-0.332692</td>\n",
              "      <td>1.476510</td>\n",
              "      <td>...</td>\n",
              "      <td>0</td>\n",
              "      <td>0</td>\n",
              "      <td>0</td>\n",
              "      <td>0</td>\n",
              "      <td>0</td>\n",
              "      <td>0</td>\n",
              "      <td>0</td>\n",
              "      <td>0</td>\n",
              "      <td>0</td>\n",
              "      <td>1</td>\n",
              "    </tr>\n",
              "    <tr>\n",
              "      <th>326173</th>\n",
              "      <td>-0.699958</td>\n",
              "      <td>1.271462</td>\n",
              "      <td>1.261438</td>\n",
              "      <td>-0.513338</td>\n",
              "      <td>0.410252</td>\n",
              "      <td>-0.705571</td>\n",
              "      <td>-0.015929</td>\n",
              "      <td>-0.415515</td>\n",
              "      <td>-0.332692</td>\n",
              "      <td>-0.182764</td>\n",
              "      <td>...</td>\n",
              "      <td>0</td>\n",
              "      <td>0</td>\n",
              "      <td>0</td>\n",
              "      <td>0</td>\n",
              "      <td>0</td>\n",
              "      <td>0</td>\n",
              "      <td>0</td>\n",
              "      <td>0</td>\n",
              "      <td>1</td>\n",
              "      <td>0</td>\n",
              "    </tr>\n",
              "    <tr>\n",
              "      <th>383280</th>\n",
              "      <td>0.164241</td>\n",
              "      <td>-0.786496</td>\n",
              "      <td>1.261438</td>\n",
              "      <td>-0.680080</td>\n",
              "      <td>0.778373</td>\n",
              "      <td>-0.449789</td>\n",
              "      <td>0.277949</td>\n",
              "      <td>-0.197697</td>\n",
              "      <td>-0.332692</td>\n",
              "      <td>-0.136673</td>\n",
              "      <td>...</td>\n",
              "      <td>0</td>\n",
              "      <td>0</td>\n",
              "      <td>0</td>\n",
              "      <td>0</td>\n",
              "      <td>0</td>\n",
              "      <td>0</td>\n",
              "      <td>0</td>\n",
              "      <td>0</td>\n",
              "      <td>0</td>\n",
              "      <td>1</td>\n",
              "    </tr>\n",
              "    <tr>\n",
              "      <th>770949</th>\n",
              "      <td>-0.925054</td>\n",
              "      <td>-0.786496</td>\n",
              "      <td>-0.533844</td>\n",
              "      <td>-0.096482</td>\n",
              "      <td>-1.103981</td>\n",
              "      <td>0.027171</td>\n",
              "      <td>-0.004840</td>\n",
              "      <td>-0.944257</td>\n",
              "      <td>0.888248</td>\n",
              "      <td>-0.735855</td>\n",
              "      <td>...</td>\n",
              "      <td>0</td>\n",
              "      <td>0</td>\n",
              "      <td>0</td>\n",
              "      <td>0</td>\n",
              "      <td>0</td>\n",
              "      <td>0</td>\n",
              "      <td>0</td>\n",
              "      <td>0</td>\n",
              "      <td>1</td>\n",
              "      <td>0</td>\n",
              "    </tr>\n",
              "  </tbody>\n",
              "</table>\n",
              "<p>5 rows × 53 columns</p>\n",
              "</div>\n",
              "      <button class=\"colab-df-convert\" onclick=\"convertToInteractive('df-f6680c6e-6e08-4a45-ad1b-a7a09bea15f1')\"\n",
              "              title=\"Convert this dataframe to an interactive table.\"\n",
              "              style=\"display:none;\">\n",
              "        \n",
              "  <svg xmlns=\"http://www.w3.org/2000/svg\" height=\"24px\"viewBox=\"0 0 24 24\"\n",
              "       width=\"24px\">\n",
              "    <path d=\"M0 0h24v24H0V0z\" fill=\"none\"/>\n",
              "    <path d=\"M18.56 5.44l.94 2.06.94-2.06 2.06-.94-2.06-.94-.94-2.06-.94 2.06-2.06.94zm-11 1L8.5 8.5l.94-2.06 2.06-.94-2.06-.94L8.5 2.5l-.94 2.06-2.06.94zm10 10l.94 2.06.94-2.06 2.06-.94-2.06-.94-.94-2.06-.94 2.06-2.06.94z\"/><path d=\"M17.41 7.96l-1.37-1.37c-.4-.4-.92-.59-1.43-.59-.52 0-1.04.2-1.43.59L10.3 9.45l-7.72 7.72c-.78.78-.78 2.05 0 2.83L4 21.41c.39.39.9.59 1.41.59.51 0 1.02-.2 1.41-.59l7.78-7.78 2.81-2.81c.8-.78.8-2.07 0-2.86zM5.41 20L4 18.59l7.72-7.72 1.47 1.35L5.41 20z\"/>\n",
              "  </svg>\n",
              "      </button>\n",
              "      \n",
              "  <style>\n",
              "    .colab-df-container {\n",
              "      display:flex;\n",
              "      flex-wrap:wrap;\n",
              "      gap: 12px;\n",
              "    }\n",
              "\n",
              "    .colab-df-convert {\n",
              "      background-color: #E8F0FE;\n",
              "      border: none;\n",
              "      border-radius: 50%;\n",
              "      cursor: pointer;\n",
              "      display: none;\n",
              "      fill: #1967D2;\n",
              "      height: 32px;\n",
              "      padding: 0 0 0 0;\n",
              "      width: 32px;\n",
              "    }\n",
              "\n",
              "    .colab-df-convert:hover {\n",
              "      background-color: #E2EBFA;\n",
              "      box-shadow: 0px 1px 2px rgba(60, 64, 67, 0.3), 0px 1px 3px 1px rgba(60, 64, 67, 0.15);\n",
              "      fill: #174EA6;\n",
              "    }\n",
              "\n",
              "    [theme=dark] .colab-df-convert {\n",
              "      background-color: #3B4455;\n",
              "      fill: #D2E3FC;\n",
              "    }\n",
              "\n",
              "    [theme=dark] .colab-df-convert:hover {\n",
              "      background-color: #434B5C;\n",
              "      box-shadow: 0px 1px 3px 1px rgba(0, 0, 0, 0.15);\n",
              "      filter: drop-shadow(0px 1px 2px rgba(0, 0, 0, 0.3));\n",
              "      fill: #FFFFFF;\n",
              "    }\n",
              "  </style>\n",
              "\n",
              "      <script>\n",
              "        const buttonEl =\n",
              "          document.querySelector('#df-f6680c6e-6e08-4a45-ad1b-a7a09bea15f1 button.colab-df-convert');\n",
              "        buttonEl.style.display =\n",
              "          google.colab.kernel.accessAllowed ? 'block' : 'none';\n",
              "\n",
              "        async function convertToInteractive(key) {\n",
              "          const element = document.querySelector('#df-f6680c6e-6e08-4a45-ad1b-a7a09bea15f1');\n",
              "          const dataTable =\n",
              "            await google.colab.kernel.invokeFunction('convertToInteractive',\n",
              "                                                     [key], {});\n",
              "          if (!dataTable) return;\n",
              "\n",
              "          const docLinkHtml = 'Like what you see? Visit the ' +\n",
              "            '<a target=\"_blank\" href=https://colab.research.google.com/notebooks/data_table.ipynb>data table notebook</a>'\n",
              "            + ' to learn more about interactive tables.';\n",
              "          element.innerHTML = '';\n",
              "          dataTable['output_type'] = 'display_data';\n",
              "          await google.colab.output.renderOutput(dataTable, element);\n",
              "          const docLink = document.createElement('div');\n",
              "          docLink.innerHTML = docLinkHtml;\n",
              "          element.appendChild(docLink);\n",
              "        }\n",
              "      </script>\n",
              "    </div>\n",
              "  </div>\n",
              "  "
            ]
          },
          "metadata": {},
          "execution_count": 27
        }
      ],
      "source": [
        "X_train_original.head()"
      ]
    },
    {
      "cell_type": "code",
      "execution_count": null,
      "metadata": {
        "colab": {
          "base_uri": "https://localhost:8080/"
        },
        "id": "WymyFDYmltXT",
        "outputId": "63fb796f-1fa5-491d-909e-3d26476b3872"
      },
      "outputs": [
        {
          "output_type": "execute_result",
          "data": {
            "text/plain": [
              "(95182, 53)"
            ]
          },
          "metadata": {},
          "execution_count": 28
        }
      ],
      "source": [
        "X_train_original.shape"
      ]
    },
    {
      "cell_type": "code",
      "execution_count": null,
      "metadata": {
        "colab": {
          "base_uri": "https://localhost:8080/"
        },
        "id": "bJi9FSEHTM6T",
        "outputId": "22594e55-8ab2-45cd-e7a5-652f9c15e918"
      },
      "outputs": [
        {
          "output_type": "execute_result",
          "data": {
            "text/plain": [
              "total_rec_prncp                        0\n",
              "term                                   0\n",
              "emp_length                             0\n",
              "funded_amnt                            0\n",
              "int_rate                               0\n",
              "installment                            0\n",
              "annual_inc                             0\n",
              "dti                                    0\n",
              "delinq_2yrs                            0\n",
              "mths_since_last_delinq                 0\n",
              "mths_since_last_record                 0\n",
              "open_acc                               0\n",
              "pub_rec                                0\n",
              "total_acc                              0\n",
              "acc_now_delinq                         0\n",
              "total_rev_hi_lim                       0\n",
              "revol_bal                              0\n",
              "out_prncp                              0\n",
              "recoveries                             0\n",
              "mths_since_issue_d                     0\n",
              "mths_since_earliest_cr_line            0\n",
              "grade_D                                0\n",
              "grade_C                                0\n",
              "grade_B                                0\n",
              "grade_A                                0\n",
              "grade_F                                0\n",
              "grade_E                                0\n",
              "grade_G                                0\n",
              "home_ownership_RENT                    0\n",
              "home_ownership_MORTGAGE                0\n",
              "home_ownership_OWN                     0\n",
              "home_ownership_ANY                     0\n",
              "home_ownership_OTHER                   0\n",
              "home_ownership_NONE                    0\n",
              "verification_status_Not Verified       0\n",
              "verification_status_Source Verified    0\n",
              "verification_status_Verified           0\n",
              "purpose_debt_consolidation             0\n",
              "purpose_credit_card                    0\n",
              "purpose_home_improvement               0\n",
              "purpose_other                          0\n",
              "purpose_small_business                 0\n",
              "purpose_moving                         0\n",
              "purpose_medical                        0\n",
              "purpose_major_purchase                 0\n",
              "purpose_wedding                        0\n",
              "purpose_vacation                       0\n",
              "purpose_house                          0\n",
              "purpose_car                            0\n",
              "purpose_educational                    0\n",
              "purpose_renewable_energy               0\n",
              "initial_list_status_w                  0\n",
              "initial_list_status_f                  0\n",
              "dtype: int64"
            ]
          },
          "metadata": {},
          "execution_count": 29
        }
      ],
      "source": [
        "X_train_original.isnull().sum()"
      ]
    },
    {
      "cell_type": "markdown",
      "metadata": {
        "id": "VxVk2XdKTYcx"
      },
      "source": [
        "### Regression Experiments (USING SMALL PORTION OF TRAINING DATASET)"
      ]
    },
    {
      "cell_type": "markdown",
      "source": [
        "**OBJECTIVE:**\n",
        "\n",
        "\n",
        ">The objective is to perform regression experiments using all base ML models. It is important so that three good performing trained models could be selected first using small portion of training dataset and those selected models could be trained and optimized for MSE score using whole training and validation dataset\n",
        "\n",
        ">Finally, the machine learning model, which has lowest MSE score with other considerations, would be selected as final model to evaluate and predict the unseen values using test dataset.\n",
        "\n",
        "> Optinally, experiment tracking using MLFlow for all base regression models is also done \n"
      ],
      "metadata": {
        "id": "TXDOdXgma4Rr"
      }
    },
    {
      "cell_type": "markdown",
      "metadata": {
        "id": "l4TC0MCSTyib"
      },
      "source": [
        "#### Imports"
      ]
    },
    {
      "cell_type": "code",
      "execution_count": null,
      "metadata": {
        "id": "rdu9ElqrT1C9"
      },
      "outputs": [],
      "source": [
        "from pycaret.regression import *\n",
        "import mlflow\n",
        "import os\n",
        "from getpass import getpass"
      ]
    },
    {
      "cell_type": "markdown",
      "metadata": {
        "id": "RPR6SVtPmOiO"
      },
      "source": [
        "#### [OPTIONAL] Set mlflow for tracking the regression experiments"
      ]
    },
    {
      "cell_type": "code",
      "execution_count": null,
      "metadata": {
        "colab": {
          "base_uri": "https://localhost:8080/"
        },
        "id": "i2TF23RZmXNQ",
        "outputId": "c0da48f8-b558-40bc-f183-2c778e3944cf"
      },
      "outputs": [
        {
          "name": "stdout",
          "output_type": "stream",
          "text": [
            "shubh2016shiv\n",
            "··········\n",
            "ccf_regression_exps\n"
          ]
        }
      ],
      "source": [
        "os.environ['MLFLOW_TRACKING_USERNAME'] = input()\n",
        "os.environ['MLFLOW_TRACKING_PASSWORD'] = getpass('')\n",
        "os.environ['MLFLOW_TRACKING_PROJECTNAME'] = input('')\n",
        "\n",
        "mlflow.set_tracking_uri(f'https://dagshub.com/' + os.environ['MLFLOW_TRACKING_USERNAME'] \n",
        "                        + '/' + os.environ['MLFLOW_TRACKING_PROJECTNAME'] + '.mlflow')\n",
        "\n",
        "with mlflow.start_run(run_name=\"MLflow on Colab\"):\n",
        "  mlflow.log_metric(\"m1\", 2.0)\n",
        "  mlflow.log_param(\"p1\", \"mlflow-colab\")"
      ]
    },
    {
      "cell_type": "markdown",
      "metadata": {
        "id": "EEj7S0PxUSa9"
      },
      "source": [
        "#### Setting up the regression experiment on small portion on training Dataset"
      ]
    },
    {
      "cell_type": "code",
      "execution_count": null,
      "metadata": {
        "id": "SK70ptbnwjtG"
      },
      "outputs": [],
      "source": [
        "# Experiments are done with samples of size 40000 for faster results and execution\n",
        "data = pd.concat([X_train_original,y_train_original],axis=1).sample(n=40000,random_state=RANDOM_SEED)"
      ]
    },
    {
      "cell_type": "code",
      "execution_count": null,
      "metadata": {
        "colab": {
          "base_uri": "https://localhost:8080/",
          "height": 1000
        },
        "id": "Io6CaeCBTPYh",
        "outputId": "37857b96-f276-44fd-fb97-bf72e827ff9a"
      },
      "outputs": [
        {
          "data": {
            "text/html": [
              "\n",
              "  <div id=\"df-26987ef1-1e5a-4db2-b296-e5d7f36bbe04\">\n",
              "    <div class=\"colab-df-container\">\n",
              "      <div>\n",
              "<style scoped>\n",
              "    .dataframe tbody tr th:only-of-type {\n",
              "        vertical-align: middle;\n",
              "    }\n",
              "\n",
              "    .dataframe tbody tr th {\n",
              "        vertical-align: top;\n",
              "    }\n",
              "\n",
              "    .dataframe thead th {\n",
              "        text-align: right;\n",
              "    }\n",
              "</style>\n",
              "<table border=\"1\" class=\"dataframe\">\n",
              "  <thead>\n",
              "    <tr style=\"text-align: right;\">\n",
              "      <th></th>\n",
              "      <th>Description</th>\n",
              "      <th>Value</th>\n",
              "    </tr>\n",
              "  </thead>\n",
              "  <tbody>\n",
              "    <tr>\n",
              "      <th>0</th>\n",
              "      <td>session_id</td>\n",
              "      <td>42</td>\n",
              "    </tr>\n",
              "    <tr>\n",
              "      <th>1</th>\n",
              "      <td>Target</td>\n",
              "      <td>CCF</td>\n",
              "    </tr>\n",
              "    <tr>\n",
              "      <th>2</th>\n",
              "      <td>Original Data</td>\n",
              "      <td>(40000, 54)</td>\n",
              "    </tr>\n",
              "    <tr>\n",
              "      <th>3</th>\n",
              "      <td>Missing Values</td>\n",
              "      <td>False</td>\n",
              "    </tr>\n",
              "    <tr>\n",
              "      <th>4</th>\n",
              "      <td>Numeric Features</td>\n",
              "      <td>19</td>\n",
              "    </tr>\n",
              "    <tr>\n",
              "      <th>5</th>\n",
              "      <td>Categorical Features</td>\n",
              "      <td>34</td>\n",
              "    </tr>\n",
              "    <tr>\n",
              "      <th>6</th>\n",
              "      <td>Ordinal Features</td>\n",
              "      <td>False</td>\n",
              "    </tr>\n",
              "    <tr>\n",
              "      <th>7</th>\n",
              "      <td>High Cardinality Features</td>\n",
              "      <td>False</td>\n",
              "    </tr>\n",
              "    <tr>\n",
              "      <th>8</th>\n",
              "      <td>High Cardinality Method</td>\n",
              "      <td>None</td>\n",
              "    </tr>\n",
              "    <tr>\n",
              "      <th>9</th>\n",
              "      <td>Transformed Train Set</td>\n",
              "      <td>(32000, 51)</td>\n",
              "    </tr>\n",
              "    <tr>\n",
              "      <th>10</th>\n",
              "      <td>Transformed Test Set</td>\n",
              "      <td>(8000, 51)</td>\n",
              "    </tr>\n",
              "    <tr>\n",
              "      <th>11</th>\n",
              "      <td>Shuffle Train-Test</td>\n",
              "      <td>True</td>\n",
              "    </tr>\n",
              "    <tr>\n",
              "      <th>12</th>\n",
              "      <td>Stratify Train-Test</td>\n",
              "      <td>False</td>\n",
              "    </tr>\n",
              "    <tr>\n",
              "      <th>13</th>\n",
              "      <td>Fold Generator</td>\n",
              "      <td>KFold</td>\n",
              "    </tr>\n",
              "    <tr>\n",
              "      <th>14</th>\n",
              "      <td>Fold Number</td>\n",
              "      <td>10</td>\n",
              "    </tr>\n",
              "    <tr>\n",
              "      <th>15</th>\n",
              "      <td>CPU Jobs</td>\n",
              "      <td>-1</td>\n",
              "    </tr>\n",
              "    <tr>\n",
              "      <th>16</th>\n",
              "      <td>Use GPU</td>\n",
              "      <td>False</td>\n",
              "    </tr>\n",
              "    <tr>\n",
              "      <th>17</th>\n",
              "      <td>Log Experiment</td>\n",
              "      <td>False</td>\n",
              "    </tr>\n",
              "    <tr>\n",
              "      <th>18</th>\n",
              "      <td>Experiment Name</td>\n",
              "      <td>reg-default-name</td>\n",
              "    </tr>\n",
              "    <tr>\n",
              "      <th>19</th>\n",
              "      <td>USI</td>\n",
              "      <td>72fa</td>\n",
              "    </tr>\n",
              "    <tr>\n",
              "      <th>20</th>\n",
              "      <td>Imputation Type</td>\n",
              "      <td>simple</td>\n",
              "    </tr>\n",
              "    <tr>\n",
              "      <th>21</th>\n",
              "      <td>Iterative Imputation Iteration</td>\n",
              "      <td>None</td>\n",
              "    </tr>\n",
              "    <tr>\n",
              "      <th>22</th>\n",
              "      <td>Numeric Imputer</td>\n",
              "      <td>mean</td>\n",
              "    </tr>\n",
              "    <tr>\n",
              "      <th>23</th>\n",
              "      <td>Iterative Imputation Numeric Model</td>\n",
              "      <td>None</td>\n",
              "    </tr>\n",
              "    <tr>\n",
              "      <th>24</th>\n",
              "      <td>Categorical Imputer</td>\n",
              "      <td>constant</td>\n",
              "    </tr>\n",
              "    <tr>\n",
              "      <th>25</th>\n",
              "      <td>Iterative Imputation Categorical Model</td>\n",
              "      <td>None</td>\n",
              "    </tr>\n",
              "    <tr>\n",
              "      <th>26</th>\n",
              "      <td>Unknown Categoricals Handling</td>\n",
              "      <td>least_frequent</td>\n",
              "    </tr>\n",
              "    <tr>\n",
              "      <th>27</th>\n",
              "      <td>Normalize</td>\n",
              "      <td>False</td>\n",
              "    </tr>\n",
              "    <tr>\n",
              "      <th>28</th>\n",
              "      <td>Normalize Method</td>\n",
              "      <td>None</td>\n",
              "    </tr>\n",
              "    <tr>\n",
              "      <th>29</th>\n",
              "      <td>Transformation</td>\n",
              "      <td>False</td>\n",
              "    </tr>\n",
              "    <tr>\n",
              "      <th>30</th>\n",
              "      <td>Transformation Method</td>\n",
              "      <td>None</td>\n",
              "    </tr>\n",
              "    <tr>\n",
              "      <th>31</th>\n",
              "      <td>PCA</td>\n",
              "      <td>False</td>\n",
              "    </tr>\n",
              "    <tr>\n",
              "      <th>32</th>\n",
              "      <td>PCA Method</td>\n",
              "      <td>None</td>\n",
              "    </tr>\n",
              "    <tr>\n",
              "      <th>33</th>\n",
              "      <td>PCA Components</td>\n",
              "      <td>None</td>\n",
              "    </tr>\n",
              "    <tr>\n",
              "      <th>34</th>\n",
              "      <td>Ignore Low Variance</td>\n",
              "      <td>False</td>\n",
              "    </tr>\n",
              "    <tr>\n",
              "      <th>35</th>\n",
              "      <td>Combine Rare Levels</td>\n",
              "      <td>False</td>\n",
              "    </tr>\n",
              "    <tr>\n",
              "      <th>36</th>\n",
              "      <td>Rare Level Threshold</td>\n",
              "      <td>None</td>\n",
              "    </tr>\n",
              "    <tr>\n",
              "      <th>37</th>\n",
              "      <td>Numeric Binning</td>\n",
              "      <td>False</td>\n",
              "    </tr>\n",
              "    <tr>\n",
              "      <th>38</th>\n",
              "      <td>Remove Outliers</td>\n",
              "      <td>False</td>\n",
              "    </tr>\n",
              "    <tr>\n",
              "      <th>39</th>\n",
              "      <td>Outliers Threshold</td>\n",
              "      <td>None</td>\n",
              "    </tr>\n",
              "    <tr>\n",
              "      <th>40</th>\n",
              "      <td>Remove Multicollinearity</td>\n",
              "      <td>False</td>\n",
              "    </tr>\n",
              "    <tr>\n",
              "      <th>41</th>\n",
              "      <td>Multicollinearity Threshold</td>\n",
              "      <td>None</td>\n",
              "    </tr>\n",
              "    <tr>\n",
              "      <th>42</th>\n",
              "      <td>Remove Perfect Collinearity</td>\n",
              "      <td>True</td>\n",
              "    </tr>\n",
              "    <tr>\n",
              "      <th>43</th>\n",
              "      <td>Clustering</td>\n",
              "      <td>False</td>\n",
              "    </tr>\n",
              "    <tr>\n",
              "      <th>44</th>\n",
              "      <td>Clustering Iteration</td>\n",
              "      <td>None</td>\n",
              "    </tr>\n",
              "    <tr>\n",
              "      <th>45</th>\n",
              "      <td>Polynomial Features</td>\n",
              "      <td>False</td>\n",
              "    </tr>\n",
              "    <tr>\n",
              "      <th>46</th>\n",
              "      <td>Polynomial Degree</td>\n",
              "      <td>None</td>\n",
              "    </tr>\n",
              "    <tr>\n",
              "      <th>47</th>\n",
              "      <td>Trignometry Features</td>\n",
              "      <td>False</td>\n",
              "    </tr>\n",
              "    <tr>\n",
              "      <th>48</th>\n",
              "      <td>Polynomial Threshold</td>\n",
              "      <td>None</td>\n",
              "    </tr>\n",
              "    <tr>\n",
              "      <th>49</th>\n",
              "      <td>Group Features</td>\n",
              "      <td>False</td>\n",
              "    </tr>\n",
              "    <tr>\n",
              "      <th>50</th>\n",
              "      <td>Feature Selection</td>\n",
              "      <td>False</td>\n",
              "    </tr>\n",
              "    <tr>\n",
              "      <th>51</th>\n",
              "      <td>Feature Selection Method</td>\n",
              "      <td>classic</td>\n",
              "    </tr>\n",
              "    <tr>\n",
              "      <th>52</th>\n",
              "      <td>Features Selection Threshold</td>\n",
              "      <td>None</td>\n",
              "    </tr>\n",
              "    <tr>\n",
              "      <th>53</th>\n",
              "      <td>Feature Interaction</td>\n",
              "      <td>False</td>\n",
              "    </tr>\n",
              "    <tr>\n",
              "      <th>54</th>\n",
              "      <td>Feature Ratio</td>\n",
              "      <td>False</td>\n",
              "    </tr>\n",
              "    <tr>\n",
              "      <th>55</th>\n",
              "      <td>Interaction Threshold</td>\n",
              "      <td>None</td>\n",
              "    </tr>\n",
              "    <tr>\n",
              "      <th>56</th>\n",
              "      <td>Transform Target</td>\n",
              "      <td>False</td>\n",
              "    </tr>\n",
              "    <tr>\n",
              "      <th>57</th>\n",
              "      <td>Transform Target Method</td>\n",
              "      <td>box-cox</td>\n",
              "    </tr>\n",
              "  </tbody>\n",
              "</table>\n",
              "</div>\n",
              "      <button class=\"colab-df-convert\" onclick=\"convertToInteractive('df-26987ef1-1e5a-4db2-b296-e5d7f36bbe04')\"\n",
              "              title=\"Convert this dataframe to an interactive table.\"\n",
              "              style=\"display:none;\">\n",
              "        \n",
              "  <svg xmlns=\"http://www.w3.org/2000/svg\" height=\"24px\"viewBox=\"0 0 24 24\"\n",
              "       width=\"24px\">\n",
              "    <path d=\"M0 0h24v24H0V0z\" fill=\"none\"/>\n",
              "    <path d=\"M18.56 5.44l.94 2.06.94-2.06 2.06-.94-2.06-.94-.94-2.06-.94 2.06-2.06.94zm-11 1L8.5 8.5l.94-2.06 2.06-.94-2.06-.94L8.5 2.5l-.94 2.06-2.06.94zm10 10l.94 2.06.94-2.06 2.06-.94-2.06-.94-.94-2.06-.94 2.06-2.06.94z\"/><path d=\"M17.41 7.96l-1.37-1.37c-.4-.4-.92-.59-1.43-.59-.52 0-1.04.2-1.43.59L10.3 9.45l-7.72 7.72c-.78.78-.78 2.05 0 2.83L4 21.41c.39.39.9.59 1.41.59.51 0 1.02-.2 1.41-.59l7.78-7.78 2.81-2.81c.8-.78.8-2.07 0-2.86zM5.41 20L4 18.59l7.72-7.72 1.47 1.35L5.41 20z\"/>\n",
              "  </svg>\n",
              "      </button>\n",
              "      \n",
              "  <style>\n",
              "    .colab-df-container {\n",
              "      display:flex;\n",
              "      flex-wrap:wrap;\n",
              "      gap: 12px;\n",
              "    }\n",
              "\n",
              "    .colab-df-convert {\n",
              "      background-color: #E8F0FE;\n",
              "      border: none;\n",
              "      border-radius: 50%;\n",
              "      cursor: pointer;\n",
              "      display: none;\n",
              "      fill: #1967D2;\n",
              "      height: 32px;\n",
              "      padding: 0 0 0 0;\n",
              "      width: 32px;\n",
              "    }\n",
              "\n",
              "    .colab-df-convert:hover {\n",
              "      background-color: #E2EBFA;\n",
              "      box-shadow: 0px 1px 2px rgba(60, 64, 67, 0.3), 0px 1px 3px 1px rgba(60, 64, 67, 0.15);\n",
              "      fill: #174EA6;\n",
              "    }\n",
              "\n",
              "    [theme=dark] .colab-df-convert {\n",
              "      background-color: #3B4455;\n",
              "      fill: #D2E3FC;\n",
              "    }\n",
              "\n",
              "    [theme=dark] .colab-df-convert:hover {\n",
              "      background-color: #434B5C;\n",
              "      box-shadow: 0px 1px 3px 1px rgba(0, 0, 0, 0.15);\n",
              "      filter: drop-shadow(0px 1px 2px rgba(0, 0, 0, 0.3));\n",
              "      fill: #FFFFFF;\n",
              "    }\n",
              "  </style>\n",
              "\n",
              "      <script>\n",
              "        const buttonEl =\n",
              "          document.querySelector('#df-26987ef1-1e5a-4db2-b296-e5d7f36bbe04 button.colab-df-convert');\n",
              "        buttonEl.style.display =\n",
              "          google.colab.kernel.accessAllowed ? 'block' : 'none';\n",
              "\n",
              "        async function convertToInteractive(key) {\n",
              "          const element = document.querySelector('#df-26987ef1-1e5a-4db2-b296-e5d7f36bbe04');\n",
              "          const dataTable =\n",
              "            await google.colab.kernel.invokeFunction('convertToInteractive',\n",
              "                                                     [key], {});\n",
              "          if (!dataTable) return;\n",
              "\n",
              "          const docLinkHtml = 'Like what you see? Visit the ' +\n",
              "            '<a target=\"_blank\" href=https://colab.research.google.com/notebooks/data_table.ipynb>data table notebook</a>'\n",
              "            + ' to learn more about interactive tables.';\n",
              "          element.innerHTML = '';\n",
              "          dataTable['output_type'] = 'display_data';\n",
              "          await google.colab.output.renderOutput(dataTable, element);\n",
              "          const docLink = document.createElement('div');\n",
              "          docLink.innerHTML = docLinkHtml;\n",
              "          element.appendChild(docLink);\n",
              "        }\n",
              "      </script>\n",
              "    </div>\n",
              "  </div>\n",
              "  "
            ],
            "text/plain": [
              "                               Description             Value\n",
              "0                               session_id                42\n",
              "1                                   Target               CCF\n",
              "2                            Original Data       (40000, 54)\n",
              "3                           Missing Values             False\n",
              "4                         Numeric Features                19\n",
              "5                     Categorical Features                34\n",
              "6                         Ordinal Features             False\n",
              "7                High Cardinality Features             False\n",
              "8                  High Cardinality Method              None\n",
              "9                    Transformed Train Set       (32000, 51)\n",
              "10                    Transformed Test Set        (8000, 51)\n",
              "11                      Shuffle Train-Test              True\n",
              "12                     Stratify Train-Test             False\n",
              "13                          Fold Generator             KFold\n",
              "14                             Fold Number                10\n",
              "15                                CPU Jobs                -1\n",
              "16                                 Use GPU             False\n",
              "17                          Log Experiment             False\n",
              "18                         Experiment Name  reg-default-name\n",
              "19                                     USI              72fa\n",
              "20                         Imputation Type            simple\n",
              "21          Iterative Imputation Iteration              None\n",
              "22                         Numeric Imputer              mean\n",
              "23      Iterative Imputation Numeric Model              None\n",
              "24                     Categorical Imputer          constant\n",
              "25  Iterative Imputation Categorical Model              None\n",
              "26           Unknown Categoricals Handling    least_frequent\n",
              "27                               Normalize             False\n",
              "28                        Normalize Method              None\n",
              "29                          Transformation             False\n",
              "30                   Transformation Method              None\n",
              "31                                     PCA             False\n",
              "32                              PCA Method              None\n",
              "33                          PCA Components              None\n",
              "34                     Ignore Low Variance             False\n",
              "35                     Combine Rare Levels             False\n",
              "36                    Rare Level Threshold              None\n",
              "37                         Numeric Binning             False\n",
              "38                         Remove Outliers             False\n",
              "39                      Outliers Threshold              None\n",
              "40                Remove Multicollinearity             False\n",
              "41             Multicollinearity Threshold              None\n",
              "42             Remove Perfect Collinearity              True\n",
              "43                              Clustering             False\n",
              "44                    Clustering Iteration              None\n",
              "45                     Polynomial Features             False\n",
              "46                       Polynomial Degree              None\n",
              "47                    Trignometry Features             False\n",
              "48                    Polynomial Threshold              None\n",
              "49                          Group Features             False\n",
              "50                       Feature Selection             False\n",
              "51                Feature Selection Method           classic\n",
              "52            Features Selection Threshold              None\n",
              "53                     Feature Interaction             False\n",
              "54                           Feature Ratio             False\n",
              "55                   Interaction Threshold              None\n",
              "56                        Transform Target             False\n",
              "57                 Transform Target Method           box-cox"
            ]
          },
          "metadata": {},
          "output_type": "display_data"
        },
        {
          "name": "stderr",
          "output_type": "stream",
          "text": [
            "INFO:logs:create_model_container: 0\n",
            "INFO:logs:master_model_container: 0\n",
            "INFO:logs:display_container: 1\n",
            "INFO:logs:Pipeline(memory=None,\n",
            "         steps=[('dtypes',\n",
            "                 DataTypes_Auto_infer(categorical_features=[],\n",
            "                                      display_types=True, features_todrop=[],\n",
            "                                      id_columns=[], ml_usecase='regression',\n",
            "                                      numerical_features=[], target='CCF',\n",
            "                                      time_features=[])),\n",
            "                ('imputer',\n",
            "                 Simple_Imputer(categorical_strategy='not_available',\n",
            "                                fill_value_categorical=None,\n",
            "                                fill_value_numerical=None,\n",
            "                                numeric_strategy='me...\n",
            "                ('scaling', 'passthrough'), ('P_transform', 'passthrough'),\n",
            "                ('binn', 'passthrough'), ('rem_outliers', 'passthrough'),\n",
            "                ('cluster_all', 'passthrough'),\n",
            "                ('dummy', Dummify(target='CCF')),\n",
            "                ('fix_perfect', Remove_100(target='CCF')),\n",
            "                ('clean_names', Clean_Colum_Names()),\n",
            "                ('feature_select', 'passthrough'), ('fix_multi', 'passthrough'),\n",
            "                ('dfs', 'passthrough'), ('pca', 'passthrough')],\n",
            "         verbose=False)\n",
            "INFO:logs:setup() succesfully completed......................................\n"
          ]
        }
      ],
      "source": [
        "# Prepare the data and setup the experiment using pycaret library\n",
        "regression_experiments = setup(data = data, \n",
        "                                train_size = 0.8,\n",
        "                                target = 'CCF',\n",
        "                                #log_experiment=True,\n",
        "                                #experiment_name='ccf_regression_exps_30_dec_2022',\n",
        "                                #log_plots=True,\n",
        "                                session_id=RANDOM_SEED\n",
        "                                )"
      ]
    },
    {
      "cell_type": "markdown",
      "metadata": {
        "id": "BFaGOqAlUVcT"
      },
      "source": [
        "#### Compare all base regression ML models"
      ]
    },
    {
      "cell_type": "code",
      "execution_count": null,
      "metadata": {
        "colab": {
          "base_uri": "https://localhost:8080/",
          "height": 926
        },
        "id": "OyRXxM6FUHRy",
        "outputId": "993e483f-5499-4b3a-c001-ed5888f7336d"
      },
      "outputs": [
        {
          "data": {
            "text/html": [
              "\n",
              "  <div id=\"df-fb9ae9cc-1904-46bf-84e4-be0c946fd6d2\">\n",
              "    <div class=\"colab-df-container\">\n",
              "      <div>\n",
              "<style scoped>\n",
              "    .dataframe tbody tr th:only-of-type {\n",
              "        vertical-align: middle;\n",
              "    }\n",
              "\n",
              "    .dataframe tbody tr th {\n",
              "        vertical-align: top;\n",
              "    }\n",
              "\n",
              "    .dataframe thead th {\n",
              "        text-align: right;\n",
              "    }\n",
              "</style>\n",
              "<table border=\"1\" class=\"dataframe\">\n",
              "  <thead>\n",
              "    <tr style=\"text-align: right;\">\n",
              "      <th></th>\n",
              "      <th>Model</th>\n",
              "      <th>MAE</th>\n",
              "      <th>MSE</th>\n",
              "      <th>RMSE</th>\n",
              "      <th>R2</th>\n",
              "      <th>RMSLE</th>\n",
              "      <th>MAPE</th>\n",
              "      <th>TT (Sec)</th>\n",
              "    </tr>\n",
              "  </thead>\n",
              "  <tbody>\n",
              "    <tr>\n",
              "      <th>rf</th>\n",
              "      <td>Random Forest Regressor</td>\n",
              "      <td>0.0021</td>\n",
              "      <td>0.000000e+00</td>\n",
              "      <td>6.000000e-03</td>\n",
              "      <td>9.991000e-01</td>\n",
              "      <td>0.0049</td>\n",
              "      <td>0.0554</td>\n",
              "      <td>36.014</td>\n",
              "    </tr>\n",
              "    <tr>\n",
              "      <th>et</th>\n",
              "      <td>Extra Trees Regressor</td>\n",
              "      <td>0.0026</td>\n",
              "      <td>1.000000e-04</td>\n",
              "      <td>7.700000e-03</td>\n",
              "      <td>9.985000e-01</td>\n",
              "      <td>0.0064</td>\n",
              "      <td>0.0968</td>\n",
              "      <td>24.876</td>\n",
              "    </tr>\n",
              "    <tr>\n",
              "      <th>catboost</th>\n",
              "      <td>CatBoost Regressor</td>\n",
              "      <td>0.0039</td>\n",
              "      <td>1.000000e-04</td>\n",
              "      <td>8.000000e-03</td>\n",
              "      <td>9.984000e-01</td>\n",
              "      <td>0.0062</td>\n",
              "      <td>0.0911</td>\n",
              "      <td>13.364</td>\n",
              "    </tr>\n",
              "    <tr>\n",
              "      <th>lightgbm</th>\n",
              "      <td>Light Gradient Boosting Machine</td>\n",
              "      <td>0.0050</td>\n",
              "      <td>1.000000e-04</td>\n",
              "      <td>9.500000e-03</td>\n",
              "      <td>9.978000e-01</td>\n",
              "      <td>0.0073</td>\n",
              "      <td>0.1119</td>\n",
              "      <td>0.738</td>\n",
              "    </tr>\n",
              "    <tr>\n",
              "      <th>dt</th>\n",
              "      <td>Decision Tree Regressor</td>\n",
              "      <td>0.0046</td>\n",
              "      <td>1.000000e-04</td>\n",
              "      <td>1.150000e-02</td>\n",
              "      <td>9.967000e-01</td>\n",
              "      <td>0.0089</td>\n",
              "      <td>0.0539</td>\n",
              "      <td>0.594</td>\n",
              "    </tr>\n",
              "    <tr>\n",
              "      <th>gbr</th>\n",
              "      <td>Gradient Boosting Regressor</td>\n",
              "      <td>0.0117</td>\n",
              "      <td>4.000000e-04</td>\n",
              "      <td>1.880000e-02</td>\n",
              "      <td>9.914000e-01</td>\n",
              "      <td>0.0141</td>\n",
              "      <td>0.1582</td>\n",
              "      <td>9.513</td>\n",
              "    </tr>\n",
              "    <tr>\n",
              "      <th>ada</th>\n",
              "      <td>AdaBoost Regressor</td>\n",
              "      <td>0.0893</td>\n",
              "      <td>1.010000e-02</td>\n",
              "      <td>1.003000e-01</td>\n",
              "      <td>7.542000e-01</td>\n",
              "      <td>0.0597</td>\n",
              "      <td>0.4263</td>\n",
              "      <td>6.261</td>\n",
              "    </tr>\n",
              "    <tr>\n",
              "      <th>br</th>\n",
              "      <td>Bayesian Ridge</td>\n",
              "      <td>0.0699</td>\n",
              "      <td>1.010000e-02</td>\n",
              "      <td>1.005000e-01</td>\n",
              "      <td>7.532000e-01</td>\n",
              "      <td>0.0650</td>\n",
              "      <td>0.6080</td>\n",
              "      <td>0.157</td>\n",
              "    </tr>\n",
              "    <tr>\n",
              "      <th>ridge</th>\n",
              "      <td>Ridge Regression</td>\n",
              "      <td>0.0699</td>\n",
              "      <td>1.010000e-02</td>\n",
              "      <td>1.005000e-01</td>\n",
              "      <td>7.531000e-01</td>\n",
              "      <td>0.0650</td>\n",
              "      <td>0.6083</td>\n",
              "      <td>0.039</td>\n",
              "    </tr>\n",
              "    <tr>\n",
              "      <th>lr</th>\n",
              "      <td>Linear Regression</td>\n",
              "      <td>0.0699</td>\n",
              "      <td>1.010000e-02</td>\n",
              "      <td>1.005000e-01</td>\n",
              "      <td>7.531000e-01</td>\n",
              "      <td>0.0650</td>\n",
              "      <td>0.6083</td>\n",
              "      <td>0.551</td>\n",
              "    </tr>\n",
              "    <tr>\n",
              "      <th>omp</th>\n",
              "      <td>Orthogonal Matching Pursuit</td>\n",
              "      <td>0.0720</td>\n",
              "      <td>1.040000e-02</td>\n",
              "      <td>1.021000e-01</td>\n",
              "      <td>7.453000e-01</td>\n",
              "      <td>0.0659</td>\n",
              "      <td>0.5867</td>\n",
              "      <td>0.041</td>\n",
              "    </tr>\n",
              "    <tr>\n",
              "      <th>par</th>\n",
              "      <td>Passive Aggressive Regressor</td>\n",
              "      <td>0.0889</td>\n",
              "      <td>1.370000e-02</td>\n",
              "      <td>1.171000e-01</td>\n",
              "      <td>6.642000e-01</td>\n",
              "      <td>0.0726</td>\n",
              "      <td>0.6326</td>\n",
              "      <td>0.096</td>\n",
              "    </tr>\n",
              "    <tr>\n",
              "      <th>knn</th>\n",
              "      <td>K Neighbors Regressor</td>\n",
              "      <td>0.0937</td>\n",
              "      <td>1.640000e-02</td>\n",
              "      <td>1.281000e-01</td>\n",
              "      <td>5.988000e-01</td>\n",
              "      <td>0.0808</td>\n",
              "      <td>0.6049</td>\n",
              "      <td>14.586</td>\n",
              "    </tr>\n",
              "    <tr>\n",
              "      <th>lasso</th>\n",
              "      <td>Lasso Regression</td>\n",
              "      <td>0.1605</td>\n",
              "      <td>4.100000e-02</td>\n",
              "      <td>2.024000e-01</td>\n",
              "      <td>-8.000000e-04</td>\n",
              "      <td>0.1276</td>\n",
              "      <td>1.1420</td>\n",
              "      <td>0.040</td>\n",
              "    </tr>\n",
              "    <tr>\n",
              "      <th>en</th>\n",
              "      <td>Elastic Net</td>\n",
              "      <td>0.1605</td>\n",
              "      <td>4.100000e-02</td>\n",
              "      <td>2.024000e-01</td>\n",
              "      <td>-8.000000e-04</td>\n",
              "      <td>0.1276</td>\n",
              "      <td>1.1420</td>\n",
              "      <td>0.038</td>\n",
              "    </tr>\n",
              "    <tr>\n",
              "      <th>llar</th>\n",
              "      <td>Lasso Least Angle Regression</td>\n",
              "      <td>0.1605</td>\n",
              "      <td>4.100000e-02</td>\n",
              "      <td>2.024000e-01</td>\n",
              "      <td>-8.000000e-04</td>\n",
              "      <td>0.1276</td>\n",
              "      <td>1.1420</td>\n",
              "      <td>0.039</td>\n",
              "    </tr>\n",
              "    <tr>\n",
              "      <th>dummy</th>\n",
              "      <td>Dummy Regressor</td>\n",
              "      <td>0.1605</td>\n",
              "      <td>4.100000e-02</td>\n",
              "      <td>2.024000e-01</td>\n",
              "      <td>-8.000000e-04</td>\n",
              "      <td>0.1276</td>\n",
              "      <td>1.1420</td>\n",
              "      <td>0.027</td>\n",
              "    </tr>\n",
              "    <tr>\n",
              "      <th>lar</th>\n",
              "      <td>Least Angle Regression</td>\n",
              "      <td>121210.5160</td>\n",
              "      <td>1.271244e+14</td>\n",
              "      <td>3.565451e+06</td>\n",
              "      <td>-3.131963e+15</td>\n",
              "      <td>1.3860</td>\n",
              "      <td>211649.7662</td>\n",
              "      <td>0.048</td>\n",
              "    </tr>\n",
              "  </tbody>\n",
              "</table>\n",
              "</div>\n",
              "      <button class=\"colab-df-convert\" onclick=\"convertToInteractive('df-fb9ae9cc-1904-46bf-84e4-be0c946fd6d2')\"\n",
              "              title=\"Convert this dataframe to an interactive table.\"\n",
              "              style=\"display:none;\">\n",
              "        \n",
              "  <svg xmlns=\"http://www.w3.org/2000/svg\" height=\"24px\"viewBox=\"0 0 24 24\"\n",
              "       width=\"24px\">\n",
              "    <path d=\"M0 0h24v24H0V0z\" fill=\"none\"/>\n",
              "    <path d=\"M18.56 5.44l.94 2.06.94-2.06 2.06-.94-2.06-.94-.94-2.06-.94 2.06-2.06.94zm-11 1L8.5 8.5l.94-2.06 2.06-.94-2.06-.94L8.5 2.5l-.94 2.06-2.06.94zm10 10l.94 2.06.94-2.06 2.06-.94-2.06-.94-.94-2.06-.94 2.06-2.06.94z\"/><path d=\"M17.41 7.96l-1.37-1.37c-.4-.4-.92-.59-1.43-.59-.52 0-1.04.2-1.43.59L10.3 9.45l-7.72 7.72c-.78.78-.78 2.05 0 2.83L4 21.41c.39.39.9.59 1.41.59.51 0 1.02-.2 1.41-.59l7.78-7.78 2.81-2.81c.8-.78.8-2.07 0-2.86zM5.41 20L4 18.59l7.72-7.72 1.47 1.35L5.41 20z\"/>\n",
              "  </svg>\n",
              "      </button>\n",
              "      \n",
              "  <style>\n",
              "    .colab-df-container {\n",
              "      display:flex;\n",
              "      flex-wrap:wrap;\n",
              "      gap: 12px;\n",
              "    }\n",
              "\n",
              "    .colab-df-convert {\n",
              "      background-color: #E8F0FE;\n",
              "      border: none;\n",
              "      border-radius: 50%;\n",
              "      cursor: pointer;\n",
              "      display: none;\n",
              "      fill: #1967D2;\n",
              "      height: 32px;\n",
              "      padding: 0 0 0 0;\n",
              "      width: 32px;\n",
              "    }\n",
              "\n",
              "    .colab-df-convert:hover {\n",
              "      background-color: #E2EBFA;\n",
              "      box-shadow: 0px 1px 2px rgba(60, 64, 67, 0.3), 0px 1px 3px 1px rgba(60, 64, 67, 0.15);\n",
              "      fill: #174EA6;\n",
              "    }\n",
              "\n",
              "    [theme=dark] .colab-df-convert {\n",
              "      background-color: #3B4455;\n",
              "      fill: #D2E3FC;\n",
              "    }\n",
              "\n",
              "    [theme=dark] .colab-df-convert:hover {\n",
              "      background-color: #434B5C;\n",
              "      box-shadow: 0px 1px 3px 1px rgba(0, 0, 0, 0.15);\n",
              "      filter: drop-shadow(0px 1px 2px rgba(0, 0, 0, 0.3));\n",
              "      fill: #FFFFFF;\n",
              "    }\n",
              "  </style>\n",
              "\n",
              "      <script>\n",
              "        const buttonEl =\n",
              "          document.querySelector('#df-fb9ae9cc-1904-46bf-84e4-be0c946fd6d2 button.colab-df-convert');\n",
              "        buttonEl.style.display =\n",
              "          google.colab.kernel.accessAllowed ? 'block' : 'none';\n",
              "\n",
              "        async function convertToInteractive(key) {\n",
              "          const element = document.querySelector('#df-fb9ae9cc-1904-46bf-84e4-be0c946fd6d2');\n",
              "          const dataTable =\n",
              "            await google.colab.kernel.invokeFunction('convertToInteractive',\n",
              "                                                     [key], {});\n",
              "          if (!dataTable) return;\n",
              "\n",
              "          const docLinkHtml = 'Like what you see? Visit the ' +\n",
              "            '<a target=\"_blank\" href=https://colab.research.google.com/notebooks/data_table.ipynb>data table notebook</a>'\n",
              "            + ' to learn more about interactive tables.';\n",
              "          element.innerHTML = '';\n",
              "          dataTable['output_type'] = 'display_data';\n",
              "          await google.colab.output.renderOutput(dataTable, element);\n",
              "          const docLink = document.createElement('div');\n",
              "          docLink.innerHTML = docLinkHtml;\n",
              "          element.appendChild(docLink);\n",
              "        }\n",
              "      </script>\n",
              "    </div>\n",
              "  </div>\n",
              "  "
            ],
            "text/plain": [
              "                                    Model          MAE           MSE  \\\n",
              "rf                Random Forest Regressor       0.0021  0.000000e+00   \n",
              "et                  Extra Trees Regressor       0.0026  1.000000e-04   \n",
              "catboost               CatBoost Regressor       0.0039  1.000000e-04   \n",
              "lightgbm  Light Gradient Boosting Machine       0.0050  1.000000e-04   \n",
              "dt                Decision Tree Regressor       0.0046  1.000000e-04   \n",
              "gbr           Gradient Boosting Regressor       0.0117  4.000000e-04   \n",
              "ada                    AdaBoost Regressor       0.0893  1.010000e-02   \n",
              "br                         Bayesian Ridge       0.0699  1.010000e-02   \n",
              "ridge                    Ridge Regression       0.0699  1.010000e-02   \n",
              "lr                      Linear Regression       0.0699  1.010000e-02   \n",
              "omp           Orthogonal Matching Pursuit       0.0720  1.040000e-02   \n",
              "par          Passive Aggressive Regressor       0.0889  1.370000e-02   \n",
              "knn                 K Neighbors Regressor       0.0937  1.640000e-02   \n",
              "lasso                    Lasso Regression       0.1605  4.100000e-02   \n",
              "en                            Elastic Net       0.1605  4.100000e-02   \n",
              "llar         Lasso Least Angle Regression       0.1605  4.100000e-02   \n",
              "dummy                     Dummy Regressor       0.1605  4.100000e-02   \n",
              "lar                Least Angle Regression  121210.5160  1.271244e+14   \n",
              "\n",
              "                  RMSE            R2   RMSLE         MAPE  TT (Sec)  \n",
              "rf        6.000000e-03  9.991000e-01  0.0049       0.0554    36.014  \n",
              "et        7.700000e-03  9.985000e-01  0.0064       0.0968    24.876  \n",
              "catboost  8.000000e-03  9.984000e-01  0.0062       0.0911    13.364  \n",
              "lightgbm  9.500000e-03  9.978000e-01  0.0073       0.1119     0.738  \n",
              "dt        1.150000e-02  9.967000e-01  0.0089       0.0539     0.594  \n",
              "gbr       1.880000e-02  9.914000e-01  0.0141       0.1582     9.513  \n",
              "ada       1.003000e-01  7.542000e-01  0.0597       0.4263     6.261  \n",
              "br        1.005000e-01  7.532000e-01  0.0650       0.6080     0.157  \n",
              "ridge     1.005000e-01  7.531000e-01  0.0650       0.6083     0.039  \n",
              "lr        1.005000e-01  7.531000e-01  0.0650       0.6083     0.551  \n",
              "omp       1.021000e-01  7.453000e-01  0.0659       0.5867     0.041  \n",
              "par       1.171000e-01  6.642000e-01  0.0726       0.6326     0.096  \n",
              "knn       1.281000e-01  5.988000e-01  0.0808       0.6049    14.586  \n",
              "lasso     2.024000e-01 -8.000000e-04  0.1276       1.1420     0.040  \n",
              "en        2.024000e-01 -8.000000e-04  0.1276       1.1420     0.038  \n",
              "llar      2.024000e-01 -8.000000e-04  0.1276       1.1420     0.039  \n",
              "dummy     2.024000e-01 -8.000000e-04  0.1276       1.1420     0.027  \n",
              "lar       3.565451e+06 -3.131963e+15  1.3860  211649.7662     0.048  "
            ]
          },
          "metadata": {},
          "output_type": "display_data"
        },
        {
          "name": "stderr",
          "output_type": "stream",
          "text": [
            "INFO:logs:create_model_container: 20\n",
            "INFO:logs:master_model_container: 20\n",
            "INFO:logs:display_container: 2\n",
            "INFO:logs:RandomForestRegressor(bootstrap=True, ccp_alpha=0.0, criterion='mse',\n",
            "                      max_depth=None, max_features='auto', max_leaf_nodes=None,\n",
            "                      max_samples=None, min_impurity_decrease=0.0,\n",
            "                      min_impurity_split=None, min_samples_leaf=1,\n",
            "                      min_samples_split=2, min_weight_fraction_leaf=0.0,\n",
            "                      n_estimators=100, n_jobs=-1, oob_score=False,\n",
            "                      random_state=42, verbose=0, warm_start=False)\n",
            "INFO:logs:compare_models() succesfully completed......................................\n"
          ]
        },
        {
          "data": {
            "text/plain": [
              "RandomForestRegressor(bootstrap=True, ccp_alpha=0.0, criterion='mse',\n",
              "                      max_depth=None, max_features='auto', max_leaf_nodes=None,\n",
              "                      max_samples=None, min_impurity_decrease=0.0,\n",
              "                      min_impurity_split=None, min_samples_leaf=1,\n",
              "                      min_samples_split=2, min_weight_fraction_leaf=0.0,\n",
              "                      n_estimators=100, n_jobs=-1, oob_score=False,\n",
              "                      random_state=42, verbose=0, warm_start=False)"
            ]
          },
          "execution_count": 37,
          "metadata": {},
          "output_type": "execute_result"
        }
      ],
      "source": [
        "# Run the regression experiment for comparing all regression model performance on the given data\n",
        "compare_models()"
      ]
    },
    {
      "cell_type": "code",
      "execution_count": null,
      "metadata": {
        "colab": {
          "base_uri": "https://localhost:8080/",
          "height": 621
        },
        "id": "XMyOFlZgvrla",
        "outputId": "288dda30-03eb-4f4e-dc37-56d5f94ef813"
      },
      "outputs": [
        {
          "data": {
            "text/html": [
              "\n",
              "        <iframe\n",
              "            width=\"100%\"\n",
              "            height=\"600\"\n",
              "            src=\"https://dagshub.com/shubh2016shiv/ccf_regression_exps/experiments/#/\"\n",
              "            frameborder=\"0\"\n",
              "            allowfullscreen\n",
              "        ></iframe>\n",
              "        "
            ],
            "text/plain": [
              "<IPython.lib.display.IFrame at 0x7fb0f092ee80>"
            ]
          },
          "metadata": {},
          "output_type": "display_data"
        }
      ],
      "source": [
        "# See Regression experiments table\n",
        "import IPython\n",
        "display(IPython.display.IFrame(\"https://dagshub.com/\"+ os.environ['MLFLOW_TRACKING_USERNAME'] \n",
        "                        + '/' + os.environ['MLFLOW_TRACKING_PROJECTNAME'] + \"/experiments/#/\",'100%',600))"
      ]
    },
    {
      "cell_type": "markdown",
      "metadata": {
        "id": "bFAKPagsnebh"
      },
      "source": [
        "### Training and optimizing selected regression models (ON WHOLE TRAINING DATASET)"
      ]
    },
    {
      "cell_type": "markdown",
      "source": [
        "**OBJECTIVE:**\n",
        "\n",
        "\n",
        ">The objective of this section is to train and optimize the 3 selected regression models and evaluate the performance using cross validation"
      ],
      "metadata": {
        "id": "-dt3ST03cmLG"
      }
    },
    {
      "cell_type": "code",
      "execution_count": null,
      "metadata": {
        "id": "-_y6QEaWsrru"
      },
      "outputs": [],
      "source": [
        "from sklearn.ensemble import AdaBoostRegressor\n",
        "from sklearn.linear_model import LinearRegression\n",
        "from sklearn.tree import DecisionTreeRegressor \n",
        "from sklearn.model_selection import GridSearchCV, RandomizedSearchCV, cross_val_score\n",
        "from yellowbrick.regressor import ResidualsPlot\n",
        "from yellowbrick.model_selection import FeatureImportances"
      ]
    },
    {
      "cell_type": "markdown",
      "metadata": {
        "id": "jBSbxL7LuhNL"
      },
      "source": [
        "#### Function for K-Cross Validation"
      ]
    },
    {
      "cell_type": "code",
      "execution_count": null,
      "metadata": {
        "id": "cahEzcgcuON7"
      },
      "outputs": [],
      "source": [
        "'''\n",
        "This function performs the 3-fold Cross validation and will be used repeatedly for three selected models  \n",
        "'''\n",
        "\n",
        "def get_k_fold_cross_validation_scores(X,y,estimator,scoring_metric,model_name=None,n_splits=5,dataset_type=None,optimization_type_used=None):\n",
        "  if dataset_type is not None:\n",
        "    cv_scores = cross_val_score(estimator=estimator,\\\n",
        "                X = X,\\\n",
        "                y = y,\\\n",
        "                scoring=scoring_metric, # Scoring Meric such as r2, MSE, RMSE etc\n",
        "                cv=3, # Cross validation using 3-folds\n",
        "                n_jobs=-1)  \n",
        "    return (\n",
        "        \"Cross Validation {} of {} Optimized {} model on {}: {:.3f} +/- {:.3f}\".format(scoring_metric,optimization_type_used,model_name,dataset_type,np.mean(cv_scores),np.std(cv_scores)),\n",
        "        np.mean(cv_scores), # Average Score\n",
        "        np.std(cv_scores) # Score standard deviation\n",
        "    )"
      ]
    },
    {
      "cell_type": "markdown",
      "metadata": {
        "id": "9D72m3wk-cNz"
      },
      "source": [
        "#### Preparing validation dataset"
      ]
    },
    {
      "cell_type": "code",
      "execution_count": null,
      "metadata": {
        "id": "RwhARP7v-oI5"
      },
      "outputs": [],
      "source": [
        "# apply data conversions to validation dataset\n",
        "emp_length_converter(X_val, 'emp_length')\n",
        "loan_term_converter(X_val, 'term')\n",
        "int_rate_converter(X_val, 'int_rate')\n",
        "date_column_converter(X_val, 'issue_d')\n",
        "date_column_converter(X_val, 'earliest_cr_line')"
      ]
    },
    {
      "cell_type": "code",
      "execution_count": null,
      "metadata": {
        "id": "pgvEUlIS-oI6"
      },
      "outputs": [],
      "source": [
        "# Apply the data conversions to other object type columns, which does not requires string replacements\n",
        "\n",
        "#Validation Dataset\n",
        "object_to_numeric_converter(X_val,['dti',\n",
        "                                    'delinq_2yrs',\n",
        "                                    'mths_since_last_delinq',\n",
        "                                    'mths_since_last_record',\n",
        "                                    'open_acc',\n",
        "                                    'pub_rec',\n",
        "                                    'total_acc',\n",
        "                                    'acc_now_delinq',\n",
        "                                    'total_rev_hi_lim',\n",
        "                                    'mths_since_earliest_cr_line'])"
      ]
    },
    {
      "cell_type": "code",
      "execution_count": null,
      "metadata": {
        "id": "RC-pUn5W_J3c"
      },
      "outputs": [],
      "source": [
        "# Imputing missing values\n",
        "\n",
        "# on validation dataset\n",
        "X_val[null_numerical_columns] = random_sample_imputer.transform(X_val[null_numerical_columns])"
      ]
    },
    {
      "cell_type": "code",
      "execution_count": null,
      "metadata": {
        "id": "nnspSRBY_pwH"
      },
      "outputs": [],
      "source": [
        "# Apply one-hot encoding transformation\n",
        "\n",
        "#validation dataset\n",
        "X_val = ohe_enc.transform(X_val)"
      ]
    },
    {
      "cell_type": "code",
      "execution_count": null,
      "metadata": {
        "id": "HXGybSAB_jXV"
      },
      "outputs": [],
      "source": [
        "# perform scaling transformation\n",
        "\n",
        "# validation dataset\n",
        "X_val[numerical_columns] = scaler.transform(X_val[numerical_columns])"
      ]
    },
    {
      "cell_type": "markdown",
      "metadata": {
        "id": "0f7x3wNgTsW-"
      },
      "source": [
        "#### Training and optimizing Linear Regression Model with cross validation"
      ]
    },
    {
      "cell_type": "code",
      "execution_count": null,
      "metadata": {
        "id": "fipkT6K_UB51"
      },
      "outputs": [],
      "source": [
        "# Create the model\n",
        "linear_regression_model = LinearRegression(copy_X=True)"
      ]
    },
    {
      "cell_type": "code",
      "execution_count": null,
      "metadata": {
        "colab": {
          "base_uri": "https://localhost:8080/"
        },
        "id": "ZgUCQ8fzUB52",
        "outputId": "812901c6-4075-42be-9cc9-b59b99ced9de"
      },
      "outputs": [
        {
          "output_type": "stream",
          "name": "stdout",
          "text": [
            "Fitting 3 folds for each of 4 candidates, totalling 12 fits\n"
          ]
        },
        {
          "output_type": "stream",
          "name": "stderr",
          "text": [
            "[Parallel(n_jobs=-1)]: Using backend LokyBackend with 2 concurrent workers.\n",
            "[Parallel(n_jobs=-1)]: Done  12 out of  12 | elapsed:    6.0s finished\n"
          ]
        },
        {
          "output_type": "execute_result",
          "data": {
            "text/plain": [
              "GridSearchCV(cv=3, estimator=LinearRegression(), n_jobs=-1,\n",
              "             param_grid={'fit_intercept': [True, False],\n",
              "                         'normalize': [True, False]},\n",
              "             scoring='neg_mean_squared_error', verbose=4)"
            ]
          },
          "metadata": {},
          "execution_count": 38
        }
      ],
      "source": [
        "# Define the parameter grid\n",
        "param_grid = {\n",
        "     'fit_intercept': [True, False],\n",
        "     'normalize': [True, False]\n",
        "}\n",
        "\n",
        "# Create the grid search object\n",
        "linear_regression_gridSearch_optimizer = GridSearchCV(estimator=linear_regression_model, # Hyper-parameter tuning using linear regression\n",
        "                                                      param_grid=param_grid, # Parameter seach space\n",
        "                                                      cv=3, # Cross validation evaluation using 3-folds\n",
        "                                                      scoring='neg_mean_squared_error', # Find combination with maximum negative mean square error \n",
        "                                                      verbose=4,\n",
        "                                                      n_jobs=-1 # Use all the available CPU cores for hyper-parameter tuning \n",
        "                                                      )\n",
        "\n",
        "# Fit the grid search to the training data\n",
        "linear_regression_gridSearch_optimizer.fit(X_train_original, y_train_original)\n"
      ]
    },
    {
      "cell_type": "code",
      "source": [
        "# Print the best hyperparameters\n",
        "print(linear_regression_gridSearch_optimizer.best_params_)"
      ],
      "metadata": {
        "colab": {
          "base_uri": "https://localhost:8080/"
        },
        "id": "mDdcbcjLN9ds",
        "outputId": "4738172f-4a39-4a99-effa-0673193d4d06"
      },
      "execution_count": null,
      "outputs": [
        {
          "output_type": "stream",
          "name": "stdout",
          "text": [
            "{'fit_intercept': True, 'normalize': False}\n"
          ]
        }
      ]
    },
    {
      "cell_type": "code",
      "execution_count": null,
      "metadata": {
        "id": "APggNCs2UB53"
      },
      "outputs": [],
      "source": [
        "optimized_linear_regression_model = linear_regression_gridSearch_optimizer.best_estimator_"
      ]
    },
    {
      "cell_type": "code",
      "execution_count": null,
      "metadata": {
        "colab": {
          "base_uri": "https://localhost:8080/"
        },
        "id": "B3nyNIfjw0fr",
        "outputId": "c576c6e3-aa3c-4d90-81fd-7586230fb7af"
      },
      "outputs": [
        {
          "output_type": "stream",
          "name": "stdout",
          "text": [
            "Cross Validation r2 of Random Search Optimized Linear Regression model on training dataset: 0.746 +/- 0.008\n",
            "Cross Validation r2 of Random Search Optimized Linear Regression model on validation dataset: 0.746 +/- 0.006\n"
          ]
        }
      ],
      "source": [
        "# Perform the cross validation for r2 score on training and validation using optimized Linear Regression Model\n",
        "# Using training dataset\n",
        "cv_result, mean_cv, std_cv = get_k_fold_cross_validation_scores(X = X_train_original,\n",
        "                                                                 y = y_train_original,\n",
        "                                                                 estimator = optimized_linear_regression_model,\n",
        "                                                                 scoring_metric='r2',\n",
        "                                                                 model_name=\"Linear Regression\",\n",
        "                                                                 dataset_type='training dataset',\n",
        "                                                                 optimization_type_used=\"Random Search\")\n",
        "\n",
        "print(cv_result)\n",
        "\n",
        "# Using Validation dataset\n",
        "cv_result, mean_cv, std_cv = get_k_fold_cross_validation_scores(X = X_val,\n",
        "                                                                 y = y_val,\n",
        "                                                                 estimator = optimized_linear_regression_model,\n",
        "                                                                 scoring_metric='r2',\n",
        "                                                                 model_name=\"Linear Regression\",\n",
        "                                                                 dataset_type='validation dataset',\n",
        "                                                                 optimization_type_used=\"Random Search\")\n",
        "\n",
        "print(cv_result)"
      ]
    },
    {
      "cell_type": "code",
      "execution_count": null,
      "metadata": {
        "colab": {
          "base_uri": "https://localhost:8080/"
        },
        "id": "Y2BsiFrfw0fs",
        "outputId": "7a1b1daa-bffe-4a96-c8ca-8c567c6e186e"
      },
      "outputs": [
        {
          "output_type": "stream",
          "name": "stdout",
          "text": [
            "Cross Validation neg_mean_squared_error of Random Search Optimized Linear Regression model on training dataset: -0.010 +/- 0.000\n",
            "Cross Validation neg_mean_squared_error of Random Search Optimized Linear Regression model on validation dataset: -0.010 +/- 0.000\n"
          ]
        }
      ],
      "source": [
        "# Perform the cross validation for MSE score on training and validation using optimized Linear Regression Model\n",
        "# Using training dataset\n",
        "cv_result, mean_cv, std_cv = get_k_fold_cross_validation_scores(X = X_train_original,\n",
        "                                                                 y = y_train_original,\n",
        "                                                                 estimator = optimized_linear_regression_model,\n",
        "                                                                 scoring_metric='neg_mean_squared_error',\n",
        "                                                                 model_name=\"Linear Regression\",\n",
        "                                                                 dataset_type='training dataset',\n",
        "                                                                 optimization_type_used=\"Random Search\")\n",
        "\n",
        "print(cv_result)\n",
        "\n",
        "# Using Validation dataset\n",
        "cv_result, mean_cv, std_cv = get_k_fold_cross_validation_scores(X = X_val,\n",
        "                                                                 y = y_val,\n",
        "                                                                 estimator = optimized_linear_regression_model,\n",
        "                                                                 scoring_metric='neg_mean_squared_error',\n",
        "                                                                 model_name=\"Linear Regression\",\n",
        "                                                                 dataset_type='validation dataset',\n",
        "                                                                 optimization_type_used=\"Random Search\")\n",
        "\n",
        "print(cv_result)"
      ]
    },
    {
      "cell_type": "markdown",
      "metadata": {
        "id": "ThmuURGGm-sR"
      },
      "source": [
        "#### Training and optimizing Adaboost Regression Model with cross validation"
      ]
    },
    {
      "cell_type": "code",
      "execution_count": null,
      "metadata": {
        "colab": {
          "base_uri": "https://localhost:8080/"
        },
        "id": "qGzHev0hlJ9c",
        "outputId": "d0f8c3dc-ec43-4378-bcf5-b9e1107dc7ec"
      },
      "outputs": [
        {
          "output_type": "stream",
          "name": "stdout",
          "text": [
            "Fitting 3 folds for each of 10 candidates, totalling 30 fits\n",
            "[CV] n_estimators=50, loss=square, learning_rate=1 ...................\n"
          ]
        },
        {
          "output_type": "stream",
          "name": "stderr",
          "text": [
            "[Parallel(n_jobs=1)]: Using backend SequentialBackend with 1 concurrent workers.\n"
          ]
        },
        {
          "output_type": "stream",
          "name": "stdout",
          "text": [
            "[CV]  n_estimators=50, loss=square, learning_rate=1, score=-0.011, total=  23.8s\n",
            "[CV] n_estimators=50, loss=square, learning_rate=1 ...................\n"
          ]
        },
        {
          "output_type": "stream",
          "name": "stderr",
          "text": [
            "[Parallel(n_jobs=1)]: Done   1 out of   1 | elapsed:   23.8s remaining:    0.0s\n"
          ]
        },
        {
          "output_type": "stream",
          "name": "stdout",
          "text": [
            "[CV]  n_estimators=50, loss=square, learning_rate=1, score=-0.011, total=  21.2s\n",
            "[CV] n_estimators=50, loss=square, learning_rate=1 ...................\n"
          ]
        },
        {
          "output_type": "stream",
          "name": "stderr",
          "text": [
            "[Parallel(n_jobs=1)]: Done   2 out of   2 | elapsed:   45.0s remaining:    0.0s\n"
          ]
        },
        {
          "output_type": "stream",
          "name": "stdout",
          "text": [
            "[CV]  n_estimators=50, loss=square, learning_rate=1, score=-0.012, total=  22.7s\n",
            "[CV] n_estimators=150, loss=square, learning_rate=0.1 ................\n"
          ]
        },
        {
          "output_type": "stream",
          "name": "stderr",
          "text": [
            "[Parallel(n_jobs=1)]: Done   3 out of   3 | elapsed:  1.1min remaining:    0.0s\n"
          ]
        },
        {
          "output_type": "stream",
          "name": "stdout",
          "text": [
            "[CV]  n_estimators=150, loss=square, learning_rate=0.1, score=-0.007, total= 1.3min\n",
            "[CV] n_estimators=150, loss=square, learning_rate=0.1 ................\n",
            "[CV]  n_estimators=150, loss=square, learning_rate=0.1, score=-0.008, total= 1.1min\n",
            "[CV] n_estimators=150, loss=square, learning_rate=0.1 ................\n",
            "[CV]  n_estimators=150, loss=square, learning_rate=0.1, score=-0.008, total= 1.2min\n",
            "[CV] n_estimators=10, loss=linear, learning_rate=1 ...................\n",
            "[CV]  n_estimators=10, loss=linear, learning_rate=1, score=-0.008, total=   4.7s\n",
            "[CV] n_estimators=10, loss=linear, learning_rate=1 ...................\n",
            "[CV]  n_estimators=10, loss=linear, learning_rate=1, score=-0.007, total=   4.6s\n",
            "[CV] n_estimators=10, loss=linear, learning_rate=1 ...................\n",
            "[CV]  n_estimators=10, loss=linear, learning_rate=1, score=-0.008, total=   4.6s\n",
            "[CV] n_estimators=50, loss=linear, learning_rate=0.5 .................\n",
            "[CV]  n_estimators=50, loss=linear, learning_rate=0.5, score=-0.008, total=  22.2s\n",
            "[CV] n_estimators=50, loss=linear, learning_rate=0.5 .................\n",
            "[CV]  n_estimators=50, loss=linear, learning_rate=0.5, score=-0.008, total=  21.9s\n",
            "[CV] n_estimators=50, loss=linear, learning_rate=0.5 .................\n",
            "[CV]  n_estimators=50, loss=linear, learning_rate=0.5, score=-0.008, total=  24.3s\n",
            "[CV] n_estimators=10, loss=linear, learning_rate=0.1 .................\n",
            "[CV]  n_estimators=10, loss=linear, learning_rate=0.1, score=-0.011, total=   4.6s\n",
            "[CV] n_estimators=10, loss=linear, learning_rate=0.1 .................\n",
            "[CV]  n_estimators=10, loss=linear, learning_rate=0.1, score=-0.011, total=   4.6s\n",
            "[CV] n_estimators=10, loss=linear, learning_rate=0.1 .................\n",
            "[CV]  n_estimators=10, loss=linear, learning_rate=0.1, score=-0.011, total=   4.7s\n",
            "[CV] n_estimators=50, loss=linear, learning_rate=0.1 .................\n",
            "[CV]  n_estimators=50, loss=linear, learning_rate=0.1, score=-0.008, total=  23.5s\n",
            "[CV] n_estimators=50, loss=linear, learning_rate=0.1 .................\n",
            "[CV]  n_estimators=50, loss=linear, learning_rate=0.1, score=-0.007, total=  28.7s\n",
            "[CV] n_estimators=50, loss=linear, learning_rate=0.1 .................\n",
            "[CV]  n_estimators=50, loss=linear, learning_rate=0.1, score=-0.007, total=  23.5s\n",
            "[CV] n_estimators=100, loss=square, learning_rate=1 ..................\n",
            "[CV]  n_estimators=100, loss=square, learning_rate=1, score=-0.013, total=  38.8s\n",
            "[CV] n_estimators=100, loss=square, learning_rate=1 ..................\n",
            "[CV]  n_estimators=100, loss=square, learning_rate=1, score=-0.013, total=  36.6s\n",
            "[CV] n_estimators=100, loss=square, learning_rate=1 ..................\n",
            "[CV]  n_estimators=100, loss=square, learning_rate=1, score=-0.014, total=  36.5s\n",
            "[CV] n_estimators=50, loss=linear, learning_rate=1 ...................\n",
            "[CV]  n_estimators=50, loss=linear, learning_rate=1, score=-0.010, total=  23.3s\n",
            "[CV] n_estimators=50, loss=linear, learning_rate=1 ...................\n",
            "[CV]  n_estimators=50, loss=linear, learning_rate=1, score=-0.010, total=  20.9s\n",
            "[CV] n_estimators=50, loss=linear, learning_rate=1 ...................\n",
            "[CV]  n_estimators=50, loss=linear, learning_rate=1, score=-0.012, total=  21.4s\n",
            "[CV] n_estimators=10, loss=square, learning_rate=0.1 .................\n",
            "[CV]  n_estimators=10, loss=square, learning_rate=0.1, score=-0.011, total=   4.7s\n",
            "[CV] n_estimators=10, loss=square, learning_rate=0.1 .................\n",
            "[CV]  n_estimators=10, loss=square, learning_rate=0.1, score=-0.011, total=   4.7s\n",
            "[CV] n_estimators=10, loss=square, learning_rate=0.1 .................\n",
            "[CV]  n_estimators=10, loss=square, learning_rate=0.1, score=-0.011, total=   4.8s\n",
            "[CV] n_estimators=10, loss=linear, learning_rate=0.01 ................\n",
            "[CV]  n_estimators=10, loss=linear, learning_rate=0.01, score=-0.012, total=   4.7s\n",
            "[CV] n_estimators=10, loss=linear, learning_rate=0.01 ................\n",
            "[CV]  n_estimators=10, loss=linear, learning_rate=0.01, score=-0.012, total=   4.7s\n",
            "[CV] n_estimators=10, loss=linear, learning_rate=0.01 ................\n",
            "[CV]  n_estimators=10, loss=linear, learning_rate=0.01, score=-0.012, total=   4.7s\n"
          ]
        },
        {
          "output_type": "stream",
          "name": "stderr",
          "text": [
            "[Parallel(n_jobs=1)]: Done  30 out of  30 | elapsed: 11.0min finished\n"
          ]
        },
        {
          "output_type": "execute_result",
          "data": {
            "text/plain": [
              "RandomizedSearchCV(cv=3, estimator=AdaBoostRegressor(random_state=42),\n",
              "                   param_distributions={'learning_rate': [0.01, 0.1, 0.5, 1],\n",
              "                                        'loss': ['linear', 'square'],\n",
              "                                        'n_estimators': [10, 50, 100, 150]},\n",
              "                   random_state=42, scoring='neg_mean_squared_error',\n",
              "                   verbose=4)"
            ]
          },
          "metadata": {},
          "execution_count": 43
        }
      ],
      "source": [
        "# Define the parameter grid\n",
        "param_grid = {\n",
        "    'n_estimators': [10, 50, 100,150],\n",
        "    'learning_rate': [0.01,0.1, 0.5, 1],\n",
        "    'loss':['linear','square']\n",
        "}\n",
        "\n",
        "# Create the adaboost regression model\n",
        "adaboost_regression_model = AdaBoostRegressor(random_state=RANDOM_SEED)\n",
        "\n",
        "# Create the grid search object\n",
        "adaboost_randomSearch_optimizer = RandomizedSearchCV(estimator=adaboost_regression_model, # Hyper-parameter tuning using Adaboost regression\n",
        "                                            param_distributions=param_grid, # Parameter seach space\n",
        "                                            cv=3,   # Cross validation evaluation using 5-folds\n",
        "                                            scoring='neg_mean_squared_error',   # Find combination with maximum negative mean square error \n",
        "                                            random_state=RANDOM_SEED, # Same random seed for consistent result\n",
        "                                            verbose=4)\n",
        "\n",
        "# Fit the grid search to the training data\n",
        "adaboost_randomSearch_optimizer.fit(X_train_original, y_train_original)"
      ]
    },
    {
      "cell_type": "code",
      "execution_count": null,
      "metadata": {
        "colab": {
          "base_uri": "https://localhost:8080/"
        },
        "id": "g69fliYPuCe7",
        "outputId": "a356604c-3771-4346-f7fa-2df40adcc7f9"
      },
      "outputs": [
        {
          "output_type": "stream",
          "name": "stdout",
          "text": [
            "{'n_estimators': 50, 'loss': 'linear', 'learning_rate': 0.1}\n"
          ]
        }
      ],
      "source": [
        "# Print the best hyperparameters\n",
        "print(adaboost_randomSearch_optimizer.best_params_)"
      ]
    },
    {
      "cell_type": "code",
      "execution_count": null,
      "metadata": {
        "id": "bjTIUdnnmJoJ"
      },
      "outputs": [],
      "source": [
        "# Optimized Adaboost Regression model\n",
        "optimized_adaboost_regression_model = adaboost_randomSearch_optimizer.best_estimator_"
      ]
    },
    {
      "cell_type": "code",
      "execution_count": null,
      "metadata": {
        "colab": {
          "base_uri": "https://localhost:8080/"
        },
        "id": "nP2B9EuquHpR",
        "outputId": "e8801619-2289-4907-83c7-ffb6bf059c53"
      },
      "outputs": [
        {
          "output_type": "stream",
          "name": "stdout",
          "text": [
            "Cross Validation r2 of Random Search Optimized Adaboost Regression model on training dataset: 0.817 +/- 0.004\n",
            "Cross Validation r2 of Random Search Optimized Adaboost Regression model on validation dataset: 0.829 +/- 0.007\n"
          ]
        }
      ],
      "source": [
        "# Perform the cross validation for r2 score on training and validation using optimized Adaboost Regression Model\n",
        "# Using training dataset\n",
        "cv_result, mean_cv, std_cv = get_k_fold_cross_validation_scores(X = X_train_original,\n",
        "                                                                 y = y_train_original,\n",
        "                                                                 estimator = optimized_adaboost_regression_model,\n",
        "                                                                 scoring_metric='r2',\n",
        "                                                                 model_name=\"Adaboost Regression\",\n",
        "                                                                 dataset_type='training dataset',\n",
        "                                                                 optimization_type_used=\"Random Search\")\n",
        "\n",
        "print(cv_result)\n",
        "\n",
        "# Using Validation dataset\n",
        "cv_result, mean_cv, std_cv = get_k_fold_cross_validation_scores(X = X_val,\n",
        "                                                                 y = y_val,\n",
        "                                                                 estimator = optimized_adaboost_regression_model,\n",
        "                                                                 scoring_metric='r2',\n",
        "                                                                 model_name=\"Adaboost Regression\",\n",
        "                                                                 dataset_type='validation dataset',\n",
        "                                                                 optimization_type_used=\"Random Search\")\n",
        "\n",
        "print(cv_result)"
      ]
    },
    {
      "cell_type": "code",
      "execution_count": null,
      "metadata": {
        "colab": {
          "base_uri": "https://localhost:8080/"
        },
        "id": "OKgf0XyFwYiX",
        "outputId": "d5f6e6c8-4f16-487f-f809-b4a997bd15b7"
      },
      "outputs": [
        {
          "output_type": "stream",
          "name": "stdout",
          "text": [
            "Cross Validation neg_mean_squared_error of Random Search Optimized Adaboost Regression model on training dataset: -0.007 +/- 0.000\n",
            "Cross Validation neg_mean_squared_error of Random Search Optimized Adaboost Regression model on validation dataset: -0.007 +/- 0.000\n"
          ]
        }
      ],
      "source": [
        "# Perform the cross validation for MSE score on training and validation using optimized Adaboost Regression Model\n",
        "# Using training dataset\n",
        "cv_result, mean_cv, std_cv = get_k_fold_cross_validation_scores(X = X_train_original,\n",
        "                                                                 y = y_train_original,\n",
        "                                                                 estimator = optimized_adaboost_regression_model,\n",
        "                                                                 scoring_metric='neg_mean_squared_error',\n",
        "                                                                 model_name=\"Adaboost Regression\",\n",
        "                                                                 dataset_type='training dataset',\n",
        "                                                                 optimization_type_used=\"Random Search\")\n",
        "\n",
        "print(cv_result)\n",
        "\n",
        "# Using Validation dataset\n",
        "cv_result, mean_cv, std_cv = get_k_fold_cross_validation_scores(X = X_val,\n",
        "                                                                 y = y_val,\n",
        "                                                                 estimator = optimized_adaboost_regression_model,\n",
        "                                                                 scoring_metric='neg_mean_squared_error',\n",
        "                                                                 model_name=\"Adaboost Regression\",\n",
        "                                                                 dataset_type='validation dataset',\n",
        "                                                                 optimization_type_used=\"Random Search\")\n",
        "\n",
        "print(cv_result)"
      ]
    },
    {
      "cell_type": "markdown",
      "metadata": {
        "id": "VO1tvuJnTsjR"
      },
      "source": [
        "#### Training and optimizing Decision Tree Regression Model with cross validation"
      ]
    },
    {
      "cell_type": "code",
      "execution_count": null,
      "metadata": {
        "colab": {
          "base_uri": "https://localhost:8080/"
        },
        "id": "HN9Yd1pEUCgN",
        "outputId": "c741dd79-c3a4-4f35-bd1f-1da20b93a05b"
      },
      "outputs": [
        {
          "output_type": "stream",
          "name": "stdout",
          "text": [
            "Fitting 3 folds for each of 10 candidates, totalling 30 fits\n",
            "[CV] min_samples_split=2, min_samples_leaf=1, max_leaf_nodes=50, max_features=log2, max_depth=30 \n",
            "[CV]  min_samples_split=2, min_samples_leaf=1, max_leaf_nodes=50, max_features=log2, max_depth=30, score=-0.020, total=   0.1s\n",
            "[CV] min_samples_split=2, min_samples_leaf=1, max_leaf_nodes=50, max_features=log2, max_depth=30 \n"
          ]
        },
        {
          "output_type": "stream",
          "name": "stderr",
          "text": [
            "[Parallel(n_jobs=1)]: Using backend SequentialBackend with 1 concurrent workers.\n",
            "[Parallel(n_jobs=1)]: Done   1 out of   1 | elapsed:    0.1s remaining:    0.0s\n"
          ]
        },
        {
          "output_type": "stream",
          "name": "stdout",
          "text": [
            "[CV]  min_samples_split=2, min_samples_leaf=1, max_leaf_nodes=50, max_features=log2, max_depth=30, score=-0.019, total=   0.1s\n",
            "[CV] min_samples_split=2, min_samples_leaf=1, max_leaf_nodes=50, max_features=log2, max_depth=30 \n",
            "[CV]  min_samples_split=2, min_samples_leaf=1, max_leaf_nodes=50, max_features=log2, max_depth=30, score=-0.018, total=   0.1s\n",
            "[CV] min_samples_split=10, min_samples_leaf=2, max_leaf_nodes=40, max_features=auto, max_depth=30 \n"
          ]
        },
        {
          "output_type": "stream",
          "name": "stderr",
          "text": [
            "[Parallel(n_jobs=1)]: Done   2 out of   2 | elapsed:    0.3s remaining:    0.0s\n",
            "[Parallel(n_jobs=1)]: Done   3 out of   3 | elapsed:    0.4s remaining:    0.0s\n"
          ]
        },
        {
          "output_type": "stream",
          "name": "stdout",
          "text": [
            "[CV]  min_samples_split=10, min_samples_leaf=2, max_leaf_nodes=40, max_features=auto, max_depth=30, score=-0.003, total=   0.7s\n",
            "[CV] min_samples_split=10, min_samples_leaf=2, max_leaf_nodes=40, max_features=auto, max_depth=30 \n",
            "[CV]  min_samples_split=10, min_samples_leaf=2, max_leaf_nodes=40, max_features=auto, max_depth=30, score=-0.003, total=   0.7s\n",
            "[CV] min_samples_split=10, min_samples_leaf=2, max_leaf_nodes=40, max_features=auto, max_depth=30 \n",
            "[CV]  min_samples_split=10, min_samples_leaf=2, max_leaf_nodes=40, max_features=auto, max_depth=30, score=-0.003, total=   0.7s\n",
            "[CV] min_samples_split=5, min_samples_leaf=4, max_leaf_nodes=50, max_features=log2, max_depth=50 \n",
            "[CV]  min_samples_split=5, min_samples_leaf=4, max_leaf_nodes=50, max_features=log2, max_depth=50, score=-0.020, total=   0.1s\n",
            "[CV] min_samples_split=5, min_samples_leaf=4, max_leaf_nodes=50, max_features=log2, max_depth=50 \n",
            "[CV]  min_samples_split=5, min_samples_leaf=4, max_leaf_nodes=50, max_features=log2, max_depth=50, score=-0.019, total=   0.1s\n",
            "[CV] min_samples_split=5, min_samples_leaf=4, max_leaf_nodes=50, max_features=log2, max_depth=50 \n",
            "[CV]  min_samples_split=5, min_samples_leaf=4, max_leaf_nodes=50, max_features=log2, max_depth=50, score=-0.018, total=   0.1s\n",
            "[CV] min_samples_split=5, min_samples_leaf=1, max_leaf_nodes=10, max_features=auto, max_depth=50 \n",
            "[CV]  min_samples_split=5, min_samples_leaf=1, max_leaf_nodes=10, max_features=auto, max_depth=50, score=-0.011, total=   0.5s\n",
            "[CV] min_samples_split=5, min_samples_leaf=1, max_leaf_nodes=10, max_features=auto, max_depth=50 \n",
            "[CV]  min_samples_split=5, min_samples_leaf=1, max_leaf_nodes=10, max_features=auto, max_depth=50, score=-0.011, total=   0.5s\n",
            "[CV] min_samples_split=5, min_samples_leaf=1, max_leaf_nodes=10, max_features=auto, max_depth=50 \n",
            "[CV]  min_samples_split=5, min_samples_leaf=1, max_leaf_nodes=10, max_features=auto, max_depth=50, score=-0.011, total=   0.5s\n",
            "[CV] min_samples_split=10, min_samples_leaf=4, max_leaf_nodes=20, max_features=log2, max_depth=30 \n",
            "[CV]  min_samples_split=10, min_samples_leaf=4, max_leaf_nodes=20, max_features=log2, max_depth=30, score=-0.022, total=   0.1s\n",
            "[CV] min_samples_split=10, min_samples_leaf=4, max_leaf_nodes=20, max_features=log2, max_depth=30 \n",
            "[CV]  min_samples_split=10, min_samples_leaf=4, max_leaf_nodes=20, max_features=log2, max_depth=30, score=-0.022, total=   0.1s\n",
            "[CV] min_samples_split=10, min_samples_leaf=4, max_leaf_nodes=20, max_features=log2, max_depth=30 \n",
            "[CV]  min_samples_split=10, min_samples_leaf=4, max_leaf_nodes=20, max_features=log2, max_depth=30, score=-0.021, total=   0.1s\n",
            "[CV] min_samples_split=2, min_samples_leaf=1, max_leaf_nodes=20, max_features=sqrt, max_depth=10 \n",
            "[CV]  min_samples_split=2, min_samples_leaf=1, max_leaf_nodes=20, max_features=sqrt, max_depth=10, score=-0.024, total=   0.1s\n",
            "[CV] min_samples_split=2, min_samples_leaf=1, max_leaf_nodes=20, max_features=sqrt, max_depth=10 \n",
            "[CV]  min_samples_split=2, min_samples_leaf=1, max_leaf_nodes=20, max_features=sqrt, max_depth=10, score=-0.023, total=   0.1s\n",
            "[CV] min_samples_split=2, min_samples_leaf=1, max_leaf_nodes=20, max_features=sqrt, max_depth=10 \n",
            "[CV]  min_samples_split=2, min_samples_leaf=1, max_leaf_nodes=20, max_features=sqrt, max_depth=10, score=-0.023, total=   0.1s\n",
            "[CV] min_samples_split=10, min_samples_leaf=2, max_leaf_nodes=20, max_features=log2, max_depth=50 \n",
            "[CV]  min_samples_split=10, min_samples_leaf=2, max_leaf_nodes=20, max_features=log2, max_depth=50, score=-0.022, total=   0.1s\n",
            "[CV] min_samples_split=10, min_samples_leaf=2, max_leaf_nodes=20, max_features=log2, max_depth=50 \n",
            "[CV]  min_samples_split=10, min_samples_leaf=2, max_leaf_nodes=20, max_features=log2, max_depth=50, score=-0.022, total=   0.1s\n",
            "[CV] min_samples_split=10, min_samples_leaf=2, max_leaf_nodes=20, max_features=log2, max_depth=50 \n",
            "[CV]  min_samples_split=10, min_samples_leaf=2, max_leaf_nodes=20, max_features=log2, max_depth=50, score=-0.021, total=   0.1s\n",
            "[CV] min_samples_split=10, min_samples_leaf=2, max_leaf_nodes=40, max_features=log2, max_depth=20 \n",
            "[CV]  min_samples_split=10, min_samples_leaf=2, max_leaf_nodes=40, max_features=log2, max_depth=20, score=-0.020, total=   0.1s\n",
            "[CV] min_samples_split=10, min_samples_leaf=2, max_leaf_nodes=40, max_features=log2, max_depth=20 \n",
            "[CV]  min_samples_split=10, min_samples_leaf=2, max_leaf_nodes=40, max_features=log2, max_depth=20, score=-0.019, total=   0.1s\n",
            "[CV] min_samples_split=10, min_samples_leaf=2, max_leaf_nodes=40, max_features=log2, max_depth=20 \n",
            "[CV]  min_samples_split=10, min_samples_leaf=2, max_leaf_nodes=40, max_features=log2, max_depth=20, score=-0.019, total=   0.1s\n",
            "[CV] min_samples_split=10, min_samples_leaf=2, max_leaf_nodes=40, max_features=log2, max_depth=50 \n",
            "[CV]  min_samples_split=10, min_samples_leaf=2, max_leaf_nodes=40, max_features=log2, max_depth=50, score=-0.020, total=   0.1s\n",
            "[CV] min_samples_split=10, min_samples_leaf=2, max_leaf_nodes=40, max_features=log2, max_depth=50 \n",
            "[CV]  min_samples_split=10, min_samples_leaf=2, max_leaf_nodes=40, max_features=log2, max_depth=50, score=-0.019, total=   0.1s\n",
            "[CV] min_samples_split=10, min_samples_leaf=2, max_leaf_nodes=40, max_features=log2, max_depth=50 \n",
            "[CV]  min_samples_split=10, min_samples_leaf=2, max_leaf_nodes=40, max_features=log2, max_depth=50, score=-0.019, total=   0.1s\n",
            "[CV] min_samples_split=2, min_samples_leaf=1, max_leaf_nodes=40, max_features=sqrt, max_depth=40 \n",
            "[CV]  min_samples_split=2, min_samples_leaf=1, max_leaf_nodes=40, max_features=sqrt, max_depth=40, score=-0.019, total=   0.1s\n",
            "[CV] min_samples_split=2, min_samples_leaf=1, max_leaf_nodes=40, max_features=sqrt, max_depth=40 \n",
            "[CV]  min_samples_split=2, min_samples_leaf=1, max_leaf_nodes=40, max_features=sqrt, max_depth=40, score=-0.017, total=   0.1s\n",
            "[CV] min_samples_split=2, min_samples_leaf=1, max_leaf_nodes=40, max_features=sqrt, max_depth=40 \n",
            "[CV]  min_samples_split=2, min_samples_leaf=1, max_leaf_nodes=40, max_features=sqrt, max_depth=40, score=-0.015, total=   0.1s\n"
          ]
        },
        {
          "output_type": "stream",
          "name": "stderr",
          "text": [
            "[Parallel(n_jobs=1)]: Done  30 out of  30 | elapsed:    6.6s finished\n"
          ]
        },
        {
          "output_type": "execute_result",
          "data": {
            "text/plain": [
              "RandomizedSearchCV(cv=3, estimator=DecisionTreeRegressor(random_state=42),\n",
              "                   param_distributions={'max_depth': [10, 20, 30, 40, 50],\n",
              "                                        'max_features': ['auto', 'sqrt',\n",
              "                                                         'log2'],\n",
              "                                        'max_leaf_nodes': [10, 20, 30, 40, 50],\n",
              "                                        'min_samples_leaf': [1, 2, 4],\n",
              "                                        'min_samples_split': [2, 5, 10]},\n",
              "                   random_state=42, scoring='neg_mean_squared_error',\n",
              "                   verbose=4)"
            ]
          },
          "metadata": {},
          "execution_count": 48
        }
      ],
      "source": [
        "# Create a decision tree regressor\n",
        "decision_tree_regression_model = DecisionTreeRegressor(random_state=RANDOM_SEED)\n",
        "\n",
        "# Define the parameter grid\n",
        "param_grid = {'max_depth': [10, 20, 30, 40, 50],\n",
        "              'min_samples_leaf': [1, 2, 4],\n",
        "              'min_samples_split': [2, 5, 10],\n",
        "              'max_features': ['auto', 'sqrt', 'log2'],\n",
        "              'max_leaf_nodes': [10,20, 30, 40, 50]}\n",
        "\n",
        "# Create the random search object\n",
        "decision_tree_randomSearch_optimizer = RandomizedSearchCV(estimator=decision_tree_regression_model, # Hyper-parameter tuning using Decision Tree regression\n",
        "                                                  param_distributions=param_grid, # Parameter seach space\n",
        "                                                  cv=3, # Cross validation evaluation using 5-folds\n",
        "                                                  scoring='neg_mean_squared_error', # Find combination with maximum negative mean square error\n",
        "                                                  verbose=4,\n",
        "                                                  random_state=RANDOM_SEED # Same random seed for consistent result\n",
        "                                                  )\n",
        "\n",
        "# Fit the random search to the training data\n",
        "decision_tree_randomSearch_optimizer.fit(X_train_original, y_train_original)"
      ]
    },
    {
      "cell_type": "code",
      "source": [
        "# Print the best hyperparameters\n",
        "print(decision_tree_randomSearch_optimizer.best_params_)"
      ],
      "metadata": {
        "colab": {
          "base_uri": "https://localhost:8080/"
        },
        "id": "QOd3xpAtx22I",
        "outputId": "e0c81160-481a-4837-9aaa-affb45c5bc26"
      },
      "execution_count": null,
      "outputs": [
        {
          "output_type": "stream",
          "name": "stdout",
          "text": [
            "{'min_samples_split': 10, 'min_samples_leaf': 2, 'max_leaf_nodes': 40, 'max_features': 'auto', 'max_depth': 30}\n"
          ]
        }
      ]
    },
    {
      "cell_type": "code",
      "execution_count": null,
      "metadata": {
        "id": "mVZtb50SUCgN"
      },
      "outputs": [],
      "source": [
        "# Optimized decision tree regression model\n",
        "optimized_decision_tree_regression_model = decision_tree_randomSearch_optimizer.best_estimator_"
      ]
    },
    {
      "cell_type": "code",
      "execution_count": null,
      "metadata": {
        "id": "n-uQRN2Iwx7u",
        "colab": {
          "base_uri": "https://localhost:8080/"
        },
        "outputId": "720dc94c-b6e9-4d68-e2cc-452a6912f1a4"
      },
      "outputs": [
        {
          "output_type": "stream",
          "name": "stdout",
          "text": [
            "Cross Validation r2 of Random Search Optimized Decision Tree Regression model on training dataset: 0.923 +/- 0.002\n",
            "Cross Validation r2 of Random Search Optimized Decision Tree Regression model on validation dataset: 0.918 +/- 0.005\n"
          ]
        }
      ],
      "source": [
        "# Perform the cross validation for r2 score on training and validation using optimized Decision Tree Regression Model\n",
        "# Using training dataset\n",
        "cv_result, mean_cv, std_cv = get_k_fold_cross_validation_scores(X = X_train_original,\n",
        "                                                                 y = y_train_original,\n",
        "                                                                 estimator = optimized_decision_tree_regression_model,\n",
        "                                                                 scoring_metric='r2',\n",
        "                                                                 model_name=\"Decision Tree Regression\",\n",
        "                                                                 dataset_type='training dataset',\n",
        "                                                                 optimization_type_used=\"Random Search\")\n",
        "\n",
        "print(cv_result)\n",
        "\n",
        "# Using Validation dataset\n",
        "cv_result, mean_cv, std_cv = get_k_fold_cross_validation_scores(X = X_val,\n",
        "                                                                 y = y_val,\n",
        "                                                                 estimator = optimized_decision_tree_regression_model,\n",
        "                                                                 scoring_metric='r2',\n",
        "                                                                 model_name=\"Decision Tree Regression\",\n",
        "                                                                 dataset_type='validation dataset',\n",
        "                                                                 optimization_type_used=\"Random Search\")\n",
        "\n",
        "print(cv_result)"
      ]
    },
    {
      "cell_type": "code",
      "execution_count": null,
      "metadata": {
        "id": "elNuuOn8wx7w",
        "colab": {
          "base_uri": "https://localhost:8080/"
        },
        "outputId": "8bf377bf-446f-43bc-ada4-537b63bbd3d2"
      },
      "outputs": [
        {
          "output_type": "stream",
          "name": "stdout",
          "text": [
            "Cross Validation neg_mean_squared_error of Random Search Optimized Decision Tree Regression model on training dataset: -0.003 +/- 0.000\n",
            "Cross Validation neg_mean_squared_error of Random Search Optimized Decision Tree Regression model on validation dataset: -0.003 +/- 0.000\n"
          ]
        }
      ],
      "source": [
        "# Perform the cross validation for MSE score on training and validation using optimized Decision Tree Regression Model\n",
        "# Using training dataset\n",
        "cv_result, mean_cv, std_cv = get_k_fold_cross_validation_scores(X = X_train_original,\n",
        "                                                                 y = y_train_original,\n",
        "                                                                 estimator = optimized_decision_tree_regression_model,\n",
        "                                                                 scoring_metric='neg_mean_squared_error',\n",
        "                                                                 model_name=\"Decision Tree Regression\",\n",
        "                                                                 dataset_type='training dataset',\n",
        "                                                                 optimization_type_used=\"Random Search\")\n",
        "\n",
        "print(cv_result)\n",
        "\n",
        "# Using Validation dataset\n",
        "cv_result, mean_cv, std_cv = get_k_fold_cross_validation_scores(X = X_val,\n",
        "                                                                 y = y_val,\n",
        "                                                                 estimator = optimized_decision_tree_regression_model,\n",
        "                                                                 scoring_metric='neg_mean_squared_error',\n",
        "                                                                 model_name=\"Decision Tree Regression\",\n",
        "                                                                 dataset_type='validation dataset',\n",
        "                                                                 optimization_type_used=\"Random Search\")\n",
        "\n",
        "print(cv_result)"
      ]
    },
    {
      "cell_type": "markdown",
      "source": [
        "### Comparing Model's performance using Validation dataset based on their KPI"
      ],
      "metadata": {
        "id": "vALj3ao04H28"
      }
    },
    {
      "cell_type": "markdown",
      "source": [
        "**OBJECTIVE:**\n",
        "\n",
        "\n",
        ">The objective of this section is to visualize and compare the performance of trained and optimized regression models using training and validation dataset"
      ],
      "metadata": {
        "id": "FZFJuZwth4sL"
      }
    },
    {
      "cell_type": "code",
      "source": [
        "import plotly.graph_objects as go"
      ],
      "metadata": {
        "id": "BkRuf47U3tyx"
      },
      "execution_count": null,
      "outputs": []
    },
    {
      "cell_type": "markdown",
      "source": [
        "#### Based on Residual Plots"
      ],
      "metadata": {
        "id": "V4lXxwyy36Gp"
      }
    },
    {
      "cell_type": "code",
      "source": [
        "# Visualizing the residual plot for Linear Regression Model\n",
        "residual_plot_visualizer = ResidualsPlot(optimized_linear_regression_model)\n",
        "residual_plot_visualizer.fit(X_train_original, y_train_original)  # Fit the training data to the visualizer\n",
        "residual_plot_visualizer.score(X_val, y_val)  # Evaluate the model on the validation data\n",
        "residual_plot_visualizer.show()               # Finalize and render the figure"
      ],
      "metadata": {
        "colab": {
          "base_uri": "https://localhost:8080/",
          "height": 393
        },
        "id": "GIAcxH2PzWaP",
        "outputId": "47ecd2b6-dcdb-49dd-c6de-d628604bc916"
      },
      "execution_count": null,
      "outputs": [
        {
          "output_type": "display_data",
          "data": {
            "text/plain": [
              "<Figure size 576x396 with 2 Axes>"
            ],
            "image/png": "[encoded data removed]"
          },
          "metadata": {}
        },
        {
          "output_type": "execute_result",
          "data": {
            "text/plain": [
              "<AxesSubplot:title={'center':'Residuals for LinearRegression Model'}, xlabel='Predicted Value', ylabel='Residuals'>"
            ]
          },
          "metadata": {},
          "execution_count": 54
        }
      ]
    },
    {
      "cell_type": "code",
      "execution_count": null,
      "metadata": {
        "colab": {
          "base_uri": "https://localhost:8080/",
          "height": 393
        },
        "id": "wtWZ6u7bEl3S",
        "outputId": "11d2bbe5-3df0-4458-bebc-107df6adcd14"
      },
      "outputs": [
        {
          "output_type": "display_data",
          "data": {
            "text/plain": [
              "<Figure size 576x396 with 2 Axes>"
            ],
            "image/png": "[encoded data removed]"
          },
          "metadata": {}
        },
        {
          "output_type": "execute_result",
          "data": {
            "text/plain": [
              "<AxesSubplot:title={'center':'Residuals for AdaBoostRegressor Model'}, xlabel='Predicted Value', ylabel='Residuals'>"
            ]
          },
          "metadata": {},
          "execution_count": 55
        }
      ],
      "source": [
        "# Visualizing the residual plot for Adaboost Regression Model\n",
        "residual_plot_visualizer = ResidualsPlot(optimized_adaboost_regression_model)\n",
        "residual_plot_visualizer.fit(X_train_original, y_train_original)  # Fit the training data to the visualizer\n",
        "residual_plot_visualizer.score(X_val, y_val)  # Evaluate the model on the validation data\n",
        "residual_plot_visualizer.show()               # Finalize and render the figure"
      ]
    },
    {
      "cell_type": "code",
      "source": [
        "# Visualizing the residual plot for Decision Tree Regression Model\n",
        "residual_plot_visualizer = ResidualsPlot(optimized_decision_tree_regression_model)\n",
        "residual_plot_visualizer.fit(X_train_original, y_train_original)  # Fit the training data to the visualizer\n",
        "residual_plot_visualizer.score(X_val, y_val)  # Evaluate the model on the validation data\n",
        "residual_plot_visualizer.show()               # Finalize and render the figure"
      ],
      "metadata": {
        "colab": {
          "base_uri": "https://localhost:8080/",
          "height": 393
        },
        "id": "8xe7iF_0j1lY",
        "outputId": "c9b160fc-5b1c-43f5-b8b8-d5956a18f70e"
      },
      "execution_count": null,
      "outputs": [
        {
          "output_type": "display_data",
          "data": {
            "text/plain": [
              "<Figure size 576x396 with 2 Axes>"
            ],
            "image/png": "[encoded data removed]"
          },
          "metadata": {}
        },
        {
          "output_type": "execute_result",
          "data": {
            "text/plain": [
              "<AxesSubplot:title={'center':'Residuals for DecisionTreeRegressor Model'}, xlabel='Predicted Value', ylabel='Residuals'>"
            ]
          },
          "metadata": {},
          "execution_count": 56
        }
      ]
    },
    {
      "cell_type": "markdown",
      "source": [
        "#### Based on Mean Squared Error "
      ],
      "metadata": {
        "id": "H6ROErVqAxkn"
      }
    },
    {
      "cell_type": "code",
      "source": [
        "\n",
        "fig = go.Figure()\n",
        "\n",
        "y_pred_linear_regression = optimized_linear_regression_model.predict(X_train_original)\n",
        "y_pred_adaboost_regression = optimized_adaboost_regression_model.predict(X_train_original)\n",
        "y_pred_decision_tree_regression = optimized_decision_tree_regression_model.predict(X_train_original)\n",
        "\n",
        "# Calculate the MSE for each model\n",
        "mse_linear_regression = ((y_train_original - y_pred_linear_regression) ** 2).mean()\n",
        "mse_adaboost_regression = ((y_train_original - y_pred_adaboost_regression) ** 2).mean()\n",
        "mse_decision_tree_regression = ((y_train_original - y_pred_decision_tree_regression) ** 2).mean()\n",
        "\n",
        "\n",
        "fig.add_trace(go.Bar(\n",
        "        name = \"MSE\",\n",
        "        x=[\"Linear Regressor\", \"Adaboost Regressor\", \"Decision Tree Regressor\"],\n",
        "        y=[mse_linear_regression,mse_adaboost_regression,mse_decision_tree_regression],\n",
        "        text=[round(mse_linear_regression,4),round(mse_adaboost_regression,4),round(mse_decision_tree_regression,4)],\n",
        "        marker_color=['red','orange','green']\n",
        "    ))\n",
        "\n",
        "fig.update_layout(\n",
        "    title=\"Mean Squared Error (MSE) for all three Regression Models (On Training Dataset) \",\n",
        "    xaxis_title=\"Regression Models\",\n",
        "    yaxis_title=\"Mean Squared Error\",\n",
        "    font_size=20\n",
        ")\n",
        "\n",
        "fig.show()"
      ],
      "metadata": {
        "colab": {
          "base_uri": "https://localhost:8080/",
          "height": 542
        },
        "id": "H_O95_Dy31ke",
        "outputId": "37ce69e7-44c6-4ea6-a06a-c41b9cc3e74d"
      },
      "execution_count": null,
      "outputs": [
        {
          "output_type": "display_data",
          "data": {
            "text/html": [
              "<html>\n",
              "<head><meta charset=\"utf-8\" /></head>\n",
              "<body>\n",
              "    <div>            <script src=\"https://cdnjs.cloudflare.com/ajax/libs/mathjax/2.7.5/MathJax.js?config=TeX-AMS-MML_SVG\"></script><script type=\"text/javascript\">if (window.MathJax) {MathJax.Hub.Config({SVG: {font: \"STIX-Web\"}});}</script>                <script type=\"text/javascript\">window.PlotlyConfig = {MathJaxConfig: 'local'};</script>\n",
              "        <script src=\"https://cdn.plot.ly/plotly-2.8.3.min.js\"></script>                <div id=\"356a9d88-1545-4bc4-aee4-e4639a11dbff\" class=\"plotly-graph-div\" style=\"height:525px; width:100%;\"></div>            <script type=\"text/javascript\">                                    window.PLOTLYENV=window.PLOTLYENV || {};                                    if (document.getElementById(\"356a9d88-1545-4bc4-aee4-e4639a11dbff\")) {                    Plotly.newPlot(                        \"356a9d88-1545-4bc4-aee4-e4639a11dbff\",                        [{\"marker\":{\"color\":[\"red\",\"orange\",\"green\"]},\"name\":\"MSE\",\"text\":[\"0.01\",\"0.0074\",\"0.003\"],\"x\":[\"Linear Regressor\",\"Adaboost Regressor\",\"Decision Tree Regressor\"],\"y\":[0.010048384561573817,0.007351707437515962,0.0029995247865366834],\"type\":\"bar\"}],                        {\"template\":{\"data\":{\"bar\":[{\"error_x\":{\"color\":\"#2a3f5f\"},\"error_y\":{\"color\":\"#2a3f5f\"},\"marker\":{\"line\":{\"color\":\"#E5ECF6\",\"width\":0.5},\"pattern\":{\"fillmode\":\"overlay\",\"size\":10,\"solidity\":0.2}},\"type\":\"bar\"}],\"barpolar\":[{\"marker\":{\"line\":{\"color\":\"#E5ECF6\",\"width\":0.5},\"pattern\":{\"fillmode\":\"overlay\",\"size\":10,\"solidity\":0.2}},\"type\":\"barpolar\"}],\"carpet\":[{\"aaxis\":{\"endlinecolor\":\"#2a3f5f\",\"gridcolor\":\"white\",\"linecolor\":\"white\",\"minorgridcolor\":\"white\",\"startlinecolor\":\"#2a3f5f\"},\"baxis\":{\"endlinecolor\":\"#2a3f5f\",\"gridcolor\":\"white\",\"linecolor\":\"white\",\"minorgridcolor\":\"white\",\"startlinecolor\":\"#2a3f5f\"},\"type\":\"carpet\"}],\"choropleth\":[{\"colorbar\":{\"outlinewidth\":0,\"ticks\":\"\"},\"type\":\"choropleth\"}],\"contour\":[{\"colorbar\":{\"outlinewidth\":0,\"ticks\":\"\"},\"colorscale\":[[0.0,\"#0d0887\"],[0.1111111111111111,\"#46039f\"],[0.2222222222222222,\"#7201a8\"],[0.3333333333333333,\"#9c179e\"],[0.4444444444444444,\"#bd3786\"],[0.5555555555555556,\"#d8576b\"],[0.6666666666666666,\"#ed7953\"],[0.7777777777777778,\"#fb9f3a\"],[0.8888888888888888,\"#fdca26\"],[1.0,\"#f0f921\"]],\"type\":\"contour\"}],\"contourcarpet\":[{\"colorbar\":{\"outlinewidth\":0,\"ticks\":\"\"},\"type\":\"contourcarpet\"}],\"heatmap\":[{\"colorbar\":{\"outlinewidth\":0,\"ticks\":\"\"},\"colorscale\":[[0.0,\"#0d0887\"],[0.1111111111111111,\"#46039f\"],[0.2222222222222222,\"#7201a8\"],[0.3333333333333333,\"#9c179e\"],[0.4444444444444444,\"#bd3786\"],[0.5555555555555556,\"#d8576b\"],[0.6666666666666666,\"#ed7953\"],[0.7777777777777778,\"#fb9f3a\"],[0.8888888888888888,\"#fdca26\"],[1.0,\"#f0f921\"]],\"type\":\"heatmap\"}],\"heatmapgl\":[{\"colorbar\":{\"outlinewidth\":0,\"ticks\":\"\"},\"colorscale\":[[0.0,\"#0d0887\"],[0.1111111111111111,\"#46039f\"],[0.2222222222222222,\"#7201a8\"],[0.3333333333333333,\"#9c179e\"],[0.4444444444444444,\"#bd3786\"],[0.5555555555555556,\"#d8576b\"],[0.6666666666666666,\"#ed7953\"],[0.7777777777777778,\"#fb9f3a\"],[0.8888888888888888,\"#fdca26\"],[1.0,\"#f0f921\"]],\"type\":\"heatmapgl\"}],\"histogram\":[{\"marker\":{\"pattern\":{\"fillmode\":\"overlay\",\"size\":10,\"solidity\":0.2}},\"type\":\"histogram\"}],\"histogram2d\":[{\"colorbar\":{\"outlinewidth\":0,\"ticks\":\"\"},\"colorscale\":[[0.0,\"#0d0887\"],[0.1111111111111111,\"#46039f\"],[0.2222222222222222,\"#7201a8\"],[0.3333333333333333,\"#9c179e\"],[0.4444444444444444,\"#bd3786\"],[0.5555555555555556,\"#d8576b\"],[0.6666666666666666,\"#ed7953\"],[0.7777777777777778,\"#fb9f3a\"],[0.8888888888888888,\"#fdca26\"],[1.0,\"#f0f921\"]],\"type\":\"histogram2d\"}],\"histogram2dcontour\":[{\"colorbar\":{\"outlinewidth\":0,\"ticks\":\"\"},\"colorscale\":[[0.0,\"#0d0887\"],[0.1111111111111111,\"#46039f\"],[0.2222222222222222,\"#7201a8\"],[0.3333333333333333,\"#9c179e\"],[0.4444444444444444,\"#bd3786\"],[0.5555555555555556,\"#d8576b\"],[0.6666666666666666,\"#ed7953\"],[0.7777777777777778,\"#fb9f3a\"],[0.8888888888888888,\"#fdca26\"],[1.0,\"#f0f921\"]],\"type\":\"histogram2dcontour\"}],\"mesh3d\":[{\"colorbar\":{\"outlinewidth\":0,\"ticks\":\"\"},\"type\":\"mesh3d\"}],\"parcoords\":[{\"line\":{\"colorbar\":{\"outlinewidth\":0,\"ticks\":\"\"}},\"type\":\"parcoords\"}],\"pie\":[{\"automargin\":true,\"type\":\"pie\"}],\"scatter\":[{\"marker\":{\"colorbar\":{\"outlinewidth\":0,\"ticks\":\"\"}},\"type\":\"scatter\"}],\"scatter3d\":[{\"line\":{\"colorbar\":{\"outlinewidth\":0,\"ticks\":\"\"}},\"marker\":{\"colorbar\":{\"outlinewidth\":0,\"ticks\":\"\"}},\"type\":\"scatter3d\"}],\"scattercarpet\":[{\"marker\":{\"colorbar\":{\"outlinewidth\":0,\"ticks\":\"\"}},\"type\":\"scattercarpet\"}],\"scattergeo\":[{\"marker\":{\"colorbar\":{\"outlinewidth\":0,\"ticks\":\"\"}},\"type\":\"scattergeo\"}],\"scattergl\":[{\"marker\":{\"colorbar\":{\"outlinewidth\":0,\"ticks\":\"\"}},\"type\":\"scattergl\"}],\"scattermapbox\":[{\"marker\":{\"colorbar\":{\"outlinewidth\":0,\"ticks\":\"\"}},\"type\":\"scattermapbox\"}],\"scatterpolar\":[{\"marker\":{\"colorbar\":{\"outlinewidth\":0,\"ticks\":\"\"}},\"type\":\"scatterpolar\"}],\"scatterpolargl\":[{\"marker\":{\"colorbar\":{\"outlinewidth\":0,\"ticks\":\"\"}},\"type\":\"scatterpolargl\"}],\"scatterternary\":[{\"marker\":{\"colorbar\":{\"outlinewidth\":0,\"ticks\":\"\"}},\"type\":\"scatterternary\"}],\"surface\":[{\"colorbar\":{\"outlinewidth\":0,\"ticks\":\"\"},\"colorscale\":[[0.0,\"#0d0887\"],[0.1111111111111111,\"#46039f\"],[0.2222222222222222,\"#7201a8\"],[0.3333333333333333,\"#9c179e\"],[0.4444444444444444,\"#bd3786\"],[0.5555555555555556,\"#d8576b\"],[0.6666666666666666,\"#ed7953\"],[0.7777777777777778,\"#fb9f3a\"],[0.8888888888888888,\"#fdca26\"],[1.0,\"#f0f921\"]],\"type\":\"surface\"}],\"table\":[{\"cells\":{\"fill\":{\"color\":\"#EBF0F8\"},\"line\":{\"color\":\"white\"}},\"header\":{\"fill\":{\"color\":\"#C8D4E3\"},\"line\":{\"color\":\"white\"}},\"type\":\"table\"}]},\"layout\":{\"annotationdefaults\":{\"arrowcolor\":\"#2a3f5f\",\"arrowhead\":0,\"arrowwidth\":1},\"autotypenumbers\":\"strict\",\"coloraxis\":{\"colorbar\":{\"outlinewidth\":0,\"ticks\":\"\"}},\"colorscale\":{\"diverging\":[[0,\"#8e0152\"],[0.1,\"#c51b7d\"],[0.2,\"#de77ae\"],[0.3,\"#f1b6da\"],[0.4,\"#fde0ef\"],[0.5,\"#f7f7f7\"],[0.6,\"#e6f5d0\"],[0.7,\"#b8e186\"],[0.8,\"#7fbc41\"],[0.9,\"#4d9221\"],[1,\"#276419\"]],\"sequential\":[[0.0,\"#0d0887\"],[0.1111111111111111,\"#46039f\"],[0.2222222222222222,\"#7201a8\"],[0.3333333333333333,\"#9c179e\"],[0.4444444444444444,\"#bd3786\"],[0.5555555555555556,\"#d8576b\"],[0.6666666666666666,\"#ed7953\"],[0.7777777777777778,\"#fb9f3a\"],[0.8888888888888888,\"#fdca26\"],[1.0,\"#f0f921\"]],\"sequentialminus\":[[0.0,\"#0d0887\"],[0.1111111111111111,\"#46039f\"],[0.2222222222222222,\"#7201a8\"],[0.3333333333333333,\"#9c179e\"],[0.4444444444444444,\"#bd3786\"],[0.5555555555555556,\"#d8576b\"],[0.6666666666666666,\"#ed7953\"],[0.7777777777777778,\"#fb9f3a\"],[0.8888888888888888,\"#fdca26\"],[1.0,\"#f0f921\"]]},\"colorway\":[\"#636efa\",\"#EF553B\",\"#00cc96\",\"#ab63fa\",\"#FFA15A\",\"#19d3f3\",\"#FF6692\",\"#B6E880\",\"#FF97FF\",\"#FECB52\"],\"font\":{\"color\":\"#2a3f5f\"},\"geo\":{\"bgcolor\":\"white\",\"lakecolor\":\"white\",\"landcolor\":\"#E5ECF6\",\"showlakes\":true,\"showland\":true,\"subunitcolor\":\"white\"},\"hoverlabel\":{\"align\":\"left\"},\"hovermode\":\"closest\",\"mapbox\":{\"style\":\"light\"},\"paper_bgcolor\":\"white\",\"plot_bgcolor\":\"#E5ECF6\",\"polar\":{\"angularaxis\":{\"gridcolor\":\"white\",\"linecolor\":\"white\",\"ticks\":\"\"},\"bgcolor\":\"#E5ECF6\",\"radialaxis\":{\"gridcolor\":\"white\",\"linecolor\":\"white\",\"ticks\":\"\"}},\"scene\":{\"xaxis\":{\"backgroundcolor\":\"#E5ECF6\",\"gridcolor\":\"white\",\"gridwidth\":2,\"linecolor\":\"white\",\"showbackground\":true,\"ticks\":\"\",\"zerolinecolor\":\"white\"},\"yaxis\":{\"backgroundcolor\":\"#E5ECF6\",\"gridcolor\":\"white\",\"gridwidth\":2,\"linecolor\":\"white\",\"showbackground\":true,\"ticks\":\"\",\"zerolinecolor\":\"white\"},\"zaxis\":{\"backgroundcolor\":\"#E5ECF6\",\"gridcolor\":\"white\",\"gridwidth\":2,\"linecolor\":\"white\",\"showbackground\":true,\"ticks\":\"\",\"zerolinecolor\":\"white\"}},\"shapedefaults\":{\"line\":{\"color\":\"#2a3f5f\"}},\"ternary\":{\"aaxis\":{\"gridcolor\":\"white\",\"linecolor\":\"white\",\"ticks\":\"\"},\"baxis\":{\"gridcolor\":\"white\",\"linecolor\":\"white\",\"ticks\":\"\"},\"bgcolor\":\"#E5ECF6\",\"caxis\":{\"gridcolor\":\"white\",\"linecolor\":\"white\",\"ticks\":\"\"}},\"title\":{\"x\":0.05},\"xaxis\":{\"automargin\":true,\"gridcolor\":\"white\",\"linecolor\":\"white\",\"ticks\":\"\",\"title\":{\"standoff\":15},\"zerolinecolor\":\"white\",\"zerolinewidth\":2},\"yaxis\":{\"automargin\":true,\"gridcolor\":\"white\",\"linecolor\":\"white\",\"ticks\":\"\",\"title\":{\"standoff\":15},\"zerolinecolor\":\"white\",\"zerolinewidth\":2}}},\"font\":{\"size\":20},\"title\":{\"text\":\"Mean Squared Error (MSE) for all three Regression Models (On Training Dataset) \"},\"xaxis\":{\"title\":{\"text\":\"Regression Models\"}},\"yaxis\":{\"title\":{\"text\":\"Mean Squared Error\"}}},                        {\"responsive\": true}                    ).then(function(){\n",
              "                            \n",
              "var gd = document.getElementById('356a9d88-1545-4bc4-aee4-e4639a11dbff');\n",
              "var x = new MutationObserver(function (mutations, observer) {{\n",
              "        var display = window.getComputedStyle(gd).display;\n",
              "        if (!display || display === 'none') {{\n",
              "            console.log([gd, 'removed!']);\n",
              "            Plotly.purge(gd);\n",
              "            observer.disconnect();\n",
              "        }}\n",
              "}});\n",
              "\n",
              "// Listen for the removal of the full notebook cells\n",
              "var notebookContainer = gd.closest('#notebook-container');\n",
              "if (notebookContainer) {{\n",
              "    x.observe(notebookContainer, {childList: true});\n",
              "}}\n",
              "\n",
              "// Listen for the clearing of the current output cell\n",
              "var outputEl = gd.closest('.output');\n",
              "if (outputEl) {{\n",
              "    x.observe(outputEl, {childList: true});\n",
              "}}\n",
              "\n",
              "                        })                };                            </script>        </div>\n",
              "</body>\n",
              "</html>"
            ]
          },
          "metadata": {}
        }
      ]
    },
    {
      "cell_type": "code",
      "source": [
        "\n",
        "fig = go.Figure()\n",
        "\n",
        "y_pred_linear_regression = optimized_linear_regression_model.predict(X_val)\n",
        "y_pred_adaboost_regression = optimized_adaboost_regression_model.predict(X_val)\n",
        "y_pred_decision_tree_regression = optimized_decision_tree_regression_model.predict(X_val)\n",
        "\n",
        "# Calculate the MSE for each model\n",
        "mse_linear_regression = ((y_val - y_pred_linear_regression) ** 2).mean()\n",
        "mse_adaboost_regression = ((y_val - y_pred_adaboost_regression) ** 2).mean()\n",
        "mse_decision_tree_regression = ((y_val - y_pred_decision_tree_regression) ** 2).mean()\n",
        "\n",
        "\n",
        "fig.add_trace(go.Bar(\n",
        "        name = \"MSE\",\n",
        "        x=[\"Linear Regressor\", \"Adaboost Regressor\", \"Decision Tree Regressor\"],\n",
        "        y=[mse_linear_regression,mse_adaboost_regression,mse_decision_tree_regression],\n",
        "        text=[round(mse_linear_regression,4),round(mse_adaboost_regression,4),round(mse_decision_tree_regression,4)],\n",
        "        marker_color=['red','orange','green']\n",
        "    ))\n",
        "\n",
        "fig.update_layout(\n",
        "    title=\"Mean Squared Error (MSE) for all three Regression Models (On Validation Dataset) \",\n",
        "    xaxis_title=\"Regression Models\",\n",
        "    yaxis_title=\"Mean Squared Error\",\n",
        "    font_size=20\n",
        ")\n",
        "\n",
        "fig.show()"
      ],
      "metadata": {
        "colab": {
          "base_uri": "https://localhost:8080/",
          "height": 542
        },
        "id": "B0dgcXDZuy46",
        "outputId": "240ff3a3-389c-4992-e168-4c3ad550ee99"
      },
      "execution_count": null,
      "outputs": [
        {
          "output_type": "display_data",
          "data": {
            "text/html": [
              "<html>\n",
              "<head><meta charset=\"utf-8\" /></head>\n",
              "<body>\n",
              "    <div>            <script src=\"https://cdnjs.cloudflare.com/ajax/libs/mathjax/2.7.5/MathJax.js?config=TeX-AMS-MML_SVG\"></script><script type=\"text/javascript\">if (window.MathJax) {MathJax.Hub.Config({SVG: {font: \"STIX-Web\"}});}</script>                <script type=\"text/javascript\">window.PlotlyConfig = {MathJaxConfig: 'local'};</script>\n",
              "        <script src=\"https://cdn.plot.ly/plotly-2.8.3.min.js\"></script>                <div id=\"974e239f-09fe-4888-8ab1-17ac6f118ba3\" class=\"plotly-graph-div\" style=\"height:525px; width:100%;\"></div>            <script type=\"text/javascript\">                                    window.PLOTLYENV=window.PLOTLYENV || {};                                    if (document.getElementById(\"974e239f-09fe-4888-8ab1-17ac6f118ba3\")) {                    Plotly.newPlot(                        \"974e239f-09fe-4888-8ab1-17ac6f118ba3\",                        [{\"marker\":{\"color\":[\"red\",\"orange\",\"green\"]},\"name\":\"MSE\",\"text\":[\"0.0101\",\"0.0074\",\"0.003\"],\"x\":[\"Linear Regressor\",\"Adaboost Regressor\",\"Decision Tree Regressor\"],\"y\":[0.010130229953272868,0.007353411623708005,0.002973358966092839],\"type\":\"bar\"}],                        {\"template\":{\"data\":{\"bar\":[{\"error_x\":{\"color\":\"#2a3f5f\"},\"error_y\":{\"color\":\"#2a3f5f\"},\"marker\":{\"line\":{\"color\":\"#E5ECF6\",\"width\":0.5},\"pattern\":{\"fillmode\":\"overlay\",\"size\":10,\"solidity\":0.2}},\"type\":\"bar\"}],\"barpolar\":[{\"marker\":{\"line\":{\"color\":\"#E5ECF6\",\"width\":0.5},\"pattern\":{\"fillmode\":\"overlay\",\"size\":10,\"solidity\":0.2}},\"type\":\"barpolar\"}],\"carpet\":[{\"aaxis\":{\"endlinecolor\":\"#2a3f5f\",\"gridcolor\":\"white\",\"linecolor\":\"white\",\"minorgridcolor\":\"white\",\"startlinecolor\":\"#2a3f5f\"},\"baxis\":{\"endlinecolor\":\"#2a3f5f\",\"gridcolor\":\"white\",\"linecolor\":\"white\",\"minorgridcolor\":\"white\",\"startlinecolor\":\"#2a3f5f\"},\"type\":\"carpet\"}],\"choropleth\":[{\"colorbar\":{\"outlinewidth\":0,\"ticks\":\"\"},\"type\":\"choropleth\"}],\"contour\":[{\"colorbar\":{\"outlinewidth\":0,\"ticks\":\"\"},\"colorscale\":[[0.0,\"#0d0887\"],[0.1111111111111111,\"#46039f\"],[0.2222222222222222,\"#7201a8\"],[0.3333333333333333,\"#9c179e\"],[0.4444444444444444,\"#bd3786\"],[0.5555555555555556,\"#d8576b\"],[0.6666666666666666,\"#ed7953\"],[0.7777777777777778,\"#fb9f3a\"],[0.8888888888888888,\"#fdca26\"],[1.0,\"#f0f921\"]],\"type\":\"contour\"}],\"contourcarpet\":[{\"colorbar\":{\"outlinewidth\":0,\"ticks\":\"\"},\"type\":\"contourcarpet\"}],\"heatmap\":[{\"colorbar\":{\"outlinewidth\":0,\"ticks\":\"\"},\"colorscale\":[[0.0,\"#0d0887\"],[0.1111111111111111,\"#46039f\"],[0.2222222222222222,\"#7201a8\"],[0.3333333333333333,\"#9c179e\"],[0.4444444444444444,\"#bd3786\"],[0.5555555555555556,\"#d8576b\"],[0.6666666666666666,\"#ed7953\"],[0.7777777777777778,\"#fb9f3a\"],[0.8888888888888888,\"#fdca26\"],[1.0,\"#f0f921\"]],\"type\":\"heatmap\"}],\"heatmapgl\":[{\"colorbar\":{\"outlinewidth\":0,\"ticks\":\"\"},\"colorscale\":[[0.0,\"#0d0887\"],[0.1111111111111111,\"#46039f\"],[0.2222222222222222,\"#7201a8\"],[0.3333333333333333,\"#9c179e\"],[0.4444444444444444,\"#bd3786\"],[0.5555555555555556,\"#d8576b\"],[0.6666666666666666,\"#ed7953\"],[0.7777777777777778,\"#fb9f3a\"],[0.8888888888888888,\"#fdca26\"],[1.0,\"#f0f921\"]],\"type\":\"heatmapgl\"}],\"histogram\":[{\"marker\":{\"pattern\":{\"fillmode\":\"overlay\",\"size\":10,\"solidity\":0.2}},\"type\":\"histogram\"}],\"histogram2d\":[{\"colorbar\":{\"outlinewidth\":0,\"ticks\":\"\"},\"colorscale\":[[0.0,\"#0d0887\"],[0.1111111111111111,\"#46039f\"],[0.2222222222222222,\"#7201a8\"],[0.3333333333333333,\"#9c179e\"],[0.4444444444444444,\"#bd3786\"],[0.5555555555555556,\"#d8576b\"],[0.6666666666666666,\"#ed7953\"],[0.7777777777777778,\"#fb9f3a\"],[0.8888888888888888,\"#fdca26\"],[1.0,\"#f0f921\"]],\"type\":\"histogram2d\"}],\"histogram2dcontour\":[{\"colorbar\":{\"outlinewidth\":0,\"ticks\":\"\"},\"colorscale\":[[0.0,\"#0d0887\"],[0.1111111111111111,\"#46039f\"],[0.2222222222222222,\"#7201a8\"],[0.3333333333333333,\"#9c179e\"],[0.4444444444444444,\"#bd3786\"],[0.5555555555555556,\"#d8576b\"],[0.6666666666666666,\"#ed7953\"],[0.7777777777777778,\"#fb9f3a\"],[0.8888888888888888,\"#fdca26\"],[1.0,\"#f0f921\"]],\"type\":\"histogram2dcontour\"}],\"mesh3d\":[{\"colorbar\":{\"outlinewidth\":0,\"ticks\":\"\"},\"type\":\"mesh3d\"}],\"parcoords\":[{\"line\":{\"colorbar\":{\"outlinewidth\":0,\"ticks\":\"\"}},\"type\":\"parcoords\"}],\"pie\":[{\"automargin\":true,\"type\":\"pie\"}],\"scatter\":[{\"marker\":{\"colorbar\":{\"outlinewidth\":0,\"ticks\":\"\"}},\"type\":\"scatter\"}],\"scatter3d\":[{\"line\":{\"colorbar\":{\"outlinewidth\":0,\"ticks\":\"\"}},\"marker\":{\"colorbar\":{\"outlinewidth\":0,\"ticks\":\"\"}},\"type\":\"scatter3d\"}],\"scattercarpet\":[{\"marker\":{\"colorbar\":{\"outlinewidth\":0,\"ticks\":\"\"}},\"type\":\"scattercarpet\"}],\"scattergeo\":[{\"marker\":{\"colorbar\":{\"outlinewidth\":0,\"ticks\":\"\"}},\"type\":\"scattergeo\"}],\"scattergl\":[{\"marker\":{\"colorbar\":{\"outlinewidth\":0,\"ticks\":\"\"}},\"type\":\"scattergl\"}],\"scattermapbox\":[{\"marker\":{\"colorbar\":{\"outlinewidth\":0,\"ticks\":\"\"}},\"type\":\"scattermapbox\"}],\"scatterpolar\":[{\"marker\":{\"colorbar\":{\"outlinewidth\":0,\"ticks\":\"\"}},\"type\":\"scatterpolar\"}],\"scatterpolargl\":[{\"marker\":{\"colorbar\":{\"outlinewidth\":0,\"ticks\":\"\"}},\"type\":\"scatterpolargl\"}],\"scatterternary\":[{\"marker\":{\"colorbar\":{\"outlinewidth\":0,\"ticks\":\"\"}},\"type\":\"scatterternary\"}],\"surface\":[{\"colorbar\":{\"outlinewidth\":0,\"ticks\":\"\"},\"colorscale\":[[0.0,\"#0d0887\"],[0.1111111111111111,\"#46039f\"],[0.2222222222222222,\"#7201a8\"],[0.3333333333333333,\"#9c179e\"],[0.4444444444444444,\"#bd3786\"],[0.5555555555555556,\"#d8576b\"],[0.6666666666666666,\"#ed7953\"],[0.7777777777777778,\"#fb9f3a\"],[0.8888888888888888,\"#fdca26\"],[1.0,\"#f0f921\"]],\"type\":\"surface\"}],\"table\":[{\"cells\":{\"fill\":{\"color\":\"#EBF0F8\"},\"line\":{\"color\":\"white\"}},\"header\":{\"fill\":{\"color\":\"#C8D4E3\"},\"line\":{\"color\":\"white\"}},\"type\":\"table\"}]},\"layout\":{\"annotationdefaults\":{\"arrowcolor\":\"#2a3f5f\",\"arrowhead\":0,\"arrowwidth\":1},\"autotypenumbers\":\"strict\",\"coloraxis\":{\"colorbar\":{\"outlinewidth\":0,\"ticks\":\"\"}},\"colorscale\":{\"diverging\":[[0,\"#8e0152\"],[0.1,\"#c51b7d\"],[0.2,\"#de77ae\"],[0.3,\"#f1b6da\"],[0.4,\"#fde0ef\"],[0.5,\"#f7f7f7\"],[0.6,\"#e6f5d0\"],[0.7,\"#b8e186\"],[0.8,\"#7fbc41\"],[0.9,\"#4d9221\"],[1,\"#276419\"]],\"sequential\":[[0.0,\"#0d0887\"],[0.1111111111111111,\"#46039f\"],[0.2222222222222222,\"#7201a8\"],[0.3333333333333333,\"#9c179e\"],[0.4444444444444444,\"#bd3786\"],[0.5555555555555556,\"#d8576b\"],[0.6666666666666666,\"#ed7953\"],[0.7777777777777778,\"#fb9f3a\"],[0.8888888888888888,\"#fdca26\"],[1.0,\"#f0f921\"]],\"sequentialminus\":[[0.0,\"#0d0887\"],[0.1111111111111111,\"#46039f\"],[0.2222222222222222,\"#7201a8\"],[0.3333333333333333,\"#9c179e\"],[0.4444444444444444,\"#bd3786\"],[0.5555555555555556,\"#d8576b\"],[0.6666666666666666,\"#ed7953\"],[0.7777777777777778,\"#fb9f3a\"],[0.8888888888888888,\"#fdca26\"],[1.0,\"#f0f921\"]]},\"colorway\":[\"#636efa\",\"#EF553B\",\"#00cc96\",\"#ab63fa\",\"#FFA15A\",\"#19d3f3\",\"#FF6692\",\"#B6E880\",\"#FF97FF\",\"#FECB52\"],\"font\":{\"color\":\"#2a3f5f\"},\"geo\":{\"bgcolor\":\"white\",\"lakecolor\":\"white\",\"landcolor\":\"#E5ECF6\",\"showlakes\":true,\"showland\":true,\"subunitcolor\":\"white\"},\"hoverlabel\":{\"align\":\"left\"},\"hovermode\":\"closest\",\"mapbox\":{\"style\":\"light\"},\"paper_bgcolor\":\"white\",\"plot_bgcolor\":\"#E5ECF6\",\"polar\":{\"angularaxis\":{\"gridcolor\":\"white\",\"linecolor\":\"white\",\"ticks\":\"\"},\"bgcolor\":\"#E5ECF6\",\"radialaxis\":{\"gridcolor\":\"white\",\"linecolor\":\"white\",\"ticks\":\"\"}},\"scene\":{\"xaxis\":{\"backgroundcolor\":\"#E5ECF6\",\"gridcolor\":\"white\",\"gridwidth\":2,\"linecolor\":\"white\",\"showbackground\":true,\"ticks\":\"\",\"zerolinecolor\":\"white\"},\"yaxis\":{\"backgroundcolor\":\"#E5ECF6\",\"gridcolor\":\"white\",\"gridwidth\":2,\"linecolor\":\"white\",\"showbackground\":true,\"ticks\":\"\",\"zerolinecolor\":\"white\"},\"zaxis\":{\"backgroundcolor\":\"#E5ECF6\",\"gridcolor\":\"white\",\"gridwidth\":2,\"linecolor\":\"white\",\"showbackground\":true,\"ticks\":\"\",\"zerolinecolor\":\"white\"}},\"shapedefaults\":{\"line\":{\"color\":\"#2a3f5f\"}},\"ternary\":{\"aaxis\":{\"gridcolor\":\"white\",\"linecolor\":\"white\",\"ticks\":\"\"},\"baxis\":{\"gridcolor\":\"white\",\"linecolor\":\"white\",\"ticks\":\"\"},\"bgcolor\":\"#E5ECF6\",\"caxis\":{\"gridcolor\":\"white\",\"linecolor\":\"white\",\"ticks\":\"\"}},\"title\":{\"x\":0.05},\"xaxis\":{\"automargin\":true,\"gridcolor\":\"white\",\"linecolor\":\"white\",\"ticks\":\"\",\"title\":{\"standoff\":15},\"zerolinecolor\":\"white\",\"zerolinewidth\":2},\"yaxis\":{\"automargin\":true,\"gridcolor\":\"white\",\"linecolor\":\"white\",\"ticks\":\"\",\"title\":{\"standoff\":15},\"zerolinecolor\":\"white\",\"zerolinewidth\":2}}},\"font\":{\"size\":20},\"title\":{\"text\":\"Mean Squared Error (MSE) for all three Regression Models (On Validation Dataset) \"},\"xaxis\":{\"title\":{\"text\":\"Regression Models\"}},\"yaxis\":{\"title\":{\"text\":\"Mean Squared Error\"}}},                        {\"responsive\": true}                    ).then(function(){\n",
              "                            \n",
              "var gd = document.getElementById('974e239f-09fe-4888-8ab1-17ac6f118ba3');\n",
              "var x = new MutationObserver(function (mutations, observer) {{\n",
              "        var display = window.getComputedStyle(gd).display;\n",
              "        if (!display || display === 'none') {{\n",
              "            console.log([gd, 'removed!']);\n",
              "            Plotly.purge(gd);\n",
              "            observer.disconnect();\n",
              "        }}\n",
              "}});\n",
              "\n",
              "// Listen for the removal of the full notebook cells\n",
              "var notebookContainer = gd.closest('#notebook-container');\n",
              "if (notebookContainer) {{\n",
              "    x.observe(notebookContainer, {childList: true});\n",
              "}}\n",
              "\n",
              "// Listen for the clearing of the current output cell\n",
              "var outputEl = gd.closest('.output');\n",
              "if (outputEl) {{\n",
              "    x.observe(outputEl, {childList: true});\n",
              "}}\n",
              "\n",
              "                        })                };                            </script>        </div>\n",
              "</body>\n",
              "</html>"
            ]
          },
          "metadata": {}
        }
      ]
    },
    {
      "cell_type": "markdown",
      "source": [
        "#### Based on Feature Importance"
      ],
      "metadata": {
        "id": "ZQStQoik4v4J"
      }
    },
    {
      "cell_type": "code",
      "source": [
        "# Feature Importance using Linear Regression\n",
        "plt.figure(figsize=(15, 10))\n",
        "viz = FeatureImportances(optimized_linear_regression_model,topn=10)\n",
        "viz.fit(X_train_original, y_train_original)\n",
        "viz.show()"
      ],
      "metadata": {
        "colab": {
          "base_uri": "https://localhost:8080/",
          "height": 742
        },
        "id": "vYW1ru_0z7uG",
        "outputId": "bf418049-9da1-4427-9218-97377edd5656"
      },
      "execution_count": null,
      "outputs": [
        {
          "output_type": "display_data",
          "data": {
            "text/plain": [
              "<Figure size 1080x720 with 1 Axes>"
            ],
            "image/png": "[encoded data removed]"
          },
          "metadata": {}
        },
        {
          "output_type": "execute_result",
          "data": {
            "text/plain": [
              "<AxesSubplot:title={'center':'Feature Importances of Top 10 Features using LinearRegression'}, xlabel='relative coefficient magnitude'>"
            ]
          },
          "metadata": {},
          "execution_count": 59
        }
      ]
    },
    {
      "cell_type": "code",
      "execution_count": null,
      "metadata": {
        "id": "rCwbEiFtT6Ql",
        "colab": {
          "base_uri": "https://localhost:8080/",
          "height": 742
        },
        "outputId": "f340ca7f-ea24-4f47-9e4a-a79d7912c306"
      },
      "outputs": [
        {
          "output_type": "display_data",
          "data": {
            "text/plain": [
              "<Figure size 1080x720 with 1 Axes>"
            ],
            "image/png": "[encoded data removed]"
          },
          "metadata": {}
        },
        {
          "output_type": "execute_result",
          "data": {
            "text/plain": [
              "<AxesSubplot:title={'center':'Feature Importances of Top 10 Features using AdaBoostRegressor'}, xlabel='relative importance'>"
            ]
          },
          "metadata": {},
          "execution_count": 60
        }
      ],
      "source": [
        "# Feature importance of Adaboost Regression\n",
        "plt.figure(figsize=(15, 10))\n",
        "viz = FeatureImportances(optimized_adaboost_regression_model,topn=10)\n",
        "viz.fit(X_train_original, y_train_original)\n",
        "viz.show()"
      ]
    },
    {
      "cell_type": "code",
      "source": [
        "# Feature Importance for Decision Tree Regression\n",
        "plt.figure(figsize=(15, 10))\n",
        "viz = FeatureImportances(optimized_decision_tree_regression_model,topn=10)\n",
        "viz.fit(X_train_original, y_train_original)\n",
        "viz.show()"
      ],
      "metadata": {
        "colab": {
          "base_uri": "https://localhost:8080/",
          "height": 742
        },
        "id": "wdhiDXVpzlYa",
        "outputId": "3e7ed9ef-36e3-4706-bc73-5cbbbc0dcacc"
      },
      "execution_count": null,
      "outputs": [
        {
          "output_type": "display_data",
          "data": {
            "text/plain": [
              "<Figure size 1080x720 with 1 Axes>"
            ],
            "image/png": "[encoded data removed]"
          },
          "metadata": {}
        },
        {
          "output_type": "execute_result",
          "data": {
            "text/plain": [
              "<AxesSubplot:title={'center':'Feature Importances of Top 10 Features using DecisionTreeRegressor'}, xlabel='relative importance'>"
            ]
          },
          "metadata": {},
          "execution_count": 61
        }
      ]
    },
    {
      "cell_type": "markdown",
      "source": [
        "### Final Prediction of CCF on Test Dataset"
      ],
      "metadata": {
        "id": "c_3T0Pad5RgF"
      }
    },
    {
      "cell_type": "markdown",
      "source": [
        "**OBJECTIVE:**\n",
        "\n",
        "\n",
        ">The objective of this section is to perform the prediction and evaluate the prediction results on remaining test dataset using final selected top performing regression model"
      ],
      "metadata": {
        "id": "dHsIABK_mLDm"
      }
    },
    {
      "cell_type": "code",
      "source": [
        "from sklearn.metrics import r2_score,mean_squared_error"
      ],
      "metadata": {
        "id": "96gDACez6Pau"
      },
      "execution_count": null,
      "outputs": []
    },
    {
      "cell_type": "markdown",
      "source": [
        "#### Prepare Test Dataset for prediction and Evaluation"
      ],
      "metadata": {
        "id": "eyhISSuW5bx_"
      }
    },
    {
      "cell_type": "code",
      "source": [
        "# apply data conversions to testing dataset\n",
        "emp_length_converter(X_test, 'emp_length')\n",
        "loan_term_converter(X_test, 'term')\n",
        "int_rate_converter(X_test, 'int_rate')\n",
        "date_column_converter(X_test, 'issue_d')\n",
        "date_column_converter(X_test, 'earliest_cr_line')\n",
        "\n",
        "# Test Dataset\n",
        "object_to_numeric_converter(X_test,['dti',\n",
        "                                    'delinq_2yrs',\n",
        "                                    'mths_since_last_delinq',\n",
        "                                    'mths_since_last_record',\n",
        "                                    'open_acc',\n",
        "                                    'pub_rec',\n",
        "                                    'total_acc',\n",
        "                                    'acc_now_delinq',\n",
        "                                    'total_rev_hi_lim',\n",
        "                                    'mths_since_earliest_cr_line'])\n",
        "\n",
        "# on test dataset\n",
        "X_test[null_numerical_columns] = random_sample_imputer.transform(X_test[null_numerical_columns])\n",
        "\n",
        "#test dataset\n",
        "X_test = ohe_enc.transform(X_test)\n",
        "\n",
        "# test dataset\n",
        "X_test[numerical_columns] = scaler.transform(X_test[numerical_columns])"
      ],
      "metadata": {
        "id": "diY7TC4Q5RH0"
      },
      "execution_count": null,
      "outputs": []
    },
    {
      "cell_type": "markdown",
      "source": [
        "#### Prediction and Evaluation of regression model for Credit Conversion Factor (CCF)"
      ],
      "metadata": {
        "id": "Lm55VwEA57Vz"
      }
    },
    {
      "cell_type": "code",
      "source": [
        "# Perform the CCF predictions on test dataset using optimized adaboost regression model\n",
        "y_ccf_predictions = optimized_adaboost_regression_model.predict(X_test)"
      ],
      "metadata": {
        "id": "POYsQeDs54B8"
      },
      "execution_count": null,
      "outputs": []
    },
    {
      "cell_type": "code",
      "source": [
        "# Print the regression evaluation metrics or KPI after prediction on test dataset\n",
        "print(\"R2 on unseen data is : {:.2f}\".format(r2_score(y_test,y_ccf_predictions)))\n",
        "print(\"Mean Squared Error on unseen data is : {:.2f}\".format(mean_squared_error(y_test,y_ccf_predictions)))"
      ],
      "metadata": {
        "colab": {
          "base_uri": "https://localhost:8080/"
        },
        "id": "G29vzOFn6K7C",
        "outputId": "c4b68267-63ed-4857-cc57-2bc71ed3fe95"
      },
      "execution_count": null,
      "outputs": [
        {
          "output_type": "stream",
          "name": "stdout",
          "text": [
            "R2 on unseen data is : 0.82\n",
            "Mean Squared Error on unseen data is : 0.01\n"
          ]
        }
      ]
    },
    {
      "cell_type": "code",
      "source": [
        "# Visualizing the residual plot for Adaboost Regression Model\n",
        "residual_plot_visualizer = ResidualsPlot(optimized_adaboost_regression_model)\n",
        "residual_plot_visualizer.score(X_test, y_test)  # Evaluate the model on the Test data\n",
        "residual_plot_visualizer.show()               # Finalize and render the figure"
      ],
      "metadata": {
        "colab": {
          "base_uri": "https://localhost:8080/",
          "height": 393
        },
        "id": "sOjT08IF6nUW",
        "outputId": "0f228c50-93dc-4cb8-b62b-d7228d7e5732"
      },
      "execution_count": null,
      "outputs": [
        {
          "output_type": "display_data",
          "data": {
            "text/plain": [
              "<Figure size 576x396 with 2 Axes>"
            ],
            "image/png": "[encoded data removed]"
          },
          "metadata": {}
        },
        {
          "output_type": "execute_result",
          "data": {
            "text/plain": [
              "<AxesSubplot:title={'center':'Residuals for AdaBoostRegressor Model'}, xlabel='Predicted Value', ylabel='Residuals'>"
            ]
          },
          "metadata": {},
          "execution_count": 68
        }
      ]
    },
    {
      "cell_type": "markdown",
      "source": [
        "### Prediction Interpretation on Charged-Off Loan and calculation of Expected Loss using predicted CCF"
      ],
      "metadata": {
        "id": "BjjwGG85L0Xo"
      }
    },
    {
      "cell_type": "markdown",
      "source": [
        "**OBJECTIVE:**\n",
        "\n",
        "\n",
        ">The objective of this section is to perform the prediction on a new charged-off loan for CCF along with calculation of Expected loss and interpret the result "
      ],
      "metadata": {
        "id": "NpKKlJ_qmzIb"
      }
    },
    {
      "cell_type": "code",
      "source": [
        "!gdown 1Q0oiVpa8IGvih3lV2kpsZ4jrWhY5GKE0"
      ],
      "metadata": {
        "id": "nsaxTlQo69Wg",
        "colab": {
          "base_uri": "https://localhost:8080/"
        },
        "outputId": "e00c20a9-3eb1-4ef8-87a6-28cccd95782a"
      },
      "execution_count": null,
      "outputs": [
        {
          "output_type": "stream",
          "name": "stdout",
          "text": [
            "Downloading...\n",
            "From: https://drive.google.com/uc?id=1Q0oiVpa8IGvih3lV2kpsZ4jrWhY5GKE0\n",
            "To: /content/charged_off_loan.csv\n",
            "\r  0% 0.00/494 [00:00<?, ?B/s]\r100% 494/494 [00:00<00:00, 758kB/s]\n"
          ]
        }
      ]
    },
    {
      "cell_type": "code",
      "source": [
        "charged_off_loan_data = pd.read_csv(\"charged_off_loan.csv\")"
      ],
      "metadata": {
        "id": "X0C2YtfYFw8k"
      },
      "execution_count": null,
      "outputs": []
    },
    {
      "cell_type": "code",
      "source": [
        "charged_off_loan_data.head()"
      ],
      "metadata": {
        "colab": {
          "base_uri": "https://localhost:8080/",
          "height": 191
        },
        "id": "1o6qU_1OGZf-",
        "outputId": "ca2e7dab-10f6-410c-d95c-b6f1c642c30b"
      },
      "execution_count": null,
      "outputs": [
        {
          "output_type": "execute_result",
          "data": {
            "text/plain": [
              "  grade  total_rec_prncp home_ownership verification_status      purpose  \\\n",
              "0     B           625.53           RENT        Not Verified  credit_card   \n",
              "\n",
              "  initial_list_status        term emp_length   issue_d earliest_cr_line  ...  \\\n",
              "0                   f   36 months   < 1 year  Sep-2017         Apr-1987  ...   \n",
              "\n",
              "   mths_since_last_delinq mths_since_last_record  open_acc  pub_rec  \\\n",
              "0                    18.0                    NaN       7.0      0.0   \n",
              "\n",
              "   total_acc  acc_now_delinq  total_rev_hi_lim  revol_bal  out_prncp  \\\n",
              "0       27.0             0.0           27600.0    13188.0        0.0   \n",
              "\n",
              "   recoveries  \n",
              "0     10061.0  \n",
              "\n",
              "[1 rows x 26 columns]"
            ],
            "text/html": [
              "\n",
              "  <div id=\"df-83f28c13-03c6-4a6a-9ad4-c3840a18cfc6\">\n",
              "    <div class=\"colab-df-container\">\n",
              "      <div>\n",
              "<style scoped>\n",
              "    .dataframe tbody tr th:only-of-type {\n",
              "        vertical-align: middle;\n",
              "    }\n",
              "\n",
              "    .dataframe tbody tr th {\n",
              "        vertical-align: top;\n",
              "    }\n",
              "\n",
              "    .dataframe thead th {\n",
              "        text-align: right;\n",
              "    }\n",
              "</style>\n",
              "<table border=\"1\" class=\"dataframe\">\n",
              "  <thead>\n",
              "    <tr style=\"text-align: right;\">\n",
              "      <th></th>\n",
              "      <th>grade</th>\n",
              "      <th>total_rec_prncp</th>\n",
              "      <th>home_ownership</th>\n",
              "      <th>verification_status</th>\n",
              "      <th>purpose</th>\n",
              "      <th>initial_list_status</th>\n",
              "      <th>term</th>\n",
              "      <th>emp_length</th>\n",
              "      <th>issue_d</th>\n",
              "      <th>earliest_cr_line</th>\n",
              "      <th>...</th>\n",
              "      <th>mths_since_last_delinq</th>\n",
              "      <th>mths_since_last_record</th>\n",
              "      <th>open_acc</th>\n",
              "      <th>pub_rec</th>\n",
              "      <th>total_acc</th>\n",
              "      <th>acc_now_delinq</th>\n",
              "      <th>total_rev_hi_lim</th>\n",
              "      <th>revol_bal</th>\n",
              "      <th>out_prncp</th>\n",
              "      <th>recoveries</th>\n",
              "    </tr>\n",
              "  </thead>\n",
              "  <tbody>\n",
              "    <tr>\n",
              "      <th>0</th>\n",
              "      <td>B</td>\n",
              "      <td>625.53</td>\n",
              "      <td>RENT</td>\n",
              "      <td>Not Verified</td>\n",
              "      <td>credit_card</td>\n",
              "      <td>f</td>\n",
              "      <td>36 months</td>\n",
              "      <td>&lt; 1 year</td>\n",
              "      <td>Sep-2017</td>\n",
              "      <td>Apr-1987</td>\n",
              "      <td>...</td>\n",
              "      <td>18.0</td>\n",
              "      <td>NaN</td>\n",
              "      <td>7.0</td>\n",
              "      <td>0.0</td>\n",
              "      <td>27.0</td>\n",
              "      <td>0.0</td>\n",
              "      <td>27600.0</td>\n",
              "      <td>13188.0</td>\n",
              "      <td>0.0</td>\n",
              "      <td>10061.0</td>\n",
              "    </tr>\n",
              "  </tbody>\n",
              "</table>\n",
              "<p>1 rows × 26 columns</p>\n",
              "</div>\n",
              "      <button class=\"colab-df-convert\" onclick=\"convertToInteractive('df-83f28c13-03c6-4a6a-9ad4-c3840a18cfc6')\"\n",
              "              title=\"Convert this dataframe to an interactive table.\"\n",
              "              style=\"display:none;\">\n",
              "        \n",
              "  <svg xmlns=\"http://www.w3.org/2000/svg\" height=\"24px\"viewBox=\"0 0 24 24\"\n",
              "       width=\"24px\">\n",
              "    <path d=\"M0 0h24v24H0V0z\" fill=\"none\"/>\n",
              "    <path d=\"M18.56 5.44l.94 2.06.94-2.06 2.06-.94-2.06-.94-.94-2.06-.94 2.06-2.06.94zm-11 1L8.5 8.5l.94-2.06 2.06-.94-2.06-.94L8.5 2.5l-.94 2.06-2.06.94zm10 10l.94 2.06.94-2.06 2.06-.94-2.06-.94-.94-2.06-.94 2.06-2.06.94z\"/><path d=\"M17.41 7.96l-1.37-1.37c-.4-.4-.92-.59-1.43-.59-.52 0-1.04.2-1.43.59L10.3 9.45l-7.72 7.72c-.78.78-.78 2.05 0 2.83L4 21.41c.39.39.9.59 1.41.59.51 0 1.02-.2 1.41-.59l7.78-7.78 2.81-2.81c.8-.78.8-2.07 0-2.86zM5.41 20L4 18.59l7.72-7.72 1.47 1.35L5.41 20z\"/>\n",
              "  </svg>\n",
              "      </button>\n",
              "      \n",
              "  <style>\n",
              "    .colab-df-container {\n",
              "      display:flex;\n",
              "      flex-wrap:wrap;\n",
              "      gap: 12px;\n",
              "    }\n",
              "\n",
              "    .colab-df-convert {\n",
              "      background-color: #E8F0FE;\n",
              "      border: none;\n",
              "      border-radius: 50%;\n",
              "      cursor: pointer;\n",
              "      display: none;\n",
              "      fill: #1967D2;\n",
              "      height: 32px;\n",
              "      padding: 0 0 0 0;\n",
              "      width: 32px;\n",
              "    }\n",
              "\n",
              "    .colab-df-convert:hover {\n",
              "      background-color: #E2EBFA;\n",
              "      box-shadow: 0px 1px 2px rgba(60, 64, 67, 0.3), 0px 1px 3px 1px rgba(60, 64, 67, 0.15);\n",
              "      fill: #174EA6;\n",
              "    }\n",
              "\n",
              "    [theme=dark] .colab-df-convert {\n",
              "      background-color: #3B4455;\n",
              "      fill: #D2E3FC;\n",
              "    }\n",
              "\n",
              "    [theme=dark] .colab-df-convert:hover {\n",
              "      background-color: #434B5C;\n",
              "      box-shadow: 0px 1px 3px 1px rgba(0, 0, 0, 0.15);\n",
              "      filter: drop-shadow(0px 1px 2px rgba(0, 0, 0, 0.3));\n",
              "      fill: #FFFFFF;\n",
              "    }\n",
              "  </style>\n",
              "\n",
              "      <script>\n",
              "        const buttonEl =\n",
              "          document.querySelector('#df-83f28c13-03c6-4a6a-9ad4-c3840a18cfc6 button.colab-df-convert');\n",
              "        buttonEl.style.display =\n",
              "          google.colab.kernel.accessAllowed ? 'block' : 'none';\n",
              "\n",
              "        async function convertToInteractive(key) {\n",
              "          const element = document.querySelector('#df-83f28c13-03c6-4a6a-9ad4-c3840a18cfc6');\n",
              "          const dataTable =\n",
              "            await google.colab.kernel.invokeFunction('convertToInteractive',\n",
              "                                                     [key], {});\n",
              "          if (!dataTable) return;\n",
              "\n",
              "          const docLinkHtml = 'Like what you see? Visit the ' +\n",
              "            '<a target=\"_blank\" href=https://colab.research.google.com/notebooks/data_table.ipynb>data table notebook</a>'\n",
              "            + ' to learn more about interactive tables.';\n",
              "          element.innerHTML = '';\n",
              "          dataTable['output_type'] = 'display_data';\n",
              "          await google.colab.output.renderOutput(dataTable, element);\n",
              "          const docLink = document.createElement('div');\n",
              "          docLink.innerHTML = docLinkHtml;\n",
              "          element.appendChild(docLink);\n",
              "        }\n",
              "      </script>\n",
              "    </div>\n",
              "  </div>\n",
              "  "
            ]
          },
          "metadata": {},
          "execution_count": 90
        }
      ]
    },
    {
      "cell_type": "code",
      "source": [
        "funded_amount = charged_off_loan_data['funded_amnt']\n",
        "print(\"Amount funded to the borrower when the loan was approved: {:.2f}\".format(float(funded_amount)))"
      ],
      "metadata": {
        "colab": {
          "base_uri": "https://localhost:8080/"
        },
        "id": "ehJWIEgCHDSS",
        "outputId": "39717060-89a0-4b2c-f4b6-8be113546a92"
      },
      "execution_count": null,
      "outputs": [
        {
          "output_type": "stream",
          "name": "stdout",
          "text": [
            "Amount funded to the borrower when the loan was approved: 13000.00\n"
          ]
        }
      ]
    },
    {
      "cell_type": "code",
      "source": [
        "# apply data conversions to new data sample\n",
        "emp_length_converter(charged_off_loan_data, 'emp_length')\n",
        "loan_term_converter(charged_off_loan_data, 'term')\n",
        "int_rate_converter(charged_off_loan_data, 'int_rate')\n",
        "date_column_converter(charged_off_loan_data, 'issue_d')\n",
        "date_column_converter(charged_off_loan_data, 'earliest_cr_line')\n",
        "\n",
        "# new data sample\n",
        "object_to_numeric_converter(charged_off_loan_data,['dti',\n",
        "                                    'delinq_2yrs',\n",
        "                                    'mths_since_last_delinq',\n",
        "                                    'mths_since_last_record',\n",
        "                                    'open_acc',\n",
        "                                    'pub_rec',\n",
        "                                    'total_acc',\n",
        "                                    'acc_now_delinq',\n",
        "                                    'total_rev_hi_lim',\n",
        "                                    'mths_since_earliest_cr_line'])\n",
        "\n",
        "# impute missing values on new data sample\n",
        "charged_off_loan_data[null_numerical_columns] = random_sample_imputer.transform(charged_off_loan_data[null_numerical_columns])\n",
        "\n",
        "# encoding using one-hot encoding new data sample\n",
        "charged_off_loan_data = ohe_enc.transform(charged_off_loan_data)\n",
        "\n",
        "# perform scaling on new data sample\n",
        "charged_off_loan_data[numerical_columns] = scaler.transform(charged_off_loan_data[numerical_columns])"
      ],
      "metadata": {
        "id": "QjupEcjbGblb"
      },
      "execution_count": null,
      "outputs": []
    },
    {
      "cell_type": "code",
      "source": [
        "predicted_ccf = optimized_adaboost_regression_model.predict(charged_off_loan_data)[0]\n",
        "print(\"Credit Conversion Factor (CCF) predicted is: {:.3f}\".format(predicted_ccf))"
      ],
      "metadata": {
        "colab": {
          "base_uri": "https://localhost:8080/"
        },
        "id": "sdmOpqm1G055",
        "outputId": "f8c42132-8698-44fd-a033-e1f0b81ccd12"
      },
      "execution_count": null,
      "outputs": [
        {
          "output_type": "stream",
          "name": "stdout",
          "text": [
            "Credit Conversion Factor (CCF) predicted is: 0.907\n"
          ]
        }
      ]
    },
    {
      "cell_type": "code",
      "source": [
        "expected_loss = funded_amount*predicted_ccf\n",
        "print(\"Expected Loss to the Financial Institution after the Borrower Charged-Off is {:.3f} USD\".format(float(expected_loss)))"
      ],
      "metadata": {
        "colab": {
          "base_uri": "https://localhost:8080/"
        },
        "id": "zR4b6OPrG-Fl",
        "outputId": "d09c5e85-4b70-4147-de1b-9106933498eb"
      },
      "execution_count": null,
      "outputs": [
        {
          "output_type": "stream",
          "name": "stdout",
          "text": [
            "Expected Loss to the Financial Institution after the Borrower Charged-Off is 11792.261 USD\n"
          ]
        }
      ]
    },
    {
      "cell_type": "code",
      "source": [],
      "metadata": {
        "id": "aZO6Kjk5HsIQ"
      },
      "execution_count": null,
      "outputs": []
    }
  ],
  "metadata": {
    "colab": {
      "provenance": [],
      "toc_visible": true,
      "include_colab_link": true
    },
    "kernelspec": {
      "display_name": "Python 3",
      "name": "python3"
    },
    "language_info": {
      "name": "python"
    }
  },
  "nbformat": 4,
  "nbformat_minor": 0
}